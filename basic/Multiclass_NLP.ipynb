{
  "nbformat": 4,
  "nbformat_minor": 0,
  "metadata": {
    "colab": {
      "name": "Multiclass_NLP.ipynb",
      "provenance": [],
      "authorship_tag": "ABX9TyNLaJ8mmWsd96gj1FauQRPV",
      "include_colab_link": true
    },
    "kernelspec": {
      "name": "python3",
      "display_name": "Python 3"
    },
    "language_info": {
      "name": "python"
    },
    "accelerator": "GPU"
  },
  "cells": [
    {
      "cell_type": "markdown",
      "metadata": {
        "id": "view-in-github",
        "colab_type": "text"
      },
      "source": [
        "<a href=\"https://colab.research.google.com/github/riszwinger/tensorflow_cert/blob/main/basic/Multiclass_NLP.ipynb\" target=\"_parent\"><img src=\"https://colab.research.google.com/assets/colab-badge.svg\" alt=\"Open In Colab\"/></a>"
      ]
    },
    {
      "cell_type": "markdown",
      "metadata": {
        "id": "UgcgJC3uKWOF"
      },
      "source": [
        "## Exercise: multi-class classification on Stack Overflow questions \n",
        "\n",
        "A dataset has been prepared for you to use containing the body of several thousand programming questions (for example, \"How can sort a dictionary by value in Python?\") posted to Stack Overflow. Each of these is labeled with exactly one tag (either Python, CSharp, JavaScript, or Java). Your task is to take a question as input, and predict the appropriate tag, in this case, Python."
      ]
    },
    {
      "cell_type": "code",
      "metadata": {
        "colab": {
          "base_uri": "https://localhost:8080/"
        },
        "id": "Fq6BwdKBAf2x",
        "outputId": "6faa0e44-151f-4061-f42d-f921b8df31fe"
      },
      "source": [
        "import tensorflow as tf\n",
        "import os\n",
        "import matplotlib.pyplot as plt\n",
        "import string\n",
        "import re\n",
        "\n",
        "print('GPU is ','avaliable' if tf.config.list_physical_devices('GPU') else ' not avaliable')\n",
        "print('TF Version: {}'.format(tf.__version__\n",
        "))"
      ],
      "execution_count": 1,
      "outputs": [
        {
          "output_type": "stream",
          "text": [
            "GPU is  avaliable\n",
            "TF Version: 2.5.0\n"
          ],
          "name": "stdout"
        }
      ]
    },
    {
      "cell_type": "code",
      "metadata": {
        "colab": {
          "base_uri": "https://localhost:8080/"
        },
        "id": "pztsas-yA1t_",
        "outputId": "21d83b0a-265c-4e70-e883-6a8b831eac91"
      },
      "source": [
        "url=\"http://storage.googleapis.com/download.tensorflow.org/data/stack_overflow_16k.tar.gz\"\n",
        "data_dir=tf.keras.utils.get_file(fname='stack_overflow_16k',origin=url,untar=True)\n",
        "print(data_dir)"
      ],
      "execution_count": 2,
      "outputs": [
        {
          "output_type": "stream",
          "text": [
            "/root/.keras/datasets/stack_overflow_16k\n"
          ],
          "name": "stdout"
        }
      ]
    },
    {
      "cell_type": "code",
      "metadata": {
        "colab": {
          "base_uri": "https://localhost:8080/"
        },
        "id": "ooc33UIEBTyl",
        "outputId": "97f43f83-02ec-4e0e-b790-434f68424330"
      },
      "source": [
        "!ls /root/.keras/datasets/\n"
      ],
      "execution_count": 3,
      "outputs": [
        {
          "output_type": "stream",
          "text": [
            "README.md  stack_overflow_16k.tar.gz  test  train\n"
          ],
          "name": "stdout"
        }
      ]
    },
    {
      "cell_type": "code",
      "metadata": {
        "id": "A1AzOtQMBYJV"
      },
      "source": [
        "train_dir=os.path.join(os.path.dirname(data_dir),'train')\n",
        "test_dir=os.path.join(os.path.dirname(data_dir),'test')"
      ],
      "execution_count": 4,
      "outputs": []
    },
    {
      "cell_type": "code",
      "metadata": {
        "colab": {
          "base_uri": "https://localhost:8080/"
        },
        "id": "Qp8XLyUEBejZ",
        "outputId": "2433b7d4-3b10-40ed-f9ae-a14ae6bbb225"
      },
      "source": [
        "raw_train_ds=tf.keras.preprocessing.text_dataset_from_directory(directory=train_dir,seed=123,validation_split=0.2,subset='training')\n",
        "raw_valid_ds=tf.keras.preprocessing.text_dataset_from_directory(directory=train_dir,seed=123,validation_split=0.2,subset='validation')\n",
        "raw_test_ds=tf.keras.preprocessing.text_dataset_from_directory(directory=test_dir,seed=123)"
      ],
      "execution_count": 5,
      "outputs": [
        {
          "output_type": "stream",
          "text": [
            "Found 8000 files belonging to 4 classes.\n",
            "Using 6400 files for training.\n",
            "Found 8000 files belonging to 4 classes.\n",
            "Using 1600 files for validation.\n",
            "Found 8000 files belonging to 4 classes.\n"
          ],
          "name": "stdout"
        }
      ]
    },
    {
      "cell_type": "code",
      "metadata": {
        "colab": {
          "base_uri": "https://localhost:8080/"
        },
        "id": "A7urmJ19CD5i",
        "outputId": "02d72606-7650-4d49-f776-0165f22fa52b"
      },
      "source": [
        "raw_train_ds.class_names"
      ],
      "execution_count": 6,
      "outputs": [
        {
          "output_type": "execute_result",
          "data": {
            "text/plain": [
              "['csharp', 'java', 'javascript', 'python']"
            ]
          },
          "metadata": {
            "tags": []
          },
          "execution_count": 6
        }
      ]
    },
    {
      "cell_type": "code",
      "metadata": {
        "colab": {
          "base_uri": "https://localhost:8080/"
        },
        "id": "1ZHcMLevCI4l",
        "outputId": "9e5a3b65-47e7-4b79-da6d-0b0bbafe5ad3"
      },
      "source": [
        "text_val,lbl=next(iter(raw_train_ds))\n",
        "for i in range(5):\n",
        "  print(\"Label: {}\\nText: {}\".format(raw_train_ds.class_names[lbl[i].numpy()],text_val[i].numpy()))"
      ],
      "execution_count": 7,
      "outputs": [
        {
          "output_type": "stream",
          "text": [
            "Label: python\n",
            "Text: b'\"adding up count values of unique sequences in a txt file in 2 .txt files, i have 2 columns each having similar sequences with the second column in each file being count . part of the file,..    nnnncggttgnggtatgg      1.    nanntgtgaccatgaatg      1.    ngnntgagtcgtacgttt      1.    gtacactgtccaacgctg      1.    accctcccgcgtgcgctg      1.    tgnnnacagncanaaccc      8.    tgnnnacagncanaacca      3.    gnnngngggggcgngngt      1.    nnncgactaaacncgttg      1.    tgnnnacagncanaaccc      8...i want to add up the count values for each time the sequence occurs. .for example, \\xe2\\x80\\x9cnnnncggttgnggtatgg\\xe2\\x80\\x9d appears 3 times each with count 1 so the total read count for that sequence read would be 3. .i finally hope to retrieve read count for each sequence. (hope panda is not required for this)\"\\n'\n",
            "Label: python\n",
            "Text: b'\"is there a blank data structure with o(log n) deletion/insertion and supports indexing? while doing competitive coding, i came across a scenario where i needed o(log n) removal, while being able to support indexing (o(1) preferably) for a binary search. i essentially need to locate an element using a binary approach (currently using bisect), and then remove that element i found, which is currently a o(n) operation. i obviously cannot use libraries that are not built in, hence why blist is not an option, and i can\\'t use a set because that doesn\\'t support indexing. is there an alternative, or is using something like a binary tree the only option. if so, are there any easy pre-defined libraries in blank that i am able to use?\"\\n'\n",
            "Label: python\n",
            "Text: b'\"point wrapping algorithm - a blocked swinging door i\\'m trying to some some code in blank. basically what it does is simulates a door (viewed from above) on an (x,y) coordinate system. the task is given a list of points, determine which the door will hit first, if any...determining if a point is within range to be hit by the door is simple enough, determining which point gets hit first is proving to be difficult, as the door can swing clockwise or counter clockwise, and has a rather large, and variable range of swing (in terms of radians/degrees). the issue is mostly that i\\'m not sure what conditions need to be true for the point to be hit first...update:.i do have the angles calculated, but concerned about special cases such as when the door is at 1 degree, and swinging clockwise towards points at angles 180, 190, and 300 for example.\"\\n'\n",
            "Label: csharp\n",
            "Text: b'\"make a form to always stay on top of every window is there a way to have my form staying on top of all other windows in blank, like in java with ..setalwaysontop(true);\"\\n'\n",
            "Label: java\n",
            "Text: b'\"local variable is redundant blank can someone explain to me why it\\'s giving me \"\"local variable is redundant error\"\"?..public double depreciationamount() {.    double depreciationamount = (cost * percentdepreciated);.    return depreciationamount;.}\"\\n'\n"
          ],
          "name": "stdout"
        }
      ]
    },
    {
      "cell_type": "markdown",
      "metadata": {
        "id": "-TwLo5I2C0lP"
      },
      "source": [
        "## Standardize ---> Tokenzie ---> Vectorize"
      ]
    },
    {
      "cell_type": "code",
      "metadata": {
        "id": "NWgnrgExCRRS"
      },
      "source": [
        "def custom_standardize(input_data):\n",
        "  lowercase=tf.strings.lower(input_data)\n",
        "  return tf.strings.regex_replace(lowercase,'[%s]' % re.escape(string.punctuation),' ')"
      ],
      "execution_count": 8,
      "outputs": []
    },
    {
      "cell_type": "code",
      "metadata": {
        "colab": {
          "base_uri": "https://localhost:8080/"
        },
        "id": "OS3cu8DzDg2Q",
        "outputId": "25480c3c-3cca-413f-e288-db95956846f5"
      },
      "source": [
        "inp_str='\"remove null values from arraylist in blank using normal old method i am trying to remove null and empty value from a arraylist, but the following code does not work ,.when i tried to use if(null!=a) if throwing the nullpointer exception , but other way works then if(a==null), program 1 gives error but program 2 works...can someone please explain the reason ..public class removenull {.public static void main(string[] args) {.....list&lt;string&gt; arr=new arraylist&lt;string&gt;();.arr.add(\"\"a\"\");.arr.add(\"\"a\"\");.arr.add(\"\"a\"\");.arr.add(\"\"a\"\");.arr.add(null);.arr.add(\"\"a\"\");.arr.add(\"\"a\"\");.arr.add(null);..list&lt;string&gt; arr1=new arraylist&lt;string&gt;();.system.out.println(arr);.for(string a:arr)..{.    system.out.println(a);.    if(null!=a || !a.equals(\"\"\"\")).    {.        arr1.add(a);.        //arr.remove(a);.    }.    system.out.println(arr1);.}..system.out.println(arr);...}..results..exception in thread \"\"main\"\" blank.lang.nullpointerexception.    at removenull.main(removenull.blank:26)..public class removenull {..    public static void main(string[] args) {...        arraylist&lt;string&gt; arr=new arraylist&lt;string&gt;();.        arr.add(\"\"a\"\");.        arr.add(\"\"a\"\");.        arr.add(\"\"a\"\");.        arr.add(\"\"a\"\");.        arr.add(null);.        arr.add(\"\"a\"\");.        arr.add(\"\"a\"\");.        arr.add(\"\"\"\");.        arr.add(null);.        arr.add(\"\"\"\");.        list&lt;string&gt; arr1=new arraylist&lt;string&gt;();.        system.out.println(arr);.        for(string a:arr)..        {.            system.out.println(a);.            if(null==a || a.equals(\"\"\"\")).            {..            }.            else.            {.                arr1.add(a);.                //arr.remove(a);.            }.            system.out.println(arr1);.        }.        system.out.println(arr);..    }..}...results ..[a, a, a, a, null, a, a, null, null].[a, a, a, a, a, a]\"\\n'\n",
        "custom_standardize(inp_str).numpy()"
      ],
      "execution_count": 9,
      "outputs": [
        {
          "output_type": "execute_result",
          "data": {
            "text/plain": [
              "b' remove null values from arraylist in blank using normal old method i am trying to remove null and empty value from a arraylist  but the following code does not work   when i tried to use if null  a  if throwing the nullpointer exception   but other way works then if a  null   program 1 gives error but program 2 works   can someone please explain the reason   public class removenull   public static void main string   args        list lt string gt  arr new arraylist lt string gt     arr add   a     arr add   a     arr add   a     arr add   a     arr add null   arr add   a     arr add   a     arr add null    list lt string gt  arr1 new arraylist lt string gt     system out println arr   for string a arr         system out println a       if null  a     a equals                      arr1 add a             arr remove a             system out println arr1      system out println arr        results  exception in thread   main   blank lang nullpointerexception     at removenull main removenull blank 26   public class removenull        public static void main string   args              arraylist lt string gt  arr new arraylist lt string gt             arr add   a             arr add   a             arr add   a             arr add   a             arr add null           arr add   a             arr add   a             arr add                arr add null           arr add                list lt string gt  arr1 new arraylist lt string gt             system out println arr           for string a arr                         system out println a               if null  a    a equals                                                 else                               arr1 add a                     arr remove a                             system out println arr1                     system out println arr               results    a  a  a  a  null  a  a  null  null   a  a  a  a  a  a  \\n'"
            ]
          },
          "metadata": {
            "tags": []
          },
          "execution_count": 9
        }
      ]
    },
    {
      "cell_type": "code",
      "metadata": {
        "id": "ikuhcTJnDrQj"
      },
      "source": [
        "max_features=10000\n",
        "seq_length=200\n",
        "\n",
        "vectorize_layer=tf.keras.layers.experimental.preprocessing.TextVectorization(max_tokens=max_features,standardize=custom_standardize,output_sequence_length=seq_length)"
      ],
      "execution_count": 10,
      "outputs": []
    },
    {
      "cell_type": "markdown",
      "metadata": {
        "id": "_whzGdIZEf_K"
      },
      "source": [
        "## Adapt to create Vocab after Vectorize layer"
      ]
    },
    {
      "cell_type": "code",
      "metadata": {
        "colab": {
          "base_uri": "https://localhost:8080/"
        },
        "id": "0IjXK4yaEWrx",
        "outputId": "955bd945-264e-4823-9e2d-a16e391ef3ae"
      },
      "source": [
        "text_data=raw_train_ds.map(lambda x,y:x)\n",
        "vectorize_layer.adapt(text_data)\n",
        "print('Vocab Size: {}'.format(len(vectorize_layer.get_vocabulary())))"
      ],
      "execution_count": 11,
      "outputs": [
        {
          "output_type": "stream",
          "text": [
            "Vocab Size: 10000\n"
          ],
          "name": "stdout"
        }
      ]
    },
    {
      "cell_type": "code",
      "metadata": {
        "id": "DcBznGmYEzWQ"
      },
      "source": [
        "def vectorize_text(text,lbl):\n",
        "  text1=tf.expand_dims(text,axis=-1)\n",
        "  return vectorize_layer(text1),lbl"
      ],
      "execution_count": 12,
      "outputs": []
    },
    {
      "cell_type": "code",
      "metadata": {
        "colab": {
          "base_uri": "https://localhost:8080/"
        },
        "id": "UvSPXVNFFDWv",
        "outputId": "fd196525-14cb-4c29-c4ac-b6996e5b6116"
      },
      "source": [
        "txt,lbl=next(iter(raw_train_ds))\n",
        "first_txt,first_lbl=txt[0],lbl[0]\n",
        "txt_op,lbl_op=vectorize_text(first_txt,first_lbl)\n",
        "print(raw_train_ds.class_names[first_lbl.numpy()])\n",
        "print(first_txt.numpy())\n",
        "print(txt_op)"
      ],
      "execution_count": 13,
      "outputs": [
        {
          "output_type": "stream",
          "text": [
            "javascript\n",
            "b'\"blank: display not changing from \"\"block\"\" to \"\"none\"\" after clicking elements (the red square), the func function gets called and it gets the first child node, then that node changes it\\'s children display to block. now, i\\'m trying to set them back to none after clicking background_dim (the dark background) by getting background_dim\\'s parent node, then iterating throught the children and setting their display to none. but apparently this doesn\\'t work. it only works if i set their position to relative, but i\\'d have to change the other function as well.....function func(element) {.  var _first_child = element.children[0];.  for (var i = 0; i &lt; _first_child.children.length; ++i).    _first_child.children[i].style.display = \"\"block\"\";.}..function func_t(element) {.  var _parent = element.parentnode;.  for (var i = 0; i &lt; _parent.children.length; ++i).    _parent.children[i].style.display = \"\"none\"\";.}..elements {.  width: 40px;.  height: 40px;.  background-color: red;.}...background {.  display: none;.  position: fixed;.  top: 0;.  bottom: 0;.  left: 0;.  right: 0;.  height: 100%;.  width: 100%;.  background-color: rgb(0, 0, 0, 0.7);.}...display-container.{.  display: none;.  position: fixed;.  top: 50%;.  bottom: 30%;.  left: 50%;.  right: 0;.  height: 100%;.  width: 100%;.  background-color: green;.  .}.&lt;html&gt;..  &lt;body&gt;.    &lt;ul&gt;.      &lt;li class=\"\"elements\"\" onclick=\"\"func(this);\"\"&gt;.        &lt;div class=\"\"_display_job_dim_\"\"&gt;.          &lt;div class=\"\"background\"\" onclick=\"\"func_t(this);\"\"&gt;&lt;/div&gt;.          &lt;div class=\"\"display-container\"\"&gt;&lt;/div&gt;.        &lt;/div&gt;.      &lt;/li&gt;.    &lt;/ul&gt;.  &lt;/body&gt;. .&lt;/html&gt;.....https://jsfiddle.net/waxebm81/285/\"\\n'\n",
            "tf.Tensor(\n",
            "[[  18  229   35 1049   42  491    4  326  196 1452  405    3  672  877\n",
            "     3  850   32  664  331   10   16  664    3  126  522  306  116   21\n",
            "   306  860   16   47  873  229    4  491  162    2   59  122    4  124\n",
            "   265  503    4  326  196 1452  451 2439    3 1866  451  110  216  451\n",
            "  2439   47  394  306  116 2616    1    3  873   10 1072  515  229    4\n",
            "   326   33 3046   11  270   43  166   16  140  249   14    2  124  515\n",
            "   318    4 1974   33    2  127   25    4  221    3  174   32   50  605\n",
            "    32  850  253   40  126  522  253  873   12   17   40    2   12    2\n",
            "     7  126  522  873  105    2  126  522  873    2  246  229  491   32\n",
            "   850   43  253   40  394  253 2476   17   40    2   12    2    7  394\n",
            "   873  105    2  394  873    2  246  229  326  405  224 9231  290 9231\n",
            "   451  236  672  451  229  326  318 1227  528   12 1138   12  357   12\n",
            "   254   12  290  239  224  239  451  236 2981   12   12   12   12  175\n",
            "   229  771  229  326  318 1227  528  385 1138  420  357  385  254   12\n",
            "   290  239  224  239]], shape=(1, 200), dtype=int64)\n"
          ],
          "name": "stdout"
        }
      ]
    },
    {
      "cell_type": "code",
      "metadata": {
        "id": "KcHy6ObWFsYH"
      },
      "source": [
        "train_ds=raw_train_ds.map(vectorize_text)\n",
        "valid_ds=raw_valid_ds.map(vectorize_text)\n",
        "test_ds=raw_test_ds.map(vectorize_text)"
      ],
      "execution_count": 14,
      "outputs": []
    },
    {
      "cell_type": "markdown",
      "metadata": {
        "id": "mgIh_c5RFofY"
      },
      "source": [
        "## Performance Tuning"
      ]
    },
    {
      "cell_type": "code",
      "metadata": {
        "id": "_9HTBwlXFZKc"
      },
      "source": [
        "AUTOTUNE = tf.data.AUTOTUNE\n",
        "\n",
        "train_ds=train_ds.cache().prefetch(buffer_size=AUTOTUNE)\n",
        "valid_ds=valid_ds.cache().prefetch(buffer_size=AUTOTUNE)\n",
        "test_ds=test_ds.cache().prefetch(buffer_size=AUTOTUNE)"
      ],
      "execution_count": 15,
      "outputs": []
    },
    {
      "cell_type": "markdown",
      "metadata": {
        "id": "n7N-z0Y1GQOC"
      },
      "source": [
        "## Model Building"
      ]
    },
    {
      "cell_type": "code",
      "metadata": {
        "colab": {
          "base_uri": "https://localhost:8080/"
        },
        "id": "V6rorJTDGOKJ",
        "outputId": "c638cf69-c836-4fbc-a746-d995198d2722"
      },
      "source": [
        "model=tf.keras.models.Sequential()\n",
        "model.add(tf.keras.layers.Embedding(max_features+1,50))\n",
        "model.add(tf.keras.layers.Dropout(0.2))\n",
        "model.add(tf.keras.layers.GlobalAveragePooling1D())\n",
        "model.add(tf.keras.layers.Dropout(0.2))\n",
        "model.add((tf.keras.layers.Dense(len(raw_train_ds.class_names))))\n",
        "model.summary()"
      ],
      "execution_count": 16,
      "outputs": [
        {
          "output_type": "stream",
          "text": [
            "Model: \"sequential\"\n",
            "_________________________________________________________________\n",
            "Layer (type)                 Output Shape              Param #   \n",
            "=================================================================\n",
            "embedding (Embedding)        (None, None, 50)          500050    \n",
            "_________________________________________________________________\n",
            "dropout (Dropout)            (None, None, 50)          0         \n",
            "_________________________________________________________________\n",
            "global_average_pooling1d (Gl (None, 50)                0         \n",
            "_________________________________________________________________\n",
            "dropout_1 (Dropout)          (None, 50)                0         \n",
            "_________________________________________________________________\n",
            "dense (Dense)                (None, 4)                 204       \n",
            "=================================================================\n",
            "Total params: 500,254\n",
            "Trainable params: 500,254\n",
            "Non-trainable params: 0\n",
            "_________________________________________________________________\n"
          ],
          "name": "stdout"
        }
      ]
    },
    {
      "cell_type": "code",
      "metadata": {
        "id": "riN1txVTGpCV"
      },
      "source": [
        "model.compile(optimizer='adam',loss=tf.keras.losses.SparseCategoricalCrossentropy(from_logits=True),metrics=['accuracy'])"
      ],
      "execution_count": 17,
      "outputs": []
    },
    {
      "cell_type": "code",
      "metadata": {
        "colab": {
          "base_uri": "https://localhost:8080/"
        },
        "id": "ZXdoCnd9G2_5",
        "outputId": "0eaedba8-c7de-44be-9680-76170003ce58"
      },
      "source": [
        "history=model.fit(train_ds,epochs=10,validation_data=valid_ds)"
      ],
      "execution_count": 18,
      "outputs": [
        {
          "output_type": "stream",
          "text": [
            "Epoch 1/10\n",
            "200/200 [==============================] - 4s 16ms/step - loss: 1.3427 - accuracy: 0.5530 - val_loss: 1.2757 - val_accuracy: 0.6137\n",
            "Epoch 2/10\n",
            "200/200 [==============================] - 1s 7ms/step - loss: 1.1635 - accuracy: 0.7028 - val_loss: 1.0628 - val_accuracy: 0.7169\n",
            "Epoch 3/10\n",
            "200/200 [==============================] - 1s 7ms/step - loss: 0.9398 - accuracy: 0.7678 - val_loss: 0.8786 - val_accuracy: 0.7756\n",
            "Epoch 4/10\n",
            "200/200 [==============================] - 1s 7ms/step - loss: 0.7685 - accuracy: 0.8098 - val_loss: 0.7522 - val_accuracy: 0.7994\n",
            "Epoch 5/10\n",
            "200/200 [==============================] - 1s 7ms/step - loss: 0.6486 - accuracy: 0.8359 - val_loss: 0.6668 - val_accuracy: 0.8131\n",
            "Epoch 6/10\n",
            "200/200 [==============================] - 1s 7ms/step - loss: 0.5624 - accuracy: 0.8591 - val_loss: 0.6058 - val_accuracy: 0.8213\n",
            "Epoch 7/10\n",
            "200/200 [==============================] - 1s 7ms/step - loss: 0.4997 - accuracy: 0.8764 - val_loss: 0.5612 - val_accuracy: 0.8306\n",
            "Epoch 8/10\n",
            "200/200 [==============================] - 1s 7ms/step - loss: 0.4477 - accuracy: 0.8888 - val_loss: 0.5274 - val_accuracy: 0.8369\n",
            "Epoch 9/10\n",
            "200/200 [==============================] - 1s 7ms/step - loss: 0.4045 - accuracy: 0.8991 - val_loss: 0.5012 - val_accuracy: 0.8356\n",
            "Epoch 10/10\n",
            "200/200 [==============================] - 1s 7ms/step - loss: 0.3698 - accuracy: 0.9083 - val_loss: 0.4803 - val_accuracy: 0.8388\n"
          ],
          "name": "stdout"
        }
      ]
    },
    {
      "cell_type": "code",
      "metadata": {
        "colab": {
          "base_uri": "https://localhost:8080/",
          "height": 370
        },
        "id": "k6X6-wQGG7aD",
        "outputId": "ee06e2b3-1cf5-4200-f624-d51287136898"
      },
      "source": [
        "import matplotlib.pyplot as plt\n",
        "\n",
        "fig,ax=plt.subplots(1,2,figsize=(12,5))\n",
        "epochs=range(len(history.history['accuracy']))\n",
        "\n",
        "ax[0].plot(epochs,history.history['accuracy'],label='train',lw=2,marker='o',color='tomato')\n",
        "ax[0].plot(epochs,history.history['val_accuracy'],label='val',lw=2,marker='*',color='teal')\n",
        "ax[0].set_title('Accuracy')\n",
        "ax[0].set_ylabel('Accuracy')\n",
        "ax[0].set_xlabel('Epochs')\n",
        "ax[0].legend()\n",
        "\n",
        "\n",
        "ax[1].plot(epochs,history.history['loss'],label='train',lw=2,marker='o',color='tomato')\n",
        "ax[1].plot(epochs,history.history['val_loss'],label='val',lw=2,marker='o',color='teal')\n",
        "ax[1].set_title('Loss')\n",
        "ax[1].legend()\n",
        "\n",
        "ax[1].set_ylabel('Loss')\n",
        "ax[1].set_xlabel('Epochs')\n",
        "plt.suptitle('Learning Curves')\n",
        "plt.show()"
      ],
      "execution_count": 19,
      "outputs": [
        {
          "output_type": "display_data",
          "data": {
            "image/png": "[encoded data removed]",
            "text/plain": [
              "<Figure size 864x360 with 2 Axes>"
            ]
          },
          "metadata": {
            "tags": [],
            "needs_background": "light"
          }
        }
      ]
    },
    {
      "cell_type": "markdown",
      "metadata": {
        "id": "9J4NT7odIT8l"
      },
      "source": [
        "## Looks like overfitting , let it slide for now, its too late, i'm sleepy"
      ]
    },
    {
      "cell_type": "code",
      "metadata": {
        "colab": {
          "base_uri": "https://localhost:8080/"
        },
        "id": "dd0m-0j1JCdo",
        "outputId": "e2f999d5-f821-4b00-9a6a-e9a2a368defe"
      },
      "source": [
        "model.evaluate(test_ds)"
      ],
      "execution_count": 22,
      "outputs": [
        {
          "output_type": "stream",
          "text": [
            "250/250 [==============================] - 2s 9ms/step - loss: 0.4707 - accuracy: 0.8464\n"
          ],
          "name": "stdout"
        },
        {
          "output_type": "execute_result",
          "data": {
            "text/plain": [
              "[0.4706994891166687, 0.8463749885559082]"
            ]
          },
          "metadata": {
            "tags": []
          },
          "execution_count": 22
        }
      ]
    },
    {
      "cell_type": "markdown",
      "metadata": {
        "id": "oJxHxrJwIdLj"
      },
      "source": [
        "## Deploy Model"
      ]
    },
    {
      "cell_type": "code",
      "metadata": {
        "id": "FU-XYAKFHKr9"
      },
      "source": [
        "export_model=tf.keras.models.Sequential([\n",
        "                                         vectorize_layer,\n",
        "                                         model,\n",
        "                                         tf.keras.layers.Activation('softmax')\n",
        "])"
      ],
      "execution_count": 25,
      "outputs": []
    },
    {
      "cell_type": "code",
      "metadata": {
        "colab": {
          "base_uri": "https://localhost:8080/"
        },
        "id": "QdhpxorlIxBm",
        "outputId": "1c47a038-d3f1-4d13-beec-3679327846df"
      },
      "source": [
        "export_model.compile(optimizer='adam',loss=tf.keras.losses.SparseCategoricalCrossentropy(from_logits=False),metrics=['accuracy'])\n",
        "export_model.evaluate(raw_test_ds)"
      ],
      "execution_count": 27,
      "outputs": [
        {
          "output_type": "stream",
          "text": [
            "250/250 [==============================] - 3s 10ms/step - loss: 0.4707 - accuracy: 0.8464\n"
          ],
          "name": "stdout"
        },
        {
          "output_type": "execute_result",
          "data": {
            "text/plain": [
              "[0.47069963812828064, 0.8463749885559082]"
            ]
          },
          "metadata": {
            "tags": []
          },
          "execution_count": 27
        }
      ]
    },
    {
      "cell_type": "code",
      "metadata": {
        "colab": {
          "base_uri": "https://localhost:8080/"
        },
        "id": "5CXMellnJJUB",
        "outputId": "88fa79db-6c02-47da-cbc9-0d6627d968fe"
      },
      "source": [
        "example=[\"django.db.utils.OperationalError: (1292, “Truncated incorrect INTEGER value: 'incompleted'”) django\",\n",
        "         \"Looking for an implementation of an abstract method\",\n",
        "         \"list item stay open on click a link or reload/refresh page\"]\n",
        "predictions=export_model.predict(example)    \n",
        "predictions"
      ],
      "execution_count": 29,
      "outputs": [
        {
          "output_type": "execute_result",
          "data": {
            "text/plain": [
              "array([[0.2783635 , 0.20593166, 0.26838145, 0.24732344],\n",
              "       [0.29803222, 0.23270428, 0.3051113 , 0.16415222],\n",
              "       [0.27440092, 0.12934966, 0.42383432, 0.17241511]], dtype=float32)"
            ]
          },
          "metadata": {
            "tags": []
          },
          "execution_count": 29
        }
      ]
    },
    {
      "cell_type": "code",
      "metadata": {
        "colab": {
          "base_uri": "https://localhost:8080/"
        },
        "id": "KoWinIlzJ66j",
        "outputId": "dd51b905-51c0-420c-df13-f574996a70c0"
      },
      "source": [
        "import numpy as np\n",
        "np.argmax(predictions,axis=1)"
      ],
      "execution_count": 37,
      "outputs": [
        {
          "output_type": "execute_result",
          "data": {
            "text/plain": [
              "array([0, 2, 2])"
            ]
          },
          "metadata": {
            "tags": []
          },
          "execution_count": 37
        }
      ]
    },
    {
      "cell_type": "code",
      "metadata": {
        "colab": {
          "base_uri": "https://localhost:8080/",
          "height": 35
        },
        "id": "4bkW3kyTKAEb",
        "outputId": "abe57a06-c459-4fc6-a23e-714db1e649bf"
      },
      "source": [
        "raw_train_ds.class_names[0]"
      ],
      "execution_count": 38,
      "outputs": [
        {
          "output_type": "execute_result",
          "data": {
            "application/vnd.google.colaboratory.intrinsic+json": {
              "type": "string"
            },
            "text/plain": [
              "'csharp'"
            ]
          },
          "metadata": {
            "tags": []
          },
          "execution_count": 38
        }
      ]
    },
    {
      "cell_type": "code",
      "metadata": {
        "colab": {
          "base_uri": "https://localhost:8080/",
          "height": 35
        },
        "id": "5tNAozOjKMdS",
        "outputId": "0f5ad61b-107f-45b5-caf1-1ffca3fdd4c8"
      },
      "source": [
        "raw_train_ds.class_names[2]"
      ],
      "execution_count": 39,
      "outputs": [
        {
          "output_type": "execute_result",
          "data": {
            "application/vnd.google.colaboratory.intrinsic+json": {
              "type": "string"
            },
            "text/plain": [
              "'javascript'"
            ]
          },
          "metadata": {
            "tags": []
          },
          "execution_count": 39
        }
      ]
    },
    {
      "cell_type": "code",
      "metadata": {
        "id": "qTD1XU-ZKNwg"
      },
      "source": [
        ""
      ],
      "execution_count": null,
      "outputs": []
    }
  ]
}