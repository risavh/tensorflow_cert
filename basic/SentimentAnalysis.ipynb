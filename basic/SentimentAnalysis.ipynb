{
  "nbformat": 4,
  "nbformat_minor": 0,
  "metadata": {
    "colab": {
      "name": "SentimentAnalysis.ipynb",
      "provenance": [],
      "collapsed_sections": [],
      "authorship_tag": "ABX9TyPU+Gdn3rg5fquw1bsNaImB",
      "include_colab_link": true
    },
    "kernelspec": {
      "name": "python3",
      "display_name": "Python 3"
    },
    "language_info": {
      "name": "python"
    },
    "accelerator": "GPU"
  },
  "cells": [
    {
      "cell_type": "markdown",
      "metadata": {
        "id": "view-in-github",
        "colab_type": "text"
      },
      "source": [
        "<a href=\"https://colab.research.google.com/github/riszwinger/tensorflow_cert/blob/main/basic/SentimentAnalysis.ipynb\" target=\"_parent\"><img src=\"https://colab.research.google.com/assets/colab-badge.svg\" alt=\"Open In Colab\"/></a>"
      ]
    },
    {
      "cell_type": "code",
      "metadata": {
        "colab": {
          "base_uri": "https://localhost:8080/"
        },
        "id": "h1oM8pIilekB",
        "outputId": "a964f56c-ef70-4adf-e21d-f484db654f3c"
      },
      "source": [
        "import tensorflow as tf\n",
        "import os\n",
        "import random\n",
        "import shutil\n",
        "import re\n",
        "import string\n",
        "print('GPU is ','avaliable :)' if tf.config.list_physical_devices('GPU') else ' not avaliable :(')\n",
        "print(\"TF Version: {}\".format(tf.__version__))"
      ],
      "execution_count": null,
      "outputs": [
        {
          "output_type": "stream",
          "text": [
            "GPU is  avaliable :)\n",
            "TF Version: 2.5.0\n"
          ],
          "name": "stdout"
        }
      ]
    },
    {
      "cell_type": "code",
      "metadata": {
        "colab": {
          "base_uri": "https://localhost:8080/"
        },
        "id": "9jRN90sx688D",
        "outputId": "8ba05f29-1640-462c-86d3-ba3f700c4bc7"
      },
      "source": [
        "url = \"https://ai.stanford.edu/~amaas/data/sentiment/aclImdb_v1.tar.gz\"\n",
        "\n",
        "data_dir=tf.keras.utils.get_file(fname='aclImdb_v1',origin=url,untar=True,)\n",
        "print(data_dir)"
      ],
      "execution_count": null,
      "outputs": [
        {
          "output_type": "stream",
          "text": [
            "/root/.keras/datasets/aclImdb_v1\n"
          ],
          "name": "stdout"
        }
      ]
    },
    {
      "cell_type": "code",
      "metadata": {
        "colab": {
          "base_uri": "https://localhost:8080/"
        },
        "id": "QTAG1MMV7mqD",
        "outputId": "e0d21d91-faa0-458e-b0e7-2c1965e899ef"
      },
      "source": [
        "!ls /root/.keras/datasets/aclImdb\n"
      ],
      "execution_count": null,
      "outputs": [
        {
          "output_type": "stream",
          "text": [
            "imdbEr.txt  imdb.vocab\tREADME\ttest  train\n"
          ],
          "name": "stdout"
        }
      ]
    },
    {
      "cell_type": "code",
      "metadata": {
        "colab": {
          "base_uri": "https://localhost:8080/"
        },
        "id": "_cIXpvTT7wEV",
        "outputId": "c258b825-2e89-4bec-963c-8823550d0431"
      },
      "source": [
        "!ls /root/.keras/datasets/aclImdb/train\n"
      ],
      "execution_count": null,
      "outputs": [
        {
          "output_type": "stream",
          "text": [
            "labeledBow.feat  pos\tunsupBow.feat  urls_pos.txt\n",
            "neg\t\t unsup\turls_neg.txt   urls_unsup.txt\n"
          ],
          "name": "stdout"
        }
      ]
    },
    {
      "cell_type": "code",
      "metadata": {
        "colab": {
          "base_uri": "https://localhost:8080/"
        },
        "id": "Z0epPJFP8SNz",
        "outputId": "0035c9bc-d1ed-416a-e7a3-e275bce235a8"
      },
      "source": [
        "!ls /root/.keras/datasets/aclImdb/test\n"
      ],
      "execution_count": null,
      "outputs": [
        {
          "output_type": "stream",
          "text": [
            "labeledBow.feat  neg  pos  urls_neg.txt  urls_pos.txt\n"
          ],
          "name": "stdout"
        }
      ]
    },
    {
      "cell_type": "markdown",
      "metadata": {
        "id": "1Fix7-GM8WR5"
      },
      "source": [
        "## Need to  get rid of some uncesssary files"
      ]
    },
    {
      "cell_type": "code",
      "metadata": {
        "id": "xmszbjtg72vr"
      },
      "source": [
        "train_dir=\"/root/.keras/datasets/aclImdb/train\"\n",
        "test_dir=\"/root/.keras/datasets/aclImdb/test\""
      ],
      "execution_count": null,
      "outputs": []
    },
    {
      "cell_type": "code",
      "metadata": {
        "colab": {
          "base_uri": "https://localhost:8080/"
        },
        "id": "TEZPFWiE7_cJ",
        "outputId": "57f826e2-76db-4774-fe9a-104dd93b8368"
      },
      "source": [
        "os.listdir(os.path.join(train_dir,'pos'))[:3]"
      ],
      "execution_count": null,
      "outputs": [
        {
          "output_type": "execute_result",
          "data": {
            "text/plain": [
              "['10217_9.txt', '2611_9.txt', '10105_8.txt']"
            ]
          },
          "metadata": {
            "tags": []
          },
          "execution_count": 83
        }
      ]
    },
    {
      "cell_type": "markdown",
      "metadata": {
        "id": "RedHyFjT-H3u"
      },
      "source": [
        "## Random Data Check\n",
        "\n",
        "\n",
        "\n"
      ]
    },
    {
      "cell_type": "code",
      "metadata": {
        "colab": {
          "base_uri": "https://localhost:8080/"
        },
        "id": "i4aQ2kbj88En",
        "outputId": "0c398a6f-04cb-4ac9-af73-cb852678bc42"
      },
      "source": [
        "ip=random.choice(['pos','neg'])\n",
        "fname=os.path.join(train_dir,ip,os.listdir(os.path.join(train_dir,ip))[random.randint(0,len(os.listdir(os.path.join(train_dir,ip))))])\n",
        "print('File:',fname)\n",
        "with open(fname) as f:\n",
        "  print('Setiment: {}\\nText: {}'.format(ip,f.read()))"
      ],
      "execution_count": null,
      "outputs": [
        {
          "output_type": "stream",
          "text": [
            "File: /root/.keras/datasets/aclImdb/train/pos/7982_10.txt\n",
            "Setiment: pos\n",
            "Text: I am amazed that movies like this can still be made. I watch all kinds of movies all the time with my friends and i can say that this is one of the best i ever seen. Never thinked that a movie of 146 minutes can make me think about it on and on.<br /><br />Washington, charismatic and intense as ever, plays Creasy, a washed-up ex-counter-terrorist agent who's taken to the bottle. Once he's assigned to protect young Pita (Dakota Fanning) in Mexico City, his emotional and redemptive arc is jump-started in the way only an adorable little girl can provide. Inevitably, Pita is kidnapped by thugs, and Creasy decides that most of Mexico City must pay the price for daring to take away his character's teddy-bear-clutching catalyst. Yes, he has become...a Man on Fire. <br /><br />You must see this movie.\n"
          ],
          "name": "stdout"
        }
      ]
    },
    {
      "cell_type": "markdown",
      "metadata": {
        "id": "oJCIN-hV-pMU"
      },
      "source": [
        "## Reading Data"
      ]
    },
    {
      "cell_type": "code",
      "metadata": {
        "colab": {
          "base_uri": "https://localhost:8080/"
        },
        "id": "3KvGH3EQ9Jfx",
        "outputId": "544cc46d-0ab8-44c5-9aeb-1d363ec48c6c"
      },
      "source": [
        "train_ds=tf.keras.preprocessing.text_dataset_from_directory(train_dir,seed=123,validation_split=0.2,subset='training',)\n",
        "valid_ds=tf.keras.preprocessing.text_dataset_from_directory(train_dir,seed=123,validation_split=0.2,subset='validation')\n",
        "test_ds=tf.keras.preprocessing.text_dataset_from_directory(test_dir,seed=123)\n"
      ],
      "execution_count": null,
      "outputs": [
        {
          "output_type": "stream",
          "text": [
            "Found 75000 files belonging to 3 classes.\n",
            "Using 60000 files for training.\n",
            "Found 75000 files belonging to 3 classes.\n",
            "Using 15000 files for validation.\n",
            "Found 25000 files belonging to 2 classes.\n"
          ],
          "name": "stdout"
        }
      ]
    },
    {
      "cell_type": "markdown",
      "metadata": {
        "id": "nvzcGZn-_Mie"
      },
      "source": [
        "## Something wrong with Training splits , as it reads 3 classes inteead of 2 so lets check"
      ]
    },
    {
      "cell_type": "code",
      "metadata": {
        "colab": {
          "base_uri": "https://localhost:8080/"
        },
        "id": "6sW6fdZh_Gbd",
        "outputId": "0c6e832a-df51-44ea-ab20-57e745418904"
      },
      "source": [
        "train_ds.class_names"
      ],
      "execution_count": null,
      "outputs": [
        {
          "output_type": "execute_result",
          "data": {
            "text/plain": [
              "['neg', 'pos', 'unsup']"
            ]
          },
          "metadata": {
            "tags": []
          },
          "execution_count": 86
        }
      ]
    },
    {
      "cell_type": "markdown",
      "metadata": {
        "id": "VmpPZmhw_WcO"
      },
      "source": [
        "**It seems  it reads unsup folder as one of the class, so lets drop that folder**"
      ]
    },
    {
      "cell_type": "code",
      "metadata": {
        "id": "0vwDSuZn_VMD"
      },
      "source": [
        "remove_dir = os.path.join(train_dir, 'unsup')\n",
        "shutil.rmtree(remove_dir)"
      ],
      "execution_count": null,
      "outputs": []
    },
    {
      "cell_type": "code",
      "metadata": {
        "colab": {
          "base_uri": "https://localhost:8080/"
        },
        "id": "KIjSiS0U_sH-",
        "outputId": "80e74e83-6e4a-46a2-e2a8-37cea46a6105"
      },
      "source": [
        "train_ds=tf.keras.preprocessing.text_dataset_from_directory(train_dir,seed=123,validation_split=0.2,subset='training',)\n",
        "valid_ds=tf.keras.preprocessing.text_dataset_from_directory(train_dir,seed=123,validation_split=0.2,subset='validation')\n",
        "test_ds=tf.keras.preprocessing.text_dataset_from_directory(test_dir,seed=123)\n"
      ],
      "execution_count": null,
      "outputs": [
        {
          "output_type": "stream",
          "text": [
            "Found 25000 files belonging to 2 classes.\n",
            "Using 20000 files for training.\n",
            "Found 25000 files belonging to 2 classes.\n",
            "Using 5000 files for validation.\n",
            "Found 25000 files belonging to 2 classes.\n"
          ],
          "name": "stdout"
        }
      ]
    },
    {
      "cell_type": "markdown",
      "metadata": {
        "id": "a9-5DSAS_1Pv"
      },
      "source": [
        "## Great , everything seems to be inorder"
      ]
    },
    {
      "cell_type": "code",
      "metadata": {
        "colab": {
          "base_uri": "https://localhost:8080/"
        },
        "id": "XfHYxnDR_y7a",
        "outputId": "b5269794-9e2e-4b14-9dab-f638f292b731"
      },
      "source": [
        "for txt, lbl in train_ds.take(1):\n",
        "  for i in range(3):\n",
        "    print('Text: {}\\nlabel: {} '.format(txt[i].numpy(),lbl[i].numpy()))"
      ],
      "execution_count": null,
      "outputs": [
        {
          "output_type": "stream",
          "text": [
            "Text: b'After, I watched the films... I thought, \"Why the heck was this film such a high success in the Korean Box Office?\" Even thought the movie had a clever/unusal scenario, the acting wasn\\'t that good and the characters weren\\'t very interesting. For a Korean movie... I liked the fighting scenes. If you want to watch a film without thinking, this is the film for you. But I got to admit... the film was kind of childish... 6/10'\n",
            "label: 1 \n",
            "Text: b'Or released on DVD or screened on a cable channel like Amer. Life TV network. I have been watching another favorite, \"Voyage to the Bottom of the Sea\", as well as \"Lost in Space\" and Land of Giants\". They\\'ve been showing them forever but aren\\'t receptive to suggestions for other shows. My father and I were big fans as I was already a big science/electronics nut, (still am) and my father was an old school chum of Nader. They both attended Oxy together. I still have memories of several of the episodes even though I was only 9. More so than any show that old. I think it was televised on Sat. after \"Bonanza\". Some of the episodes I recall are the one where he takes the experimental drug that slows down action. Or the one where he body surfs the big ones, (I did that too!) Or the one where there was a mine cave in and he conveys how to use mind control to have the trapped people slow their breathing by entering a trance-like state. That is the one show that I wish I could see again. I got my wish with the original \"Outer Limits\" and \"Sci-Fi Theater...John'\n",
            "label: 1 \n",
            "Text: b\"I saw Insomniac's Nightmare not to long ago for the first time and I have to say, I really found it to be quite good. If you are a fan of Dominic Monaghan you will love it. The hole movie takes place inside his mind -or does it? The acting from everyone else is a little rushed and shaky and some of the scenes could be cut down but it works out in the end. The extras on the DVD are just as great as the film, if not greater for those Dom fans. It has tons of candid moments from the set, outtakes and a great interview with the director. Anyone who has gone through making an independent film will love to watch Tess (the director), Dom and everyone else on the very small close personal set try to bang out this little trippy creepy film. It was pretty enjoyable and I'm glad to have it in my collection.\"\n",
            "label: 1 \n"
          ],
          "name": "stdout"
        }
      ]
    },
    {
      "cell_type": "code",
      "metadata": {
        "id": "69Oz7v2RBGYg"
      },
      "source": [
        "# Text: b\"You're using the IMDb.<br /><br />You've given some hefty votes to some of your favourite films.<br /><br />It's something you enjoy doing.<br /><br />And it's all because of this. Fifty seconds. One world ends, another begins.<br /><br />How can it not be given a ten? I wonder at those who give this a seven or an eight... exactly how could THE FIRST FILM EVER MADE be better? For the record, the long, still opening shot is great showmanship, a superb innovation, perfectly suited to the situation. And the dog on the bike is a lovely touch. All this within fifty seconds.<br /><br />The word genius is often overused.<br /><br />THIS is genius.\"\n"
      ],
      "execution_count": null,
      "outputs": []
    },
    {
      "cell_type": "markdown",
      "metadata": {
        "id": "1VqYAg2NBW2C"
      },
      "source": [
        "## Standardization ---> Tokenization ---> Vectorization"
      ]
    },
    {
      "cell_type": "code",
      "metadata": {
        "colab": {
          "base_uri": "https://localhost:8080/",
          "height": 35
        },
        "id": "Y-qBoYe3B7x_",
        "outputId": "75b6514b-1bd1-4980-9d90-64a194305651"
      },
      "source": [
        "string.punctuation"
      ],
      "execution_count": null,
      "outputs": [
        {
          "output_type": "execute_result",
          "data": {
            "application/vnd.google.colaboratory.intrinsic+json": {
              "type": "string"
            },
            "text/plain": [
              "'!\"#$%&\\'()*+,-./:;<=>?@[\\\\]^_`{|}~'"
            ]
          },
          "metadata": {
            "tags": []
          },
          "execution_count": 91
        }
      ]
    },
    {
      "cell_type": "code",
      "metadata": {
        "colab": {
          "base_uri": "https://localhost:8080/",
          "height": 35
        },
        "id": "w9Ztm1vLCOxz",
        "outputId": "f208b268-dc0b-49ca-bba6-12b52faadce1"
      },
      "source": [
        "re.escape(string.punctuation)"
      ],
      "execution_count": null,
      "outputs": [
        {
          "output_type": "execute_result",
          "data": {
            "application/vnd.google.colaboratory.intrinsic+json": {
              "type": "string"
            },
            "text/plain": [
              "'!\"\\\\#\\\\$%\\\\&\\'\\\\(\\\\)\\\\*\\\\+,\\\\-\\\\./:;<=>\\\\?@\\\\[\\\\\\\\\\\\]\\\\^_`\\\\{\\\\|\\\\}\\\\~'"
            ]
          },
          "metadata": {
            "tags": []
          },
          "execution_count": 92
        }
      ]
    },
    {
      "cell_type": "code",
      "metadata": {
        "colab": {
          "base_uri": "https://localhost:8080/",
          "height": 35
        },
        "id": "KMfFFFtvCYsM",
        "outputId": "48efff68-92f3-4300-a0fd-a1ac90b04ac7"
      },
      "source": [
        "'[%s]' % re.escape(string.punctuation)"
      ],
      "execution_count": null,
      "outputs": [
        {
          "output_type": "execute_result",
          "data": {
            "application/vnd.google.colaboratory.intrinsic+json": {
              "type": "string"
            },
            "text/plain": [
              "'[!\"\\\\#\\\\$%\\\\&\\'\\\\(\\\\)\\\\*\\\\+,\\\\-\\\\./:;<=>\\\\?@\\\\[\\\\\\\\\\\\]\\\\^_`\\\\{\\\\|\\\\}\\\\~]'"
            ]
          },
          "metadata": {
            "tags": []
          },
          "execution_count": 93
        }
      ]
    },
    {
      "cell_type": "code",
      "metadata": {
        "id": "3WiBh1nIAKxg"
      },
      "source": [
        "def custom_standarization(input_data):\n",
        "  lowercase=tf.strings.lower(input_data)\n",
        "  remove_brk=tf.strings.regex_replace(lowercase,'<br />',' ')\n",
        "  remove_punc=tf.strings.regex_replace(remove_brk,'[%s]' % re.escape(string.punctuation),'')\n",
        "  return remove_punc"
      ],
      "execution_count": null,
      "outputs": []
    },
    {
      "cell_type": "code",
      "metadata": {
        "colab": {
          "base_uri": "https://localhost:8080/"
        },
        "id": "nOmym5a4Cqxm",
        "outputId": "3c375b79-4d20-4299-b412-bca00876c6cb"
      },
      "source": [
        "str1=b\"You're using the IMDb.<br /><br />You've given some hefty votes to some of your favourite films.<br /><br />It's something you enjoy doing.<br /><br />And it's all because of this. Fifty seconds. One world ends, another begins.<br /><br />How can it not be given a ten? I wonder at those who give this a seven or an eight... exactly how could THE FIRST FILM EVER MADE be better? For the record, the long, still opening shot is great showmanship, a superb innovation, perfectly suited to the situation. And the dog on the bike is a lovely touch. All this within fifty seconds.<br /><br />The word genius is often overused.<br /><br />THIS is genius.\"\n",
        "custom_standarization(str1).numpy()"
      ],
      "execution_count": null,
      "outputs": [
        {
          "output_type": "execute_result",
          "data": {
            "text/plain": [
              "b'youre using the imdb  youve given some hefty votes to some of your favourite films  its something you enjoy doing  and its all because of this fifty seconds one world ends another begins  how can it not be given a ten i wonder at those who give this a seven or an eight exactly how could the first film ever made be better for the record the long still opening shot is great showmanship a superb innovation perfectly suited to the situation and the dog on the bike is a lovely touch all this within fifty seconds  the word genius is often overused  this is genius'"
            ]
          },
          "metadata": {
            "tags": []
          },
          "execution_count": 95
        }
      ]
    },
    {
      "cell_type": "code",
      "metadata": {
        "id": "jLUJdQCaCyHK"
      },
      "source": [
        "max_features=10000\n",
        "max_seq=250\n",
        "vectorize_layer=tf.keras.layers.experimental.preprocessing.TextVectorization(max_tokens=max_features,standardize=custom_standarization,output_sequence_length=max_seq)"
      ],
      "execution_count": null,
      "outputs": []
    },
    {
      "cell_type": "code",
      "metadata": {
        "id": "15aONVAODy8k"
      },
      "source": [
        "train_text=train_ds.map(lambda x,y:x)\n",
        "vectorize_layer.adapt(train_text)"
      ],
      "execution_count": null,
      "outputs": []
    },
    {
      "cell_type": "code",
      "metadata": {
        "id": "A6xK-_kaEQwQ"
      },
      "source": [
        "def vetorize_text(input_data,label):\n",
        "  text=tf.expand_dims(input_data,-1)\n",
        "  return vectorize_layer(text),label"
      ],
      "execution_count": null,
      "outputs": []
    },
    {
      "cell_type": "code",
      "metadata": {
        "id": "ncqLIpUFLx-K"
      },
      "source": [
        "text_val,label_val=next(iter(train_ds))"
      ],
      "execution_count": null,
      "outputs": []
    },
    {
      "cell_type": "code",
      "metadata": {
        "colab": {
          "base_uri": "https://localhost:8080/"
        },
        "id": "ktoWvlfrL42I",
        "outputId": "c7efe096-a38a-4151-a4ac-36abf1bf113a"
      },
      "source": [
        "first_text,first_lbl=text_val[0],label_val[0]\n",
        "print('first_text:',custom_standarization(first_text.numpy()))\n",
        "vec_txt,vec_lbl=vetorize_text(first_text,first_lbl)\n",
        "print(vec_txt,'------',vec_lbl)"
      ],
      "execution_count": null,
      "outputs": [
        {
          "output_type": "stream",
          "text": [
            "first_text: tf.Tensor(b'this documentary now available free on videogooglecom is a fantastic demonstration of the power of ordinary people to overcome injustice everyone must see this  chavez was elected in a landslide vote in 1998 his platform was to divert the fantastic oil wealth from the 20 middle class to the 80 poor he banned foreign drift net fishing in venezuelan waters he sent 10000 cuban doctors to the slums to treat the sick for free he wiped out illiteracy and set up new free universities   but it was his 30 tax on oil company profits that got him in trouble with the bush administration in 2002 while irish film makers kim bartley and donnacha obriain were interviewing chavez inside the presidential palace about his social programs a cia backed coup was launched with the cameras rolling chavez was captured and flown out of the country it was announced on national tv that he had resigned  but the poor of venezuela didnt believe the media they went to the palace in their millions and demanded that chavez be returned in the face of such overwhelming numbers the military turned on the coup leaders and the plotters fled to the us chavez was rescued by military helicopter and returned to jubilation', shape=(), dtype=string)\n",
            "tf.Tensor(\n",
            "[[  11  673  148 1419  960   20    1    7    4  766    1    5    2  657\n",
            "     5 1820   77    6 3061 8095  304  219   65   11 6068   13 8484    8\n",
            "     4    1 2174    8 6675   24 7496   13    6    1    2  766 3359 3698\n",
            "    35    2  961  767  797    6    2 3507  340   27 3941 2074 8128 5850\n",
            "  5709    8    1 3985   27 1363    1 6427 3858    6    2    1    6 1619\n",
            "     2 1180   16  960   27 6566   44    1    3  278   55  157  960    1\n",
            "    18    9   13   24 1198 6939   20 3359 1137    1   12  186   88    8\n",
            "  1128   15    2 3473 9211    8 3722  134 2552   19 1355 2551    1    3\n",
            "     1    1   66    1 6068  981    2 9044 5391   42   24 1019 5600    4\n",
            "  3668 7429 5883   13    1   15    2 3904 2718 6068   13 1818    3    1\n",
            "    44    5    2  686    9   13 7993   20 2004  244   12   27   67    1\n",
            "    18    2  340    5    1  153  255    2 1804   34  417    6    2 5391\n",
            "     8   64 3039    3    1   12 6068   26 3537    8    2  376    5  136\n",
            "  4196 1471    2 1255  670   20    2 5883 5524    3    2    1    1    6\n",
            "     2  170 6068   13 6712   32 1255 4121    3 3537    6    1    0    0\n",
            "     0    0    0    0    0    0    0    0    0    0    0    0    0    0\n",
            "     0    0    0    0    0    0    0    0    0    0    0    0    0    0\n",
            "     0    0    0    0    0    0    0    0    0    0    0    0]], shape=(1, 250), dtype=int64) ------ tf.Tensor(1, shape=(), dtype=int32)\n"
          ],
          "name": "stdout"
        }
      ]
    },
    {
      "cell_type": "code",
      "metadata": {
        "colab": {
          "base_uri": "https://localhost:8080/",
          "height": 163
        },
        "id": "P5qChFvGL5-w",
        "outputId": "fdb3e177-92a9-4f67-eb5b-53ffab5d67a9"
      },
      "source": [
        "vectorize_layer.get_vocabulary('of')"
      ],
      "execution_count": null,
      "outputs": [
        {
          "output_type": "error",
          "ename": "TypeError",
          "evalue": "ignored",
          "traceback": [
            "\u001b[0;31m---------------------------------------------------------------------------\u001b[0m",
            "\u001b[0;31mTypeError\u001b[0m                                 Traceback (most recent call last)",
            "\u001b[0;32m<ipython-input-104-dd4e242f3a32>\u001b[0m in \u001b[0;36m<module>\u001b[0;34m()\u001b[0m\n\u001b[0;32m----> 1\u001b[0;31m \u001b[0mvectorize_layer\u001b[0m\u001b[0;34m.\u001b[0m\u001b[0mget_vocabulary\u001b[0m\u001b[0;34m(\u001b[0m\u001b[0;34m'of'\u001b[0m\u001b[0;34m)\u001b[0m\u001b[0;34m\u001b[0m\u001b[0;34m\u001b[0m\u001b[0m\n\u001b[0m",
            "\u001b[0;31mTypeError\u001b[0m: get_vocabulary() takes 1 positional argument but 2 were given"
          ]
        }
      ]
    },
    {
      "cell_type": "code",
      "metadata": {
        "id": "lVEh3e5zM3UP"
      },
      "source": [
        ""
      ],
      "execution_count": null,
      "outputs": []
    }
  ]
}