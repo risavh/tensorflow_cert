{
  "nbformat": 4,
  "nbformat_minor": 0,
  "metadata": {
    "colab": {
      "name": "SentimentAnalysis.ipynb",
      "provenance": [],
      "authorship_tag": "ABX9TyMYx/FVLy+nLrCEQh1bwzPW",
      "include_colab_link": true
    },
    "kernelspec": {
      "name": "python3",
      "display_name": "Python 3"
    },
    "language_info": {
      "name": "python"
    },
    "accelerator": "GPU"
  },
  "cells": [
    {
      "cell_type": "markdown",
      "metadata": {
        "id": "view-in-github",
        "colab_type": "text"
      },
      "source": [
        "<a href=\"https://colab.research.google.com/github/riszwinger/tensorflow_cert/blob/main/basic/SentimentAnalysis.ipynb\" target=\"_parent\"><img src=\"https://colab.research.google.com/assets/colab-badge.svg\" alt=\"Open In Colab\"/></a>"
      ]
    },
    {
      "cell_type": "code",
      "metadata": {
        "colab": {
          "base_uri": "https://localhost:8080/"
        },
        "id": "lboFxmU5awHg",
        "outputId": "c9090e42-9720-4242-d74c-6a5e1af69f70"
      },
      "source": [
        "import tensorflow as tf\n",
        "import numpy as np\n",
        "import os\n",
        "import shutil\n",
        "import re\n",
        "import string\n",
        "import matplotlib.pyplot as plt\n",
        "print('GPU is ', 'avaliable' if tf.config.list_physical_devices('GPU') else 'not avaliable')\n",
        "print('TF Version: {}'.format(tf.__version__))"
      ],
      "execution_count": 190,
      "outputs": [
        {
          "output_type": "stream",
          "text": [
            "GPU is  avaliable\n",
            "TF Version: 2.5.0\n"
          ],
          "name": "stdout"
        }
      ]
    },
    {
      "cell_type": "code",
      "metadata": {
        "colab": {
          "base_uri": "https://localhost:8080/"
        },
        "id": "Ba1rIqezbBY3",
        "outputId": "9b010e88-5dc2-4431-b008-515fe5c3d4c4"
      },
      "source": [
        "url = \"https://ai.stanford.edu/~amaas/data/sentiment/aclImdb_v1.tar.gz\"\n",
        "\n",
        "data_dir=tf.keras.utils.get_file(fname='aclImdb_v1',origin=url,untar=True)\n",
        "print(data_dir)"
      ],
      "execution_count": 118,
      "outputs": [
        {
          "output_type": "stream",
          "text": [
            "/root/.keras/datasets/aclImdb_v1\n"
          ],
          "name": "stdout"
        }
      ]
    },
    {
      "cell_type": "code",
      "metadata": {
        "colab": {
          "base_uri": "https://localhost:8080/"
        },
        "id": "4jpTY5nKbUaG",
        "outputId": "e525dffe-ee60-42a4-b63b-3bf377009c60"
      },
      "source": [
        "!ls /root/.keras/datasets/aclImdb\n"
      ],
      "execution_count": 119,
      "outputs": [
        {
          "output_type": "stream",
          "text": [
            "imdbEr.txt  imdb.vocab\tREADME\ttest  train\n"
          ],
          "name": "stdout"
        }
      ]
    },
    {
      "cell_type": "code",
      "metadata": {
        "colab": {
          "base_uri": "https://localhost:8080/"
        },
        "id": "G2tGb1Vvb4dl",
        "outputId": "4732badb-99d0-49ae-af32-6cc745e941d9"
      },
      "source": [
        "!ls /root/.keras/datasets/aclImdb/train\n"
      ],
      "execution_count": 120,
      "outputs": [
        {
          "output_type": "stream",
          "text": [
            "labeledBow.feat  pos\tunsupBow.feat  urls_pos.txt\n",
            "neg\t\t unsup\turls_neg.txt   urls_unsup.txt\n"
          ],
          "name": "stdout"
        }
      ]
    },
    {
      "cell_type": "code",
      "metadata": {
        "id": "6s8RkOEcbe1j"
      },
      "source": [
        "train_dir=os.path.join(os.path.dirname(data_dir),'aclImdb','train')\n",
        "test_dir=os.path.join(os.path.dirname(data_dir),'aclImdb','test')"
      ],
      "execution_count": 121,
      "outputs": []
    },
    {
      "cell_type": "code",
      "metadata": {
        "id": "OxhO6om3bqIz"
      },
      "source": [
        "remove_dir=os.path.join(train_dir,'unsup')\n",
        "shutil.rmtree(remove_dir)"
      ],
      "execution_count": 122,
      "outputs": []
    },
    {
      "cell_type": "code",
      "metadata": {
        "colab": {
          "base_uri": "https://localhost:8080/"
        },
        "id": "pfdmHa0_cFTX",
        "outputId": "02c17009-499a-430c-ce55-37ebbc3c3e34"
      },
      "source": [
        "seq_length=250\n",
        "max_features=10000\n",
        "\n",
        "train_ds=tf.keras.preprocessing.text_dataset_from_directory(directory=train_dir,seed=123,validation_split=0.2,subset='training')\n",
        "valid_ds=tf.keras.preprocessing.text_dataset_from_directory(directory=train_dir,seed=123,validation_split=0.2,subset='validation')\n",
        "test_ds=tf.keras.preprocessing.text_dataset_from_directory(directory=test_dir,seed=123,batch_size=1)\n",
        "\n"
      ],
      "execution_count": 146,
      "outputs": [
        {
          "output_type": "stream",
          "text": [
            "Found 25000 files belonging to 2 classes.\n",
            "Using 20000 files for training.\n",
            "Found 25000 files belonging to 2 classes.\n",
            "Using 5000 files for validation.\n",
            "Found 25000 files belonging to 2 classes.\n"
          ],
          "name": "stdout"
        }
      ]
    },
    {
      "cell_type": "code",
      "metadata": {
        "colab": {
          "base_uri": "https://localhost:8080/"
        },
        "id": "sH8y4Gxjc6sS",
        "outputId": "f8bd8e70-1a9d-4323-d0f8-23d2cb4cdb7d"
      },
      "source": [
        "type(train_ds)"
      ],
      "execution_count": 147,
      "outputs": [
        {
          "output_type": "execute_result",
          "data": {
            "text/plain": [
              "tensorflow.python.data.ops.dataset_ops.BatchDataset"
            ]
          },
          "metadata": {
            "tags": []
          },
          "execution_count": 147
        }
      ]
    },
    {
      "cell_type": "code",
      "metadata": {
        "colab": {
          "base_uri": "https://localhost:8080/"
        },
        "id": "wzUHRUkHdDuC",
        "outputId": "4105d0d7-aae7-4d78-97ef-fda2343d9eaa"
      },
      "source": [
        "train_ds"
      ],
      "execution_count": 148,
      "outputs": [
        {
          "output_type": "execute_result",
          "data": {
            "text/plain": [
              "<BatchDataset shapes: ((None,), (None,)), types: (tf.string, tf.int32)>"
            ]
          },
          "metadata": {
            "tags": []
          },
          "execution_count": 148
        }
      ]
    },
    {
      "cell_type": "code",
      "metadata": {
        "id": "LzYGcaBruKcz"
      },
      "source": [
        ""
      ],
      "execution_count": 148,
      "outputs": []
    },
    {
      "cell_type": "code",
      "metadata": {
        "id": "X9whKJD4uKaW"
      },
      "source": [
        ""
      ],
      "execution_count": 148,
      "outputs": []
    },
    {
      "cell_type": "code",
      "metadata": {
        "id": "NFe_m_IWuKX6"
      },
      "source": [
        ""
      ],
      "execution_count": 148,
      "outputs": []
    },
    {
      "cell_type": "code",
      "metadata": {
        "colab": {
          "base_uri": "https://localhost:8080/"
        },
        "id": "8X3amu1HdFLX",
        "outputId": "56b30cba-2959-4bef-fd62-d8408da5af86"
      },
      "source": [
        "for text_val,label_val in train_ds.take(1):\n",
        "  print(type(text_val))"
      ],
      "execution_count": 149,
      "outputs": [
        {
          "output_type": "stream",
          "text": [
            "<class 'tensorflow.python.framework.ops.EagerTensor'>\n"
          ],
          "name": "stdout"
        }
      ]
    },
    {
      "cell_type": "code",
      "metadata": {
        "colab": {
          "base_uri": "https://localhost:8080/"
        },
        "id": "9VRM5RTCdkrX",
        "outputId": "c5c40d23-d139-4af6-8806-cb2da2a3e616"
      },
      "source": [
        "for text_val,label_val in train_ds.take(1):\n",
        "  print((label_val,text_val))"
      ],
      "execution_count": 150,
      "outputs": [
        {
          "output_type": "stream",
          "text": [
            "(<tf.Tensor: shape=(32,), dtype=int32, numpy=\n",
            "array([1, 1, 0, 0, 1, 1, 1, 1, 0, 0, 0, 1, 1, 0, 0, 1, 0, 1, 0, 0, 1, 1,\n",
            "       0, 1, 1, 0, 0, 1, 1, 0, 1, 1], dtype=int32)>, <tf.Tensor: shape=(32,), dtype=string, numpy=\n",
            "array([b'Jason Bourne sits in a dusty room in with blood on his hands, trying to make sense of what he\\'s just done. Meanwhile, a CIA chief in NYC outlines the agency\\'s response to what\\'s just happened on screen. An American flag stands proudly on the centre of his desk in the foreground of the shot, but as he speaks, it slips out of focus as his plan veers into morally dubious territory, as if it doesn\\'t want to be associated with the course of action the government man decides is necessary in the interests of national security.<br /><br />This shot effectively captures the mood of the film. As well as portraying Bourne\\'s quest to find out how he became Jason Bourne, Ultimatum is also an examination of the human costs of the measures taken to protect us in the interests of stability and security.<br /><br />It is also probably the best film you\\'ll see in the cinema this year. <br /><br />It\\'s just so intense. Bourne says to Simon Ross (Considine) \"This isn\\'t some newspaper story, this is real\" and in the audience you almost believe him. The camera shakes, but remains steady enough for you to see everything and feel like you\\'re there with Bourne as he tries to elude his pursuers, and the performances are so good that these guys seem as though they are the characters they\\'re portraying, instead of just being actors performing well-written roles. The action scenes are so brutally fast-paced and well choreographed that they seem instinctive instead of planned to the minutest movement; the stunt-work is nothing short of amazing.<br /><br />The pacing is just incredible. It keeps driving forward towards its conclusion, but not so fast that it leaves you struggling to piece together the plot; the script delivers the information you need as quickly and clearly as possible before moving on to the next tense action set-piece. While they\\'re often simple (the Waterloo sequence is essentially just a man on a phone being watched by a man on a phone) they\\'re charged with such dramatic intensity that you can\\'t take your eyes off them. The film is just so focused on powering forwards that you can\\'t help being swept along by it.<br /><br />With its intense action set-pieces, brilliantly paced storyline, and intelligent examination of the decisions made in the name of national security, the Bourne series is one that accurately captures the ambiguities of our age. Ultimatum is its peak.',\n",
            "       b\"This movie has it all. It is a classic depiction of the events that surrounded the migration of thousands of Cuban refugees. Antonio Montana(played by Al Pacino), is just one of the thousands to get a chance to choose his destiny in America. This cinematic yet extremely accurate depiction of Miamis' Drug Empire is astonishing. Brian DePalma does an amazing job directing this picture, so much that, the viewer becomes involved with both the storyline, as well as every character in the cast. With Tony's characters' pressence being so believable and strong, Brian DePalma brang out the raw talent exposed by Steven Bauer(Manny, Tony's best Friend), Mary Elizabeth Mastantonio(Gina, Tony's Sister), Robert Loggia(Frank, Tony's Boss)and Michelle Pfeiffer(Elvira, Frank's Wife). I enjoyed every minute watching this movie, and still watch it on a weekly basis. On this year, the 20th Anniversary of this classic crime movie, I for one am a true believer that in another 20 years people will still refer to this movie in astonishing numbers. With other crime movies being so dramatic I find, this movie is a shock to the system.\",\n",
            "       b'Roger Corman is undeniably one of the most versatile and unpredictable directors/producers in history. He was single-handedly responsible for some of my favorite horror films ever (like the Edgar Allen Poe adaptations \"Masque of the Red Death\" and \"Pit and the Pendulum\") as well as some insufferably cheap and tacky rubbish quickies (like \"Creature from the Haunted Sea\" and \"She Gods of the Shark Reef\"). Corman also made a couple of movies that are simply unclassifiable and \\xc2\\x96 simply put \\xc2\\x96 nearly impossible to judge properly. \"The Trip\", for example, as well as this imaginatively titled \"Gas-s-s-s\" can somewhat be labeled as psychedelic exploitation. In other words, they\\'re incredibly strange hippie-culture influenced movies. Half of the time you haven\\'t got the slightest idea what\\'s going on, who these characters are that walk back and forth through the screen and where the hell this whole thing is going. The plot is simply and yet highly effective: a strange but deadly nerve gas is accidentally unleashed and promptly annihilates that the entire world population over the age of 25. This *could* be the basic premise of an atmospheric, gritty and nail-bitingly suspenseful post-apocalyptic Sci-Fi landmark, but writer George Armitage and Roger Corman decided to turn it into a \"trippy\" road-movie comedy. None of the characters is even trying to prevent their inevitable upcoming deaths; they just party out in the streets and found little juvenile crime syndicates. \"Gas-s-s-s\" is a disappointingly boring and tries overly hard to be bizarre. The entire script appears to be improvised at the spot and not at all funny. Definitely not my cup of tea, but the film does have a loyal fan base and many admirers, so who am I to say that it\\'s not worth your time or money?',\n",
            "       b'An innocent man (Steve Guttenberg) has a one-night stand with his boss\\'s wife (Isabelle Huppert). She spots a woman (Elizabeth McGovern) being attacked outside but she can\\'t call the cops because it would blow her marriage to Gutenberg\\'s boss (Paul Shenar). So Guttenberg, honest citizen that he is, when he discovers that another woman was attacked and killed nearby only half an hour later, comes forward and claims to have witnessed the first attack, merely intending to pass on the information given to him by Huppert. Well -- never bear false witness against thy neighbor, as they say.<br /><br />This simple attempt to help the police nab a murderer turns rapidly twisted. When he meets the first near-victim, McGovern, she immediately twigs to what happened, but agrees to keep quiet for the moment. But then Guttenberg finds himself in court, supposed to identify the heavy (Greenquist) and we discover through cross-examination that he is NEAR-SIGHTED and can\\'t identify objects at a distance, let alone faces. (Not that it matters because, after all, he never saw the creep in the first place.) The plot gets practically labyrinthine. Guttenberg winds up the chief suspect when Huppert is murdered too.<br /><br />He barely escapes arrest and holes up with the now-sympathetic McGovern. Guttenberg and McGovern hatch a plan to trap the murderer. She will serve as bait. They\\'ll follow the flagitious creep into one of his seedy haunt and McGovern will act like the doxy that the murderer is attracted to, just to get him to try to kill her. But everything will be okay, see, because not only will Guttenberg keep a close watch on her, and not only will he alert the police a few minutes after she enters this dive, but she will keep a can of mace handy -- just in case.<br /><br />I ask you, the alert viewer, does this scenario unfold as planned? Elizabeth McGovern has a quirkily interesting bone structure. She seems all mandible and tiny mouth at times, but she\\'s vibrant. Steve Guttenberg has hair on his brawn and that\\'s about it. Otherwise he\\'s as helpless as the character he plays. If Isabelle Huppert can act, it isn\\'t evident in this film. The killer is so formed and so groomed that he looks like he\\'s wearing one of those masks of deformity in that Twilight Zone episode about greedy heirs.<br /><br />Didn\\'t the director, Curtis Hanson, go on to make \"L.A. Confidential\"? That was a nicely done piece of work. Here, everything seems clumsy and contrived, down to the small bit parts. Just before the inevitable violent climax, a uniformed police officer is introduced to delay McGovern\\'s rescue, and the scene is embarrassing to watch. Dick Olsen has a bit part as a late shopper. He\\'s a neat guy and always reliable. Paul Shenar as the cuckolded hubby has a striking face that seems made for the stage and he does a fine job too.<br /><br />That louche joint where McGovern attracts the attention of the murderer, where she plays pool with a couple of hairy apes, was shot at a bar in Carolina Beach, in North Carolina, not far from where I lived. The way the interior is set up, it\\'s clear that this is supposed to be a dangerous and dirty dive. Actually it appears rather more elegant on screen than it did in reality.<br /><br />Overall, this is Hitchcock territory and it brings tears to the eyes to imagine what he would have done with this story.',\n",
            "       b'This movie is a great. The plot is very true to the book which is a classic written by Mark Twain. The movie starts of with a scene where Hank sings a song with a bunch of kids called \"when you stub your toe on the moon\" It reminds me of Sinatra\\'s song High Hopes, it is fun and inspirational. The Music is great throughout and my favorite song is sung by the King, Hank (bing Crosby) and Sir \"Saggy\" Sagamore. OVerall a great family movie or even a great Date movie. This is a movie you can watch over and over again. The princess played by Rhonda Fleming is gorgeous. I love this movie!! If you liked Danny Kaye in the Court Jester then you will definitely like this movie.',\n",
            "       b'I\\'ve seen this film in avant-premiere at Imagina Festival in Monaco.<br /><br />I saw the first trailer four years ago, and from this moment, I was waiting to see the final result. I haven\\'t been disappointed.<br /><br />It is a full 3d movie with a high contrasted black and white render. Clearly inspired by some comic books, such as the ones from F. Miller. In this optic, it goes one step further than the excellent \"Sin City\" adaptation from R. Rodriguez. This time, (almost) no Grey or any middle color, but a graphic style never seen before in a realistic animated film.(can\\'t wait for scanner darkly)<br /><br />The massive use of Motion Capture gives a lot of life and credibility to the characters and we forget really soon the technical aspect to concentrate on more classic elements, such as direction or plot. The direction stays sober and controlled despite the infinite possibilities of the medium, and that is a really good surprise.<br /><br />The futuristic story (Paris 2053) makes it a classic sci-fiction movie and maintain the viewer interested till the end. Despite a classic base plot (an investigation that goes far beyond initial expectations)the atmosphere and some interesting recurring themes (genetics, absolute power of certain firms...)gives this movie a great interest.<br /><br />Despite it is an animated film, this one is obviously not made for children. You won\\'t find here any funny pet or any stupid family moral, only the cold reality. It is far closer to a good film noir.<br /><br />I found that the setting is one of the best aspect of the film: we still feel the well known Paris, but it is morphed by a fine touch of futurism.<br /><br />Nevertheless, I regret a few mistakes. The montage is sometimes a bit flat, one or two very clich\\xc3\\xa9 slow motion effects and some poor dialogs. Even though the technical is excellent, it shows its limits in some romantic sequences (a bit like \"final fantasy\" did). Those little things makes it a 7/10.<br /><br />Altogether, it is a successful artistic challenge that you have to watch if you can. The director, Christian Volckman, knows how not to fall into potential traps (luckyly, they didn\\'t ask John Woo to do the job!).<br /><br />To conclude, it is a film with blasting visuals, an intelligent story and a wonderful art direction. Watch it if you can!<br /><br />Please excuse me for the spelling mistakes.',\n",
            "       b'The Dirty Harry series began with very gritty cop action, and was almost immediately lightened up for \"Magnum Force\". By the time that \"The Enforcer\" rolled around, Dirty Harry was little more than a television cop show (saved only by Tyne Daly). After a break of seven years, Dirty Harry has finally gone back to his roots. Maybe he\\'s been gone for too long this time.<br /><br />Clint Eastwood makes the first well-directed Harry film since Don Siegel made the first, which helps considerably. Harry is a darker character once again, not the nice cop he had become. He can once again say things like \"Go ahead, make my day\" and really mean it. \"Sudden Impact\" is a true Dirty Harry sequel. \"The Enforcer\" should never have been made.<br /><br />7.2 out of 10',\n",
            "       b\"I first saw this movie here in the U.K. in December 1989 when Central TV broadcast it. I still have the video tape, although worn out (over the years many friends and family members have borrowed it and have also been chilled by it!). <br /><br />Anyway, I remember coming home that night, grabbing a Christmas tipple, switching the lights out and watching what was advertised as a 'Christmas Ghost Story'. Even now I remember certain scenes that still send the hairs on my neck standing on-end... <br /><br />I have seen some comments on the movie which say it's not this and not that...I think those people get scared by Friday 13th and the like, stalk and slash rammel, which are laughable. This is a 'traditional' ghost story; there is no big budget action or special effects...no swearing, no blood, no gratuitous sex scenes, no chainsaws or guns etc...So how refreshing!!!! It's atmospheric. IF you like chilling horror, well written, well acted and with a genuinely scary atmosphere, this is the movie for you. I like the original horrors; only last night I saw the original Haunting and that is a superb movie. Very atmospheric again - and so is The Woman In Black. The end of the movie differs to the book, but still very good. I recommend it. Try it...you *will* like it if you like traditional ghost stories...SO...turn off the lights, turn up the fire, lock the doors, grab a drink...and enjoy... :)\",\n",
            "       b\"Prior to this film, I had only seen two films by director Andrea Bianchi: the trashy zombie flick Le Notti del Terrore (1981), famous amongst horror fans for its unforgettable performance from man-child Peter Bark, and the enjoyably sleazy giallo Strip Nude For Your Killer. Neither film was a particularly spectacular piece of cinema, but both were entertaining in their own special way (and the fact that they featured plenty of gore and nudity didn't hurt). Massacre, however, is dull, dull, dull, despite quite a bit of splatter and the odd spot of gratuitous bare flesh.<br /><br />The story, about a series of murders in a hotel where the cast and crew of a horror film are residing during their shoot, is confusing and oh-so boring: when the blood isn't flowing and the skin isn't on show, the film is a real struggle to sit through (it took me four attempts to finish), with endless scenes of unlikeable characters bickering among themselves and doing very little of note.<br /><br />The only point of interest about the film is that its producer, Lucio Fulci, used several of its death scenes to pad out his mega-gory movie Cat In The Brain (AKA Nightmare Concert). And if you've already seen that film, then there is very little reason to bother with Massacre.\",\n",
            "       b\"This movie tries hard, but completely lacks the fun of the 1960s TV series, that I am sure people do remember with fondness. Although I am 17, I watched some of the series on YouTube a long time ago and it was enjoyable and fun. Sadly, this movie does little justice to the series.<br /><br />The special effects are rather substandard, and this wasn't helped by the flat camera-work. The script also was dull and lacked any sense of wonder and humour. Other films with under-par scripting are Home Alone 4, Cat in the Hat, Thomas and the Magic Railroad and Addams Family Reunion.<br /><br />Now I will say I liked the idea of the story, but unfortunately it was badly executed and ran out of steam far too early, and I am honestly not sure for this reason this is something for the family to enjoy. And I was annoyed by the talking suit, despite spirited voice work from Wayne Knight.<br /><br />But the thing that angered me most about this movie was that it wasted the talents of Christopher Lloyd, Jeff Daniels and Daryl Hannah, all very talented actors. Jeff Daniels has pulled off some good performances before, but he didn't seem to have a clue what he was supposed to be doing, and Elizabeth Hurley's character sadly came across as useless. Daryl Hannah is a lovely actress and generally ignored, and I liked the idea of her being the love interest, but sadly you see very little of her,(not to mention the Monster attack is likely to scare children than enthrall them) likewise with Wallace Shawn as some kind of government operative. Christopher Lloyd acquits himself better, and as an actor I like Lloyd a lot(he was in two of my favourite films Clue and Who Framed Roger Rabbit, and I am fond of Back To The Future) but he was given little to work with, and had a tendency to overact quite wildly.<br /><br />Overall, as much I wanted to like this movie, I was left unimpressed. Instead of being fun, it came across as pointless, and that is a shame because it had a lot of potential, with some talented actors and a good idea, but wasted with poor execution. 1/10 Bethany Cox\",\n",
            "       b'\"Absolute Beginners\" was a film for the younger generation, a multi-time film that discussed the issues that teens were facing in Britain and how these troubled, constantly hitting each note, teen\\'s problems can relate to the youth of tomorrow. It could have been dubbed the \"Moulin Rouge\" of the 80s, but it disappeared. It made its very shallow mark on the world, snuck under the radar, and can now be found collecting dust at either the musical section, the comedy section, or the politically obscure section of that seedy video store that doesn\\'t need chain money to survive. Alas, that wasn\\'t where I found it \\xc2\\x96 but I found it, watched it, tried my hardest to sing along with it, stared into Bowie\\'s eyes, but found myself faded by the end. Did it not survive the test of time? Is 1950s London too far removed from our current society? Is Bowie too creepy? I think \"Absolute Beginners\" falls somewhere into each of these questions as the perfect example of cinema that starts out with a bang, but withers to a mere sparkle by the end.<br /><br />\"Absolute Beginners\" opens with a huge number that takes us through the non-gritty streets of London which involve theft nightly, prostitutes on every corner, dance throughout, booze like rivers, and the swankiest ties on nearly every individual. Sounds like a place we would all hate to be \\xc2\\x85 right? Director Julien Temple keeps the mood light and flashy throughout most of the songs as we attempt to learn something about a plethora of our main characters. The one we follow most is Colin played by Eddie O\\'Connell who follows his dreams of being a photographer while shooting his favorite girl, Suzette (played by Patsy Kensit). These two have chemistry, and while Suzette looks like a pre-rehab Lohan, to me they worked. There was a huge spark between them, the chemistry was like lava, and I believed that these two could take me down a road I had never traveled. I was ready \\xc2\\x96 but then, something happened. Temple takes us out of the nightlife, takes us out of the city we grew up with at the beginning, and completely reverses the roles without any dedication to the first. Suzette runs away, Colin becomes a pervert, and Bowie \\xc2\\x85 well \\xc2\\x85 I am not quite sure what his role is but he sings amazingly well while climbing a mountain \\xc2\\x96 I can tell you that much. Temple gives us this flashy city, this opportunity to see those that inhabit it, but leaves us hanging high and dry when it is time to pull the trigger. We learn about Colin, mainly, but nobody else. I could probably watch this film again and still be equally confused as to whom is angry at whom, and what importance fashion had to that era. Also, were they teens really \\xc2\\x96 they all seemed like they were pushing their late 20s, but maybe it was my TV.<br /><br />Character development thrown right out the door, Temple tries to overcompensate by giving us bigger, more lavish songs using even more characters that we know nothing about. One of my favorite songs in the film uses this thought as a prime example. Temple uses a split house to show us the lives of Colin\\'s parents (of which I didn\\'t know it was them until after the film) and a song which screams apathy. Great song, too many characters, not enough time, suddenly dragged into another scene of missing coherency, and it just falls apart in your hands. Then, if that wasn\\'t enough, we are rocking our heads to the beat of some great songs, rubbing our noggin\\' trying to understand where our characters are or are going, and Temple throws in hatred, anger, and politics into the final act. While I was hoping that this film would have a dedicated theme, I didn\\'t think racism would be on the top of the bill. Suddenly, friends are missing, people are angry, and there is some random guy running around fighting Colin because he lives in poverty and has a friend of a different race? Somebody help me out here. It seemed completely rushed and overwhelming \\xc2\\x96 nearly to the point of wanting to turn the film off. To me, the ending of \"Absolute Beginners\" was nowhere near the excitement from the opening number. That first part set the pace, and Temple could not keep up.<br /><br />Overall, I must say that Temple can direct a music video, but I don\\'t think he was quite prepared for the feature film. I don\\'t think this film will ever make it into full \"cult\" status, and will probably remain unremembered or in the dollar bin for years to come. It is a fun film to watch initially, but when we get to that final part, it just explodes from the inside. I wanted some cutting edge work, but instead what I found was a freaky Bowie coupled with characters I cared nothing for. I could see how this film could relate to the youth of the 80s, but by the end it just felt forced. I think everyone in this production should have taken a moment and listened to \"Motivation\" by the ever-freaky Bowie in this film, it may have helped solidify this feature into better cult status. I am glad that I watched this film once, but that is all that my small brain can take. I loved the way that Temple caught me from the beginning, but he couldn\\'t control his characters (way too many), and the songs didn\\'t seem to match the final moments of the film. It came out of nowhere, and it was unwelcomed. If this was a film about racism, it needed to be from the beginning. \"Absolute Beginners\" was a welcomed adventure, but I don\\'t think I will be dusting this film off in the future.<br /><br />Grade: ** out of *****',\n",
            "       b\"As I was watching this film on video last night, I kept getting these tingles that told me this one will endure. I've a feeling I'll be watching this again and again for years to come.<br /><br />It's got all the timeless qualities you could ask for in a story/film. And even though some cultural references are obscure for me, a Western viewer, at the core this is a universal tale.\",\n",
            "       b'\"Jake Speed\" is a fine movie with a wonderful message. It has its flaws of course. At times it\\'s a little slow. It introduces its villain too far into the story. It\\'s action is paced at the rate of a snail\\'s heartbeat. It has a Z-grade cast (Although I\\'ve always admired the work of Karen Kopins, who has the straight-laced good looks of Sandra Bullock).<br /><br />But with all this going against it, \"Jake Speed\" really is inspiring, thanks to a charming script by Wayne Crawford(who plays the title role) and Andrew Lane.<br /><br />Why do I find it so inspiring? Because it says to me \"Hey, why not try to be a good person.\"<br /><br />The story is essentially a \"stranger in a strange land\" premise, that is good-and-heroic Jake Speed is placed in the real world where bad things happen to good people. Jake is more than a Boy Scout. He\\'s more than a knight in shining armor. Jake Speed is the patron saint of optimism in a dirty, mean and evil world.<br /><br />It\\'s because of this that \"Jake Speed\" really needed to be a hit. It has a great message that should have gotten out to Hollywood and then to the rest of the world.<br /><br />Imagine a movie industry that really pushed itself to portray good and decent people. I\\'m not saying that we should be watching the Waltons in every theater at the cineplex, but that it would be nice if more movies such as \"Jake Speed\" would get a chance. (\"Due South,\" a TV show about a Canadian Mountie, is a good comparison of what can be done to brighten up American entertainment.)<br /><br />Sure, \"Jake Speed\" has violence, blood and guns, but the overall message is that if you try hard enough to be a good person, you\\'ll beat the forces of evil every time. 10/14/99',\n",
            "       b\"This film was more effective in persuading me of a Zionist conspiracy than a Muslim one. And I'm Jewish.<br /><br />Anbody go to journalism school? Read an editorial? Freshman year rhetoric? These alarmist assertions, presented in a palatable way, might prove persuasive. But by offering no acknowledgment of possible opposing arguments, nor viable (or any at all) solutions, few sources and each of dubious origin, makes the argument an ineffectual diatribe.<br /><br />And thank goodness for that -- I wouldn't want anyone to leave the theatre BELIEVING any of this racist claptrap.<br /><br />A good lesson for me -- and hopefully a cautionary tale for you -- to actually read about a film before seeing it.\",\n",
            "       b'How sheep-like the movie going public so often proves to be. As soon as a few critics say something new is good (ie - \"Shake-Cam\"), everyone jumps on the bandwagon, as if they are devoid of independent thought. This was not a good movie, it was a dreadful movie. 1) Plot? - What plot? Bourne was chased from here to there, from beginning to end. That\\'s the plot. Don\\'t look for anything deeper than this. 2) Cinematography? - Do me a favor! Any 7 year old armed with an old and battered 8mm movie camera would do a far better job (I am not exaggerating here). This film is a tour-de-force of astonishingly amateurish camera-work. The ridiculous shaking of EVERY (I really do mean every) scene will cause dizziness and nausea. 3) Believable? - Oh yes definitely. This is a masterpiece of credibility. I loved scenes about Bourne being chased by (local) police through the winding market streets of Tangier. - I\\'ve BEEN to Tangier. Even the guides can\\'t navigate their way through those streets but Bourne shook off 100 police with speed and finesse. Greengrass must be laughing his head off at the gullibility of his film disciples. 4) Editing? - I don\\'t know what the editor was on when he did this film but I want some! - Every scene is between 0.5 and 2 seconds. I felt nauseous at the end of the film from the strobe effect of the \"scenes\" flashing by. 5) Directing? - Hmmm. This is an interesting aspect. The film appears to have actually NOT had any directing. More a case of Greengrass throwing a copy of the script (all two pages) at the cameramen and told to \"shoot a few scenes whilst drunk\". - \"Don\\'t worry boys, we\\'ll tie the scenes together in the editing room\". The editor should be tarred, feathered and put in the stocks for allowing this monstrosity to hit the silver screen 6) Not one but TWO senior CIA operatives giving the tender feminine treatment to the mistreated and misunderstood Jason Bourne. - Putting their lives on the line for someone they couldn\\'t even be sure wasn\\'t a traitor. Talk about stupid nincompoops. (Whilst the evil male CIA members plot to terminate any operative who so much as drops a paper-clip on the floor). (well, all men are evil, aren\\'t they? - Except for SNAGS of course). Yes, this really is a modern and politically correct film that shows the females to be the heroes of the day and the oppressive males as the real threat to humanity. 7) When the you-know-what finally hits the fan, good triumphs over evil (just like it always does, eh?) and the would-be assassin gets the drop on Jason Bourne - he suddenly undergoes a guilt trip and refrains from pulling the trigger (Yeah - right...) - at that very moment, the evil deputy director just happens to turn up - gun in hand and he does pull the trigger. - How did this 60 year old man run so fast and not even be out of breath? Wonders will never cease 8) Don\\'t worry, there\\'s a senate hearing and the baddies get pulled up before the courts. Well, we can\\'t have nasty, politically incorrect, CIA operatives going round shooting people, can we? How lovely to see a true to life P.C. film of the Noughties. -------------The Bourne Ultimatum is utter rubbish.',\n",
            "       b\"I saw Insomniac's Nightmare not to long ago for the first time and I have to say, I really found it to be quite good. If you are a fan of Dominic Monaghan you will love it. The hole movie takes place inside his mind -or does it? The acting from everyone else is a little rushed and shaky and some of the scenes could be cut down but it works out in the end. The extras on the DVD are just as great as the film, if not greater for those Dom fans. It has tons of candid moments from the set, outtakes and a great interview with the director. Anyone who has gone through making an independent film will love to watch Tess (the director), Dom and everyone else on the very small close personal set try to bang out this little trippy creepy film. It was pretty enjoyable and I'm glad to have it in my collection.\",\n",
            "       b\"Quite one of the worst films I have ever seen. Terrible acting, laughable 'action' (it's clear that the cars are travelling slowly), atrocious script, hideously unsatisfying ending and incompetent direction make a hash of a movie. We know Judge Reinhold is a fine actor, but he should be ashamed of this detritus. There is no great tension within the car and, when the characters stumble upon moments of hope, they laugh like inane banshees for some reason, even 'high five-ing' when they see the bridge lowered!<br /><br />Also, the chain of events that lead these people to share the same car strains credibility. Apparently based on true events, though? If that's the case, truth is evidently stranger than fiction! Unfortunate then, that it was portrayed in such an inept manner.\",\n",
            "       b\"Good movie, very 70s, you can not expect much from a film like this,, Sirpa Lane is an actress of erotic films, a nice body but nothing exceptional savant to a pornographic actress from the body disappears, but the '70s were characterized a small breasts and a simple eroticism. Not demand a lot from these films are light years away from the movies today, the world has changed incredibly. The plot is simple and the actors not extraordinary. And the brunette actress has a single body, has one breast slightly bigger. Be satisfied. Papaya also is not great but at least these films have a certain charm ... Download them again but then again who knows what you pretend not to them.\",\n",
            "       b\"First of all, the big named actors must need the money... The surgical scenes were laughable.... and surely they must know that people who have a little knowledge of medicine would find this utterly absurd......Anesthesiologists do not leave the room during a heart transplant....nor do they do the surgery in a tiny room devoid of instruments, heart lung equipment and sterile techniques... just a joke... couldn't concentrate on the story line because of all the stupid surgery scenes... no blood, no personnel and then the hero doc coming in and taking over... it is not a film for thinking adults....Also the budget must have been limited... the street scenes were OK but who was the technical adviser....Seems like it was directed by a total idiot.. Save your money and wait until it comes out on DVD and Don't rent it..\",\n",
            "       b\"Not as bad as some are making it out to be, though obviously pathetic compared to the original. In my opinion Amitabh was great as the villain Babban Singh - try not to compare to Gabbar in the original as they were clearly not going for the same effect. Other than some mediocre action scenes however, the rest of the film is flawed. Character development was poor and the development of the story was hopeless, with many loopholes, and missing pieces of information which i wouldn't have known if i hadn't read the back of the DVD case. The worst part of the movie was the support roles from Nisha Kothari and especially this new dude called Prashant Raj. Nisha is just plain annoying from the time her lips first open. As for Prashant Raj - seriously who is this guy? where is he from and why on earth was he present in the film studio for anything other than to serve drinks?. His acting ability is zero and he has the same tone, dialog delivery and staunch expression in every scene, whether it be action, comedy, or even a scene when someone has just died. Ajay Devgan was average, at least his expressions changed which is more than i can say for his mistake of a companion. overall, RGV's Aag is worth watching for Amitabh's solid performance, and also a very sexy Urmilla Matondkar in a special appearance.\",\n",
            "       b\"Like many of you I am a great fan of the real thing - the 1940s noir films - but Red Rock West was a real treat for all of us longing for the past. The term 'neo-noir' has been so often used inappropriately in the last ten years that it has lost its meaning and its impact. John Dahl's film on the other hand, truly deserved to be described as such. The casting is perfect all around and would have felt right at home with Tay Garnett or Jacques Tourneur. The plot is so tight that you are hooked within the first fifteen minutes. James M. Cain would have appreciated it. Many contemporary films leave me wondering why they don't make them like they used to, and I'm not even that old. Movies such as Red Rock West give us hope for the future while paying tribute to the past.\",\n",
            "       b'I think the majority of the people seem not the get the right idea about the movie, at least that\\'s my opinion. I am not sure it\\'s a movie about drug abuse; rather it\\'s a movie about the way of thinking of those genius brothers, drugs are side effects, something marginal. Again, it\\'s not a commercial movie that you see every day and if the author wanted that, he definitely failed, as most people think it\\'s one of the many drug related movies. I, however, think something else is the case. As in many movies portraying different cultures, audience usually fully understands movies portraying their own culture, i.e. something they\\'ve grown up with and are quite familiar with. This movie is to show what those \"genius\" people very often think and what problems they face. The reason why they act like this is because they are bored out of their minds :) They have to meet people who do mediocre things and accept those things as if they are launching space shuttles on daily basis. They start a fairly hard job and excel in no time. They feel like- I went to work, did nothing, still did twice as better as the guys around me when they were all over their projects, what should I do now with my free time. And what\\'s even more boring? When you can start predicting behavior not because you\\'re psychologist, but instead because you have seen this pattern in the past. So, for them, from one side it\\'s a non challenging job, which is also fairly boring sometimes, and from another they start to figure out people\\'s behavior. It\\'s a recipe for big big boredom. And the dumbest things are usually done to get out of this state. They guy earlier who mentioned that their biggest problem is that they are trying to figure out life in terms of logic (math describes logic), while life is not really a logical thing, is actually absolutely right.',\n",
            "       b'Somebody needs to send this Uli Lommel guy back to MOVIE SCHOOL. Who ever told him HE knew HOW to make a movie? Can just ANYBODY make movies these days? In the past, it always REQUIRED TALENT before someone could make a movie. After watching this lame BTK movie and the others he\\'s made, it seems blatantly obvious that the poor guy has about as much business making movies as I DO. Actually I think even I could make better movies than Uli LAME-ALL. This movie has absolutely NOTHING to do with the BTK Killer, other than the names of the victims and the killer. THAT\\'S IT. Where did this guy get the big idea that BTK killed people with rodents and all the other preposterous crap that\\'s in the movie? This is a classic example of someone trying to lure people into watching their movie based on the term \"BTK\" because of the fame it has achieved. Absolutely pitiful. The only serial killer movie I would consider WORSE is that lame \"DAHMER\" movie. That kid smoked so many cigarettes it made me nauseous. Whoever made that one needs to be shot.',\n",
            "       b'Anyone who lived through the ages of Revenge of the Nerds and Girlpower will appreciate this film. It is one of those films that delivers everything you want in a \"spring break movie\" PLUS it makes fun of the college film genre. It\\'s funny, it\\'s got a cast to die for (Amy Pohler! Rachel Dratch!, Sophie Monk!, Parker Posey! Jane Lynch! Amber Tamblyn! Missi Pyle!) and its guaranteed to make you laugh out loud. Writer/ actor Rachel Dratch is a comic genius and Sophie Monk is such a great villain. Wilson Phillips! OMG! (I\\'m just repeating myself now...) It will live on with girls who like Miranda July but feel like eating ice cream and pretending they\\'re dumb.',\n",
            "       b'Like the great classic Bugs Bunny cartoons, this movie has humor at different levels. I just introduced this to my 10 year old daughter and 11 year old son. Both enjoyed the movie - busting out laughing quite a few times... and my daughter is not much of a sci-fi fan. The movie kept me laughing despite having seen a few times... the adult-level humor (that is, humor that adults will get simply because of greater life experiences, no baudy or R-rated stuff to be found here) keeps the movie equally enjoyable for adults. For example of the adult level humor, the Martian voices are based on characters of different movies/actors. The Martian pilot, Blaznee, has the voice and mannerisms of Jack Nicholson; the scientist, that of Peter Seller\\'s Dr. Strangelove. The special effects are surprisingly good for this film. The lack of top 10 actors actually works in the movie\\'s favor, and the actors/actresses play their part well - in fact I would say the producers picked out actors and their skills for the roles\\' needs over box-office draw power (an excellent example is Wayne Alexander\\'s \"Vern\" character). I had to write this review... the kids are playing this for the 3rd time in 4 days over dinner right now. Good for a rainy day or a late night weekend there\\'s-nothing-on-and-I\\'m-bored movie.',\n",
            "       b\"An MTV-style film crew consisting of American T.V. programme producer Zack Zardine (Matt Borlenghi) his camerawoman, the Australian Cecily (Kate Fisher) and two surfer 'dudes' named Bog Hall (Dax Miller) and Jeremy (Joel West) arrive on some nice looking island somewhere, it's not actually revealed where. The crew plan to shoot an expose on 'bloodsurfing' which is apparently the latest craze in extreme sports. Surfers throw bait into the sea and cut themselves to attract sharks, just to see if they can out-surf them without being eaten. Once there they are greeted by Sonny Lofranco (Cris Vertido) and his wife Melba (Susan Africa). Their search for the perfect location leads them to the shark infested waters of Lilo-Cay. Sonny, Melba and their daughter Lemmya (Maureen Larrazabal) take them in their boat. Soon after arriving and having already shot some 'bloodsurfing' footage Sonny, Melba and Lemmya are all killed by a 30 foot saltwater crocodile that some say 'owns' the island. The boat is sunk. Zack, Cecily, Bog and Jeremy appear stuck on the island until such time a rescue party arrives. However, after a run in with some, erm well I don't really know what they are. Pirates? Drug smugglers? Revolutionairies? Fat ugly people who just don't like being with other people? Who knows? And more importantly who cares? Not me that's for sure. Anyway, after escaping from these guys who look like pirates, they are picked up just off the coast of the island by Captain John Dirks (Duncan Regehr) and his girl Arty (Taryn Reif as Tara Reif). The film crew believe they have been saved. Little do they know that the crocodile and Captain Dirks go way back and he has a score to settle and four members of a film crew aren't going to stop him. Captain Dirks heads back to Lilo-Cay for a final showdown with the giant man-eating crocodile.<br /><br />Directed by James D.R. Hickox this is one awful film, but it's still not as bad as Tobe Hoopers Crocodile (2000). Everything about this film sucks. The script by Sam Bernard and Robert L.Levy is terrible, extremely slow as the crocodile isn't even seen or mentioned before the 30 minute mark and by that time I was seriously bored and annoyed with the hideously unlikeable characters thought up by Bernard and Levy. The whole film is also frustratingly predictable as well, within the first 10 minutes anyone familiar with horror film stereotypes and stock characters will be able to guess who dies and who will survive. The crocodile effects are awful and seem to be repeated over and over, there is a small puppet head that obviously has someones arm stuck inside it controlling it's movements as the water splashes become huge! The CGI shots of the crocodile are just plain embarrassing to watch. There is no gore apart from when a character is bitten in half which is achieved using CGI to digitally remove the actors legs, again it looks terrible. There is also a brief scene when someone is impaled on wooden spikes when they set a trap off. There is a reasonable amount of nudity and sex, plus the female actresses are nice and easy on the eye. There are basic continuity and logical errors in the film too, in one sequence Cecily is filming Bog and Jeremy 'bloodsurfing' but from the angle and distance she is at it would be physically impossible to obtain footage of both the sharks and surfers at the same time, and surely that is the whole point of her shot? When Dirks manages to harpoon the crocodile the angle of the wire changes dramatically between shots, in one shot the angle of the line looks like it's coming from the sky, in the shot straight after the angle is completely different and it seems as if the line is coming from below the surface of the water when in actual fact the harpoon is attached to the back of the boat and the line should be almost level with the surface. I could carry on, like why does the crocodile jump off the edge of a cliff if it's so smart as this film tries to make out? But I would probably exceed the 1000 word limit if I listed everything that was wrong with this film, so I won't. I hated this film, but rather scarily it's still not as bad as Tobe Hoopers effort at a giant crocodile film. Definitely one to avoid.\",\n",
            "       b'Everyone involved (and the audience) should seek out \"The Candidate\" to see how good this movie could have been. What happened the South American story? What were Julie Christie and Kate Capshaw thinking to allow their roles to be cardboard cut-outs. Up to now I have liked every Gene Hackman performance and/or movie. He was either disinterested (which I can hardly believe) or dreadfully miscast. I have also liked and defended Richard Gere (and been vilified for it). But here he had no \"power\". He was never intimidating and only occasionally persuasive. All in all I was very disappointed. I really expected much more from this director and cast. If you can\\'t find \"The Candidate\" watch \"Wag the dog\" again or even \"Bulworth\".',\n",
            "       b'Oh, this is such a glorious musical. There\\'s a bit of miscasting -- Frank Sinatra is sorely miscast as the Jewish Nathan Detroit, though it only becomes evident on \"Sue Me\", which is a distinctly Jewish song. Sadly, the filmmakers decided to cut out one of the best songs from the show, \"Marry the Man Today\", and replaced it with an inferior Sinatra showpiece. With these two flaws in mind, the movie is otherwise magnificent. Jean Simmons shines as Sarah Brown. Marlon Brando can\\'t sing worth beans, but pulls it off anyway. Stubby Kaye wonderfully reprises his Broadway role (it was written for him). Damon Runyon\\'s language and pacing and humor come through quite well. This is on my see-it-every-chance-I-get list.',\n",
            "       b\"Paris Je T ' aime is a movie that explores the different kinds and aspects of love and all the emotions that it provokes. This movie reunites some of the best directors from around the world such as Gus Van Sant, Joel and Ethan Coen , Walter Salles a...(read more)nd Alfonso Cuaron to tell short stories about love located in Paris, each one with their particular way of directing. In this film we also have one of the best cast ever seen in a movie including such great actors like Willem Dafoe, Steve Buscemi, Natalie Portman, Elijah Wood, Gerard Depardieu and many more each one with great performances. In conclusion, this movie is a compilation of stories of happiness, separation, unexpected encounters and love.\",\n",
            "       b\"The basic formula for the original series was; take someone, get the audience to like them, then put them into Mortal danger. This formula worked for the 32 episodes made between 1964-68. <br /><br />Now, we jump forward 40 years to 2004.. We are introduced to Alan Tracy, a somewhat less-than-diligent college school kid, with his friend, Fermat, a young know-it-all. They are whisked off by Lady Penelope in her pink Ford Thunderbird to the island paradise where the Tracy Family live, for the school holidays. Almost immediately, they are left in the care of Kyrano and his daughter, Tin-Tin whilst the adults go to rescue John from Thunderbird 5 which has been damaged by a staged accident. This is all part of The Hood's scheme to take over Tracy Island so that he can steal the Thunderbird machines ...<br /><br />\\xc2\\x85To rob a bank!<br /><br />Yes. The plot IS as limp as that!<br /><br />The dialogue is banal, the acting more wooden than that of the (fibreglass) puppets, the effects, anything but special and Hans Zimmer's score\\xc2\\x85? What little there was of Barry Gray's glorious theme shone through Zimmer's lackluster orchestration. The rest of the score was eminently forgettable. In fact, part of the score was broadcast the following week on the radio and didn't recognise it! I didn't even bother to stay to witness Busted's mediocre efforts with the end titles<br /><br />To be fair, Ron Cook worked quite well as Parker, he and Sophia Myles as Penelope seemed wasted. With the right material, they could have been show stoppers. The CGI work was what I would have called leading edge - 5 years ago.<br /><br />The Dynamics of the main craft were just wrong; The original series models at least moved as if they had mass<br /><br />Another sore point is that the whole production seemed to be one long set of product placements, from every vehicle being built by Ford to the entire content of the Tracy Freezer being produced by Ben & Jerry's.<br /><br />My son (9) enjoyed the film but this cross between Spy Kids and 'Clockstoppers', aimed squarely at his age group, added nothing to the Thunderbirds legend. When Star Trek hit the big screen in 1979 with 'The Motion Picture', a whole new lease of life was breathed into the franchise which then continued for another 20 years or so. With this film, Frakes has missed a golden opportunity to do the same with the Thunderbirds franchise.<br /><br />I predict that this film, like 'The Avengers' and 'the Saint' before it, will sink into obscurity within 6 months, leaving the original series to its 'classic' status.\",\n",
            "       b'The Three Stooges has always been some of the many actors that I have loved. I love just about every one of the shorts that they have made. I love all six of the Stooges (Curly, Shemp, Moe, Larry, Joe, and Curly Joe)! All of the shorts are hilarious and also star many other great actors and actresses which a lot of them was in many of the shorts! In My opinion The Three Stooges is some of the greatest actors ever and is the all time funniest comedy team! <br /><br />One of My favorite Stooges shorts with Shemp is none other than Husbands Beware! All appearing in this short are the beautiful Christine McIntyre, Dee Green, Doris Houck, Alyn Lockwood, Johnny Kascier, Nancy Saunders, Lu Leonard, Maxine Gates, and Emil Sitka. Green and McIntyre provide great performances here! There are so many funny parts here. This is a very hilarious short. There is another similar Three Stooges short like this one called Brideless Groom and I recommend both!',\n",
            "       b'I was lucky enough to get to see this film many years ago in England. I\\'ve seen hundreds of films since,but I\\'ve never forgotten this one.Although Sinatra was playing a not very endearing character,he was excellent in the role.A lot of people seem to think that he did\\'nt really come into his own until his role in \"From Here To Eternity\" but in my opinion he was magnificent in Concho.The other role that sticks in my mind is that of William Conrad.I\\'d never see or heard of him before this film. Conrad plays a terrific part in this film.I remember his deep and gravelly voice and he uses it beautifully to enhance the few words he speaks with a menace that sets the tone of his character.Also I remember the music, that both introduces Conrad and and seems to surround him whenever he appears.An excellent film and my only disappointment was that I never ever got the chance to see it again. It seems to have disappeared from the face of the earth. I see in the titles that it says that the film is in black and white but when I saw it was indeed in full color, I remember Sinatra\\'s blue shirt.'],\n",
            "      dtype=object)>)\n"
          ],
          "name": "stdout"
        }
      ]
    },
    {
      "cell_type": "code",
      "metadata": {
        "colab": {
          "base_uri": "https://localhost:8080/"
        },
        "id": "Rrcz4AIJdrjN",
        "outputId": "3bc91a41-ca7d-47c9-83ca-b5714883eba3"
      },
      "source": [
        "for text_val,label_val in train_ds.take(1):\n",
        "  for i in range(3):\n",
        "    print((label_val[i].numpy(),text_val[i].numpy()))\n",
        "    #print((text_val[i].shape))"
      ],
      "execution_count": 151,
      "outputs": [
        {
          "output_type": "stream",
          "text": [
            "(0, b'<br /><br />Back in his youth, the old man had wanted to marry his first cousin, but his family forbid it. Many decades later, the old man has raised three children (two boys and one girl), and allows his son and daughter to marry and have children. Soon, the sister is bored with brother #1, and jumps in the bed of brother #2.<br /><br />One might think that the three siblings are stuck somewhere on a remote island. But no -- they are upper class Europeans going to college and busy in the social world.<br /><br />Never do we see a flirtatious moment between any non-related female and the two brothers. Never do we see any flirtatious moment between any non-related male and the one sister. All flirtatious moments are shared between only between the brothers and sister.<br /><br />The weakest part of GLADIATOR was the incest thing. The young emperor Commodus would have hundreds of slave girls and a city full of marriage-minded girls all over him, but no -- he only wanted his sister? If movie incest is your cup of tea, then SUNSHINE will (slowly) thrill you to no end.')\n",
            "(0, b'How sheep-like the movie going public so often proves to be. As soon as a few critics say something new is good (ie - \"Shake-Cam\"), everyone jumps on the bandwagon, as if they are devoid of independent thought. This was not a good movie, it was a dreadful movie. 1) Plot? - What plot? Bourne was chased from here to there, from beginning to end. That\\'s the plot. Don\\'t look for anything deeper than this. 2) Cinematography? - Do me a favor! Any 7 year old armed with an old and battered 8mm movie camera would do a far better job (I am not exaggerating here). This film is a tour-de-force of astonishingly amateurish camera-work. The ridiculous shaking of EVERY (I really do mean every) scene will cause dizziness and nausea. 3) Believable? - Oh yes definitely. This is a masterpiece of credibility. I loved scenes about Bourne being chased by (local) police through the winding market streets of Tangier. - I\\'ve BEEN to Tangier. Even the guides can\\'t navigate their way through those streets but Bourne shook off 100 police with speed and finesse. Greengrass must be laughing his head off at the gullibility of his film disciples. 4) Editing? - I don\\'t know what the editor was on when he did this film but I want some! - Every scene is between 0.5 and 2 seconds. I felt nauseous at the end of the film from the strobe effect of the \"scenes\" flashing by. 5) Directing? - Hmmm. This is an interesting aspect. The film appears to have actually NOT had any directing. More a case of Greengrass throwing a copy of the script (all two pages) at the cameramen and told to \"shoot a few scenes whilst drunk\". - \"Don\\'t worry boys, we\\'ll tie the scenes together in the editing room\". The editor should be tarred, feathered and put in the stocks for allowing this monstrosity to hit the silver screen 6) Not one but TWO senior CIA operatives giving the tender feminine treatment to the mistreated and misunderstood Jason Bourne. - Putting their lives on the line for someone they couldn\\'t even be sure wasn\\'t a traitor. Talk about stupid nincompoops. (Whilst the evil male CIA members plot to terminate any operative who so much as drops a paper-clip on the floor). (well, all men are evil, aren\\'t they? - Except for SNAGS of course). Yes, this really is a modern and politically correct film that shows the females to be the heroes of the day and the oppressive males as the real threat to humanity. 7) When the you-know-what finally hits the fan, good triumphs over evil (just like it always does, eh?) and the would-be assassin gets the drop on Jason Bourne - he suddenly undergoes a guilt trip and refrains from pulling the trigger (Yeah - right...) - at that very moment, the evil deputy director just happens to turn up - gun in hand and he does pull the trigger. - How did this 60 year old man run so fast and not even be out of breath? Wonders will never cease 8) Don\\'t worry, there\\'s a senate hearing and the baddies get pulled up before the courts. Well, we can\\'t have nasty, politically incorrect, CIA operatives going round shooting people, can we? How lovely to see a true to life P.C. film of the Noughties. -------------The Bourne Ultimatum is utter rubbish.')\n",
            "(1, b'Just got my copy of this DVD two disc set and while not perfect, I found the overall experience to be a fun way to waste some time. I have to say right up front that I am a huge fan of Zombie movies, and I truly think that the fine people who made these films must be too. I also have a soft spot for people who are trying, sometimes against all odds, to live a dream. And again, these people are doing it. Is this some award-winning collection of amazing film? No. Not even close. But for what they do on their meager budgets, these films should be recommended. For me, the bottom line is always, was I entertained? Did I have a good time with this movie? And here the answer to both was \"Yes.\" The first in the series is also the most raw. It opens with some kind of accident at a nuclear facility and people melt down or something. Cut to some years later and a new housing community is built over the old reactor site. Some kids making a video fall into a hole and find themselves trapped in the bottom levels of the facility. They get rescued, but the hole is not sealed and the people from the opening start lumbering out of the hole. Soon, the whole town is overtaken by the undead. And these zombies are fun. They go from cool rot makeup to the cheapest slap on white-face ever, but they are fun. The whole movie culminates in a showdown between the final survivors of the area and the undead, with our heroes going into the reactor\\'s lower levels to take out the flesh eating zombies and seal the hole forever! Pretty cheesy, but I think it was meant to be. Still, it moves very fast, has buckets of gruesome effects and really tries to have some style. The acting is uneven, but a few good performances shine through and one really should listen to the commentary track. I went back and watched it again with that on and found it to be a good bit of information on the trials and fun that the crew and cast experienced on the movie. Director Todd Sheets seems pretty proud of this, his first film, but also has no delusions. He knows it\\'s a trashy zombie movie, but he does show respect to people involved. Also, Sheets has a great sense of humor and some humble integrity that others could learn from in the movie field. The behind the scenes of Zombie Bloodbath is pretty fun as well. I felt it was almost as entertaining as the film it was made for. There are some great interviews and behind the scenes footage, mixed with news stories about the film from some major places like CNN, FOX and MTV. Over all, a fun little film that is VERY rough around the edges, but still had me laughing and enjoying the ride! I have seen many DV films, and some shot of video films, and many are quite dull, but this one really wasn\\'t. While newer DV films are technically superior, they just aren\\'t fun! Overall, this is a solid, if a bit flawed, release with plenty of extras and TONS of gore and splatter. While not breaking any grand rules of move making, I found the series to be fun and always a laugh, so I give this set a solid recommendation. Todd Sheets was not trying to make award winning art here folks, he was trying, sometimes against all odds it seems, to make fun zero budget, splattery horror and to that end, he has succeeded in spades.')\n"
          ],
          "name": "stdout"
        }
      ]
    },
    {
      "cell_type": "markdown",
      "metadata": {
        "id": "wbauYGBqebqg"
      },
      "source": [
        "## Standardize --> Tokenize -- > Vectorize "
      ]
    },
    {
      "cell_type": "code",
      "metadata": {
        "colab": {
          "base_uri": "https://localhost:8080/",
          "height": 35
        },
        "id": "O9IP0ecnplW8",
        "outputId": "24641b1c-802e-4991-c2e1-862e027600cb"
      },
      "source": [
        "string.punctuation"
      ],
      "execution_count": 152,
      "outputs": [
        {
          "output_type": "execute_result",
          "data": {
            "application/vnd.google.colaboratory.intrinsic+json": {
              "type": "string"
            },
            "text/plain": [
              "'!\"#$%&\\'()*+,-./:;<=>?@[\\\\]^_`{|}~'"
            ]
          },
          "metadata": {
            "tags": []
          },
          "execution_count": 152
        }
      ]
    },
    {
      "cell_type": "code",
      "metadata": {
        "colab": {
          "base_uri": "https://localhost:8080/",
          "height": 35
        },
        "id": "DK01SpOqrGjy",
        "outputId": "ac12eaba-4403-4046-832d-3ce54a986dd3"
      },
      "source": [
        "re.escape(string.punctuation)"
      ],
      "execution_count": 153,
      "outputs": [
        {
          "output_type": "execute_result",
          "data": {
            "application/vnd.google.colaboratory.intrinsic+json": {
              "type": "string"
            },
            "text/plain": [
              "'!\"\\\\#\\\\$%\\\\&\\'\\\\(\\\\)\\\\*\\\\+,\\\\-\\\\./:;<=>\\\\?@\\\\[\\\\\\\\\\\\]\\\\^_`\\\\{\\\\|\\\\}\\\\~'"
            ]
          },
          "metadata": {
            "tags": []
          },
          "execution_count": 153
        }
      ]
    },
    {
      "cell_type": "code",
      "metadata": {
        "colab": {
          "base_uri": "https://localhost:8080/",
          "height": 35
        },
        "id": "wGCkP2hfpoEz",
        "outputId": "bf9157e6-dcb9-4865-cbc9-61cbeb8a2162"
      },
      "source": [
        "'[%s]' % re.escape(string.punctuation)"
      ],
      "execution_count": 154,
      "outputs": [
        {
          "output_type": "execute_result",
          "data": {
            "application/vnd.google.colaboratory.intrinsic+json": {
              "type": "string"
            },
            "text/plain": [
              "'[!\"\\\\#\\\\$%\\\\&\\'\\\\(\\\\)\\\\*\\\\+,\\\\-\\\\./:;<=>\\\\?@\\\\[\\\\\\\\\\\\]\\\\^_`\\\\{\\\\|\\\\}\\\\~]'"
            ]
          },
          "metadata": {
            "tags": []
          },
          "execution_count": 154
        }
      ]
    },
    {
      "cell_type": "code",
      "metadata": {
        "id": "XkEUdjW9eUby"
      },
      "source": [
        "def custom_standarize(input_val):\n",
        "  lower_case=tf.strings.lower(input_val)\n",
        "  remove_special=tf.strings.regex_replace(lower_case,'<br />','')\n",
        "  return tf.strings.regex_replace(remove_special,'[%s]' % re.escape(string.punctuation),'')"
      ],
      "execution_count": 155,
      "outputs": []
    },
    {
      "cell_type": "code",
      "metadata": {
        "colab": {
          "base_uri": "https://localhost:8080/"
        },
        "id": "mueiqRFCqmaQ",
        "outputId": "4438c40f-7556-49d9-f862-188045c32497"
      },
      "source": [
        "inp_str='<br /><br />Back in his youth, the old man had wanted to marry his first cousin, but his family forbid it. Many decades later, the old man has raised three children (two boys and one girl), and allows his son and daughter to marry and have children. '\n",
        "custom_standarize(inp_str).numpy()"
      ],
      "execution_count": 156,
      "outputs": [
        {
          "output_type": "execute_result",
          "data": {
            "text/plain": [
              "b'back in his youth the old man had wanted to marry his first cousin but his family forbid it many decades later the old man has raised three children two boys and one girl and allows his son and daughter to marry and have children '"
            ]
          },
          "metadata": {
            "tags": []
          },
          "execution_count": 156
        }
      ]
    },
    {
      "cell_type": "code",
      "metadata": {
        "id": "BcrI-waLqu9w"
      },
      "source": [
        "vectorize_layer=tf.keras.layers.experimental.preprocessing.TextVectorization(max_tokens=max_features,standardize=custom_standarize,output_sequence_length=seq_length)"
      ],
      "execution_count": 157,
      "outputs": []
    },
    {
      "cell_type": "code",
      "metadata": {
        "colab": {
          "base_uri": "https://localhost:8080/"
        },
        "id": "5C7NBEMGryu3",
        "outputId": "39403928-9779-4c7f-a74b-85700fc7a0ac"
      },
      "source": [
        "texts,lbls=next(iter(train_ds))\n",
        "type(texts)"
      ],
      "execution_count": 158,
      "outputs": [
        {
          "output_type": "execute_result",
          "data": {
            "text/plain": [
              "tensorflow.python.framework.ops.EagerTensor"
            ]
          },
          "metadata": {
            "tags": []
          },
          "execution_count": 158
        }
      ]
    },
    {
      "cell_type": "code",
      "metadata": {
        "colab": {
          "base_uri": "https://localhost:8080/"
        },
        "id": "zQA_bD2xsGFU",
        "outputId": "346db55b-9ce6-445d-c916-7988e5ca3315"
      },
      "source": [
        "first_txt=texts[0]\n",
        "first_txt"
      ],
      "execution_count": 159,
      "outputs": [
        {
          "output_type": "execute_result",
          "data": {
            "text/plain": [
              "<tf.Tensor: shape=(), dtype=string, numpy=b\"This Documentary (Now available free on Video.Google.Com) is a fantastic demonstration of the power of ordinary people to overcome injustice. Everyone must see this.<br /><br />Chavez was elected in a landslide vote in 1998. His platform was to divert the fantastic oil wealth from the 20% middle class to the 80% poor. He banned foreign drift net fishing in Venezuelan waters. He sent 10,000 Cuban doctors to the slums to treat the sick for free. He wiped out illiteracy and set up new free Universities. <br /><br />But it was his 30% tax on oil company profits that got him in trouble with the Bush administration. In 2002, while Irish film makers Kim Bartley and Donnacha O'Briain were interviewing Chavez inside the Presidential Palace about his social programs, a CIA backed coup was launched. With the cameras rolling, Chavez was captured and flown out of the country. It was announced on national TV that he had 'resigned'.<br /><br />But the poor of Venezuela didn't believe the media. They went to the Palace in their millions and demanded that Chavez be returned. In the face of such overwhelming numbers, the military turned on the coup leaders and the plotters fled to the US. Chavez was rescued by military helicopter and returned to jubilation.\">"
            ]
          },
          "metadata": {
            "tags": []
          },
          "execution_count": 159
        }
      ]
    },
    {
      "cell_type": "code",
      "metadata": {
        "colab": {
          "base_uri": "https://localhost:8080/"
        },
        "id": "W40AtDJNsLij",
        "outputId": "abbf6e45-1d45-47d2-8cfd-2b0fcc8dcf35"
      },
      "source": [
        "first_txt.numpy()"
      ],
      "execution_count": 160,
      "outputs": [
        {
          "output_type": "execute_result",
          "data": {
            "text/plain": [
              "b\"This Documentary (Now available free on Video.Google.Com) is a fantastic demonstration of the power of ordinary people to overcome injustice. Everyone must see this.<br /><br />Chavez was elected in a landslide vote in 1998. His platform was to divert the fantastic oil wealth from the 20% middle class to the 80% poor. He banned foreign drift net fishing in Venezuelan waters. He sent 10,000 Cuban doctors to the slums to treat the sick for free. He wiped out illiteracy and set up new free Universities. <br /><br />But it was his 30% tax on oil company profits that got him in trouble with the Bush administration. In 2002, while Irish film makers Kim Bartley and Donnacha O'Briain were interviewing Chavez inside the Presidential Palace about his social programs, a CIA backed coup was launched. With the cameras rolling, Chavez was captured and flown out of the country. It was announced on national TV that he had 'resigned'.<br /><br />But the poor of Venezuela didn't believe the media. They went to the Palace in their millions and demanded that Chavez be returned. In the face of such overwhelming numbers, the military turned on the coup leaders and the plotters fled to the US. Chavez was rescued by military helicopter and returned to jubilation.\""
            ]
          },
          "metadata": {
            "tags": []
          },
          "execution_count": 160
        }
      ]
    },
    {
      "cell_type": "code",
      "metadata": {
        "colab": {
          "base_uri": "https://localhost:8080/",
          "height": 221
        },
        "id": "reFwPkq2sUIR",
        "outputId": "446e549b-7a93-44c1-e569-720c935be035"
      },
      "source": [
        "vectorize_layer(first_txt)"
      ],
      "execution_count": 161,
      "outputs": [
        {
          "output_type": "error",
          "ename": "InvalidArgumentError",
          "evalue": "ignored",
          "traceback": [
            "\u001b[0;31m---------------------------------------------------------------------------\u001b[0m",
            "\u001b[0;31mInvalidArgumentError\u001b[0m                      Traceback (most recent call last)",
            "\u001b[0;32m<ipython-input-161-e85bab636bdd>\u001b[0m in \u001b[0;36m<module>\u001b[0;34m()\u001b[0m\n\u001b[0;32m----> 1\u001b[0;31m \u001b[0mvectorize_layer\u001b[0m\u001b[0;34m(\u001b[0m\u001b[0mfirst_txt\u001b[0m\u001b[0;34m)\u001b[0m\u001b[0;34m\u001b[0m\u001b[0;34m\u001b[0m\u001b[0m\n\u001b[0m",
            "\u001b[0;32m/usr/local/lib/python3.7/dist-packages/tensorflow/python/keras/engine/base_layer.py\u001b[0m in \u001b[0;36m__call__\u001b[0;34m(self, *args, **kwargs)\u001b[0m\n\u001b[1;32m   1028\u001b[0m         with autocast_variable.enable_auto_cast_variables(\n\u001b[1;32m   1029\u001b[0m             self._compute_dtype_object):\n\u001b[0;32m-> 1030\u001b[0;31m           \u001b[0moutputs\u001b[0m \u001b[0;34m=\u001b[0m \u001b[0mcall_fn\u001b[0m\u001b[0;34m(\u001b[0m\u001b[0minputs\u001b[0m\u001b[0;34m,\u001b[0m \u001b[0;34m*\u001b[0m\u001b[0margs\u001b[0m\u001b[0;34m,\u001b[0m \u001b[0;34m**\u001b[0m\u001b[0mkwargs\u001b[0m\u001b[0;34m)\u001b[0m\u001b[0;34m\u001b[0m\u001b[0;34m\u001b[0m\u001b[0m\n\u001b[0m\u001b[1;32m   1031\u001b[0m \u001b[0;34m\u001b[0m\u001b[0m\n\u001b[1;32m   1032\u001b[0m         \u001b[0;32mif\u001b[0m \u001b[0mself\u001b[0m\u001b[0;34m.\u001b[0m\u001b[0m_activity_regularizer\u001b[0m\u001b[0;34m:\u001b[0m\u001b[0;34m\u001b[0m\u001b[0;34m\u001b[0m\u001b[0m\n",
            "\u001b[0;32m/usr/local/lib/python3.7/dist-packages/tensorflow/python/keras/layers/preprocessing/text_vectorization.py\u001b[0m in \u001b[0;36mcall\u001b[0;34m(self, inputs)\u001b[0m\n\u001b[1;32m    572\u001b[0m         \u001b[0;32mreturn\u001b[0m \u001b[0mdense_data\u001b[0m\u001b[0;34m\u001b[0m\u001b[0;34m\u001b[0m\u001b[0m\n\u001b[1;32m    573\u001b[0m       \u001b[0;32melse\u001b[0m\u001b[0;34m:\u001b[0m\u001b[0;34m\u001b[0m\u001b[0;34m\u001b[0m\u001b[0m\n\u001b[0;32m--> 574\u001b[0;31m         \u001b[0msequence_len\u001b[0m \u001b[0;34m=\u001b[0m \u001b[0mbackend\u001b[0m\u001b[0;34m.\u001b[0m\u001b[0mshape\u001b[0m\u001b[0;34m(\u001b[0m\u001b[0mdense_data\u001b[0m\u001b[0;34m)\u001b[0m\u001b[0;34m[\u001b[0m\u001b[0;36m1\u001b[0m\u001b[0;34m]\u001b[0m\u001b[0;34m\u001b[0m\u001b[0;34m\u001b[0m\u001b[0m\n\u001b[0m\u001b[1;32m    575\u001b[0m         \u001b[0mpad_amt\u001b[0m \u001b[0;34m=\u001b[0m \u001b[0mself\u001b[0m\u001b[0;34m.\u001b[0m\u001b[0m_output_sequence_length\u001b[0m \u001b[0;34m-\u001b[0m \u001b[0msequence_len\u001b[0m\u001b[0;34m\u001b[0m\u001b[0;34m\u001b[0m\u001b[0m\n\u001b[1;32m    576\u001b[0m         \u001b[0mpad_fn\u001b[0m \u001b[0;34m=\u001b[0m \u001b[0;32mlambda\u001b[0m\u001b[0;34m:\u001b[0m \u001b[0marray_ops\u001b[0m\u001b[0;34m.\u001b[0m\u001b[0mpad\u001b[0m\u001b[0;34m(\u001b[0m\u001b[0mdense_data\u001b[0m\u001b[0;34m,\u001b[0m \u001b[0;34m[\u001b[0m\u001b[0;34m[\u001b[0m\u001b[0;36m0\u001b[0m\u001b[0;34m,\u001b[0m \u001b[0;36m0\u001b[0m\u001b[0;34m]\u001b[0m\u001b[0;34m,\u001b[0m \u001b[0;34m[\u001b[0m\u001b[0;36m0\u001b[0m\u001b[0;34m,\u001b[0m \u001b[0mpad_amt\u001b[0m\u001b[0;34m]\u001b[0m\u001b[0;34m]\u001b[0m\u001b[0;34m)\u001b[0m\u001b[0;34m\u001b[0m\u001b[0;34m\u001b[0m\u001b[0m\n",
            "\u001b[0;32m/usr/local/lib/python3.7/dist-packages/tensorflow/python/util/dispatch.py\u001b[0m in \u001b[0;36mwrapper\u001b[0;34m(*args, **kwargs)\u001b[0m\n\u001b[1;32m    204\u001b[0m     \u001b[0;34m\"\"\"Call target, and fall back on dispatchers if there is a TypeError.\"\"\"\u001b[0m\u001b[0;34m\u001b[0m\u001b[0;34m\u001b[0m\u001b[0m\n\u001b[1;32m    205\u001b[0m     \u001b[0;32mtry\u001b[0m\u001b[0;34m:\u001b[0m\u001b[0;34m\u001b[0m\u001b[0;34m\u001b[0m\u001b[0m\n\u001b[0;32m--> 206\u001b[0;31m       \u001b[0;32mreturn\u001b[0m \u001b[0mtarget\u001b[0m\u001b[0;34m(\u001b[0m\u001b[0;34m*\u001b[0m\u001b[0margs\u001b[0m\u001b[0;34m,\u001b[0m \u001b[0;34m**\u001b[0m\u001b[0mkwargs\u001b[0m\u001b[0;34m)\u001b[0m\u001b[0;34m\u001b[0m\u001b[0;34m\u001b[0m\u001b[0m\n\u001b[0m\u001b[1;32m    207\u001b[0m     \u001b[0;32mexcept\u001b[0m \u001b[0;34m(\u001b[0m\u001b[0mTypeError\u001b[0m\u001b[0;34m,\u001b[0m \u001b[0mValueError\u001b[0m\u001b[0;34m)\u001b[0m\u001b[0;34m:\u001b[0m\u001b[0;34m\u001b[0m\u001b[0;34m\u001b[0m\u001b[0m\n\u001b[1;32m    208\u001b[0m       \u001b[0;31m# Note: convert_to_eager_tensor currently raises a ValueError, not a\u001b[0m\u001b[0;34m\u001b[0m\u001b[0;34m\u001b[0m\u001b[0;34m\u001b[0m\u001b[0m\n",
            "\u001b[0;32m/usr/local/lib/python3.7/dist-packages/tensorflow/python/ops/array_ops.py\u001b[0m in \u001b[0;36m_slice_helper\u001b[0;34m(tensor, slice_spec, var)\u001b[0m\n\u001b[1;32m   1049\u001b[0m         \u001b[0mellipsis_mask\u001b[0m\u001b[0;34m=\u001b[0m\u001b[0mellipsis_mask\u001b[0m\u001b[0;34m,\u001b[0m\u001b[0;34m\u001b[0m\u001b[0;34m\u001b[0m\u001b[0m\n\u001b[1;32m   1050\u001b[0m         \u001b[0mvar\u001b[0m\u001b[0;34m=\u001b[0m\u001b[0mvar\u001b[0m\u001b[0;34m,\u001b[0m\u001b[0;34m\u001b[0m\u001b[0;34m\u001b[0m\u001b[0m\n\u001b[0;32m-> 1051\u001b[0;31m         name=name)\n\u001b[0m\u001b[1;32m   1052\u001b[0m \u001b[0;34m\u001b[0m\u001b[0m\n\u001b[1;32m   1053\u001b[0m \u001b[0;34m\u001b[0m\u001b[0m\n",
            "\u001b[0;32m/usr/local/lib/python3.7/dist-packages/tensorflow/python/util/dispatch.py\u001b[0m in \u001b[0;36mwrapper\u001b[0;34m(*args, **kwargs)\u001b[0m\n\u001b[1;32m    204\u001b[0m     \u001b[0;34m\"\"\"Call target, and fall back on dispatchers if there is a TypeError.\"\"\"\u001b[0m\u001b[0;34m\u001b[0m\u001b[0;34m\u001b[0m\u001b[0m\n\u001b[1;32m    205\u001b[0m     \u001b[0;32mtry\u001b[0m\u001b[0;34m:\u001b[0m\u001b[0;34m\u001b[0m\u001b[0;34m\u001b[0m\u001b[0m\n\u001b[0;32m--> 206\u001b[0;31m       \u001b[0;32mreturn\u001b[0m \u001b[0mtarget\u001b[0m\u001b[0;34m(\u001b[0m\u001b[0;34m*\u001b[0m\u001b[0margs\u001b[0m\u001b[0;34m,\u001b[0m \u001b[0;34m**\u001b[0m\u001b[0mkwargs\u001b[0m\u001b[0;34m)\u001b[0m\u001b[0;34m\u001b[0m\u001b[0;34m\u001b[0m\u001b[0m\n\u001b[0m\u001b[1;32m    207\u001b[0m     \u001b[0;32mexcept\u001b[0m \u001b[0;34m(\u001b[0m\u001b[0mTypeError\u001b[0m\u001b[0;34m,\u001b[0m \u001b[0mValueError\u001b[0m\u001b[0;34m)\u001b[0m\u001b[0;34m:\u001b[0m\u001b[0;34m\u001b[0m\u001b[0;34m\u001b[0m\u001b[0m\n\u001b[1;32m    208\u001b[0m       \u001b[0;31m# Note: convert_to_eager_tensor currently raises a ValueError, not a\u001b[0m\u001b[0;34m\u001b[0m\u001b[0;34m\u001b[0m\u001b[0;34m\u001b[0m\u001b[0m\n",
            "\u001b[0;32m/usr/local/lib/python3.7/dist-packages/tensorflow/python/ops/array_ops.py\u001b[0m in \u001b[0;36mstrided_slice\u001b[0;34m(input_, begin, end, strides, begin_mask, end_mask, ellipsis_mask, new_axis_mask, shrink_axis_mask, var, name)\u001b[0m\n\u001b[1;32m   1221\u001b[0m       \u001b[0mellipsis_mask\u001b[0m\u001b[0;34m=\u001b[0m\u001b[0mellipsis_mask\u001b[0m\u001b[0;34m,\u001b[0m\u001b[0;34m\u001b[0m\u001b[0;34m\u001b[0m\u001b[0m\n\u001b[1;32m   1222\u001b[0m       \u001b[0mnew_axis_mask\u001b[0m\u001b[0;34m=\u001b[0m\u001b[0mnew_axis_mask\u001b[0m\u001b[0;34m,\u001b[0m\u001b[0;34m\u001b[0m\u001b[0;34m\u001b[0m\u001b[0m\n\u001b[0;32m-> 1223\u001b[0;31m       shrink_axis_mask=shrink_axis_mask)\n\u001b[0m\u001b[1;32m   1224\u001b[0m \u001b[0;34m\u001b[0m\u001b[0m\n\u001b[1;32m   1225\u001b[0m   \u001b[0mparent_name\u001b[0m \u001b[0;34m=\u001b[0m \u001b[0mname\u001b[0m\u001b[0;34m\u001b[0m\u001b[0;34m\u001b[0m\u001b[0m\n",
            "\u001b[0;32m/usr/local/lib/python3.7/dist-packages/tensorflow/python/ops/gen_array_ops.py\u001b[0m in \u001b[0;36mstrided_slice\u001b[0;34m(input, begin, end, strides, begin_mask, end_mask, ellipsis_mask, new_axis_mask, shrink_axis_mask, name)\u001b[0m\n\u001b[1;32m  10503\u001b[0m       \u001b[0;32mreturn\u001b[0m \u001b[0m_result\u001b[0m\u001b[0;34m\u001b[0m\u001b[0;34m\u001b[0m\u001b[0m\n\u001b[1;32m  10504\u001b[0m     \u001b[0;32mexcept\u001b[0m \u001b[0m_core\u001b[0m\u001b[0;34m.\u001b[0m\u001b[0m_NotOkStatusException\u001b[0m \u001b[0;32mas\u001b[0m \u001b[0me\u001b[0m\u001b[0;34m:\u001b[0m\u001b[0;34m\u001b[0m\u001b[0;34m\u001b[0m\u001b[0m\n\u001b[0;32m> 10505\u001b[0;31m       \u001b[0m_ops\u001b[0m\u001b[0;34m.\u001b[0m\u001b[0mraise_from_not_ok_status\u001b[0m\u001b[0;34m(\u001b[0m\u001b[0me\u001b[0m\u001b[0;34m,\u001b[0m \u001b[0mname\u001b[0m\u001b[0;34m)\u001b[0m\u001b[0;34m\u001b[0m\u001b[0;34m\u001b[0m\u001b[0m\n\u001b[0m\u001b[1;32m  10506\u001b[0m     \u001b[0;32mexcept\u001b[0m \u001b[0m_core\u001b[0m\u001b[0;34m.\u001b[0m\u001b[0m_FallbackException\u001b[0m\u001b[0;34m:\u001b[0m\u001b[0;34m\u001b[0m\u001b[0;34m\u001b[0m\u001b[0m\n\u001b[1;32m  10507\u001b[0m       \u001b[0;32mpass\u001b[0m\u001b[0;34m\u001b[0m\u001b[0;34m\u001b[0m\u001b[0m\n",
            "\u001b[0;32m/usr/local/lib/python3.7/dist-packages/tensorflow/python/framework/ops.py\u001b[0m in \u001b[0;36mraise_from_not_ok_status\u001b[0;34m(e, name)\u001b[0m\n\u001b[1;32m   6895\u001b[0m   \u001b[0mmessage\u001b[0m \u001b[0;34m=\u001b[0m \u001b[0me\u001b[0m\u001b[0;34m.\u001b[0m\u001b[0mmessage\u001b[0m \u001b[0;34m+\u001b[0m \u001b[0;34m(\u001b[0m\u001b[0;34m\" name: \"\u001b[0m \u001b[0;34m+\u001b[0m \u001b[0mname\u001b[0m \u001b[0;32mif\u001b[0m \u001b[0mname\u001b[0m \u001b[0;32mis\u001b[0m \u001b[0;32mnot\u001b[0m \u001b[0;32mNone\u001b[0m \u001b[0;32melse\u001b[0m \u001b[0;34m\"\"\u001b[0m\u001b[0;34m)\u001b[0m\u001b[0;34m\u001b[0m\u001b[0;34m\u001b[0m\u001b[0m\n\u001b[1;32m   6896\u001b[0m   \u001b[0;31m# pylint: disable=protected-access\u001b[0m\u001b[0;34m\u001b[0m\u001b[0;34m\u001b[0m\u001b[0;34m\u001b[0m\u001b[0m\n\u001b[0;32m-> 6897\u001b[0;31m   \u001b[0msix\u001b[0m\u001b[0;34m.\u001b[0m\u001b[0mraise_from\u001b[0m\u001b[0;34m(\u001b[0m\u001b[0mcore\u001b[0m\u001b[0;34m.\u001b[0m\u001b[0m_status_to_exception\u001b[0m\u001b[0;34m(\u001b[0m\u001b[0me\u001b[0m\u001b[0;34m.\u001b[0m\u001b[0mcode\u001b[0m\u001b[0;34m,\u001b[0m \u001b[0mmessage\u001b[0m\u001b[0;34m)\u001b[0m\u001b[0;34m,\u001b[0m \u001b[0;32mNone\u001b[0m\u001b[0;34m)\u001b[0m\u001b[0;34m\u001b[0m\u001b[0;34m\u001b[0m\u001b[0m\n\u001b[0m\u001b[1;32m   6898\u001b[0m   \u001b[0;31m# pylint: enable=protected-access\u001b[0m\u001b[0;34m\u001b[0m\u001b[0;34m\u001b[0m\u001b[0;34m\u001b[0m\u001b[0m\n\u001b[1;32m   6899\u001b[0m \u001b[0;34m\u001b[0m\u001b[0m\n",
            "\u001b[0;32m/usr/local/lib/python3.7/dist-packages/six.py\u001b[0m in \u001b[0;36mraise_from\u001b[0;34m(value, from_value)\u001b[0m\n",
            "\u001b[0;31mInvalidArgumentError\u001b[0m: slice index 1 of dimension 0 out of bounds. [Op:StridedSlice] name: text_vectorization_3/strided_slice/"
          ]
        }
      ]
    },
    {
      "cell_type": "code",
      "metadata": {
        "colab": {
          "base_uri": "https://localhost:8080/"
        },
        "id": "8QaSg27lsZ-2",
        "outputId": "f9f77f00-220d-4233-e4b6-600891dd8541"
      },
      "source": [
        "tf.expand_dims(first_txt,axis=-1)"
      ],
      "execution_count": 162,
      "outputs": [
        {
          "output_type": "execute_result",
          "data": {
            "text/plain": [
              "<tf.Tensor: shape=(1,), dtype=string, numpy=\n",
              "array([b\"This Documentary (Now available free on Video.Google.Com) is a fantastic demonstration of the power of ordinary people to overcome injustice. Everyone must see this.<br /><br />Chavez was elected in a landslide vote in 1998. His platform was to divert the fantastic oil wealth from the 20% middle class to the 80% poor. He banned foreign drift net fishing in Venezuelan waters. He sent 10,000 Cuban doctors to the slums to treat the sick for free. He wiped out illiteracy and set up new free Universities. <br /><br />But it was his 30% tax on oil company profits that got him in trouble with the Bush administration. In 2002, while Irish film makers Kim Bartley and Donnacha O'Briain were interviewing Chavez inside the Presidential Palace about his social programs, a CIA backed coup was launched. With the cameras rolling, Chavez was captured and flown out of the country. It was announced on national TV that he had 'resigned'.<br /><br />But the poor of Venezuela didn't believe the media. They went to the Palace in their millions and demanded that Chavez be returned. In the face of such overwhelming numbers, the military turned on the coup leaders and the plotters fled to the US. Chavez was rescued by military helicopter and returned to jubilation.\"],\n",
              "      dtype=object)>"
            ]
          },
          "metadata": {
            "tags": []
          },
          "execution_count": 162
        }
      ]
    },
    {
      "cell_type": "code",
      "metadata": {
        "colab": {
          "base_uri": "https://localhost:8080/",
          "height": 306
        },
        "id": "l6VZ7mGLxWIQ",
        "outputId": "c078bc56-29df-46d8-b02e-86f3f5a24db1"
      },
      "source": [
        "vectorize_layer.get_vocabulary()[:10]"
      ],
      "execution_count": 163,
      "outputs": [
        {
          "output_type": "error",
          "ename": "IndexError",
          "evalue": "ignored",
          "traceback": [
            "\u001b[0;31m---------------------------------------------------------------------------\u001b[0m",
            "\u001b[0;31mIndexError\u001b[0m                                Traceback (most recent call last)",
            "\u001b[0;32m<ipython-input-163-fa047178fbc9>\u001b[0m in \u001b[0;36m<module>\u001b[0;34m()\u001b[0m\n\u001b[0;32m----> 1\u001b[0;31m \u001b[0mvectorize_layer\u001b[0m\u001b[0;34m.\u001b[0m\u001b[0mget_vocabulary\u001b[0m\u001b[0;34m(\u001b[0m\u001b[0;34m)\u001b[0m\u001b[0;34m[\u001b[0m\u001b[0;34m:\u001b[0m\u001b[0;36m10\u001b[0m\u001b[0;34m]\u001b[0m\u001b[0;34m\u001b[0m\u001b[0;34m\u001b[0m\u001b[0m\n\u001b[0m",
            "\u001b[0;32m/usr/local/lib/python3.7/dist-packages/tensorflow/python/keras/layers/preprocessing/text_vectorization.py\u001b[0m in \u001b[0;36mget_vocabulary\u001b[0;34m(self)\u001b[0m\n\u001b[1;32m    417\u001b[0m \u001b[0;34m\u001b[0m\u001b[0m\n\u001b[1;32m    418\u001b[0m   \u001b[0;32mdef\u001b[0m \u001b[0mget_vocabulary\u001b[0m\u001b[0;34m(\u001b[0m\u001b[0mself\u001b[0m\u001b[0;34m)\u001b[0m\u001b[0;34m:\u001b[0m\u001b[0;34m\u001b[0m\u001b[0;34m\u001b[0m\u001b[0m\n\u001b[0;32m--> 419\u001b[0;31m     \u001b[0;32mreturn\u001b[0m \u001b[0mself\u001b[0m\u001b[0;34m.\u001b[0m\u001b[0m_index_lookup_layer\u001b[0m\u001b[0;34m.\u001b[0m\u001b[0mget_vocabulary\u001b[0m\u001b[0;34m(\u001b[0m\u001b[0;34m)\u001b[0m\u001b[0;34m\u001b[0m\u001b[0;34m\u001b[0m\u001b[0m\n\u001b[0m\u001b[1;32m    420\u001b[0m \u001b[0;34m\u001b[0m\u001b[0m\n\u001b[1;32m    421\u001b[0m   \u001b[0;32mdef\u001b[0m \u001b[0mvocabulary_size\u001b[0m\u001b[0;34m(\u001b[0m\u001b[0mself\u001b[0m\u001b[0;34m)\u001b[0m\u001b[0;34m:\u001b[0m\u001b[0;34m\u001b[0m\u001b[0;34m\u001b[0m\u001b[0m\n",
            "\u001b[0;32m/usr/local/lib/python3.7/dist-packages/tensorflow/python/keras/layers/preprocessing/string_lookup.py\u001b[0m in \u001b[0;36mget_vocabulary\u001b[0;34m(self)\u001b[0m\n\u001b[1;32m    302\u001b[0m \u001b[0;34m\u001b[0m\u001b[0m\n\u001b[1;32m    303\u001b[0m   \u001b[0;32mdef\u001b[0m \u001b[0mget_vocabulary\u001b[0m\u001b[0;34m(\u001b[0m\u001b[0mself\u001b[0m\u001b[0;34m)\u001b[0m\u001b[0;34m:\u001b[0m\u001b[0;34m\u001b[0m\u001b[0;34m\u001b[0m\u001b[0m\n\u001b[0;32m--> 304\u001b[0;31m     \u001b[0mvocab\u001b[0m \u001b[0;34m=\u001b[0m \u001b[0msuper\u001b[0m\u001b[0;34m(\u001b[0m\u001b[0mStringLookup\u001b[0m\u001b[0;34m,\u001b[0m \u001b[0mself\u001b[0m\u001b[0;34m)\u001b[0m\u001b[0;34m.\u001b[0m\u001b[0mget_vocabulary\u001b[0m\u001b[0;34m(\u001b[0m\u001b[0;34m)\u001b[0m\u001b[0;34m\u001b[0m\u001b[0;34m\u001b[0m\u001b[0m\n\u001b[0m\u001b[1;32m    305\u001b[0m     \u001b[0;32mreturn\u001b[0m \u001b[0;34m[\u001b[0m\u001b[0mcompat\u001b[0m\u001b[0;34m.\u001b[0m\u001b[0mas_text\u001b[0m\u001b[0;34m(\u001b[0m\u001b[0mx\u001b[0m\u001b[0;34m,\u001b[0m \u001b[0mself\u001b[0m\u001b[0;34m.\u001b[0m\u001b[0mencoding\u001b[0m\u001b[0;34m)\u001b[0m \u001b[0;32mfor\u001b[0m \u001b[0mx\u001b[0m \u001b[0;32min\u001b[0m \u001b[0mvocab\u001b[0m\u001b[0;34m]\u001b[0m\u001b[0;34m\u001b[0m\u001b[0;34m\u001b[0m\u001b[0m\n\u001b[1;32m    306\u001b[0m \u001b[0;34m\u001b[0m\u001b[0m\n",
            "\u001b[0;32m/usr/local/lib/python3.7/dist-packages/tensorflow/python/keras/layers/preprocessing/index_lookup.py\u001b[0m in \u001b[0;36mget_vocabulary\u001b[0;34m(self)\u001b[0m\n\u001b[1;32m    380\u001b[0m     \u001b[0mvocab\u001b[0m \u001b[0;34m=\u001b[0m \u001b[0;34m[\u001b[0m\u001b[0mlookup\u001b[0m\u001b[0;34m[\u001b[0m\u001b[0mx\u001b[0m\u001b[0;34m]\u001b[0m \u001b[0;32mfor\u001b[0m \u001b[0mx\u001b[0m \u001b[0;32min\u001b[0m \u001b[0mrange\u001b[0m\u001b[0;34m(\u001b[0m\u001b[0mself\u001b[0m\u001b[0;34m.\u001b[0m\u001b[0mvocabulary_size\u001b[0m\u001b[0;34m(\u001b[0m\u001b[0;34m)\u001b[0m\u001b[0;34m)\u001b[0m\u001b[0;34m]\u001b[0m\u001b[0;34m\u001b[0m\u001b[0;34m\u001b[0m\u001b[0m\n\u001b[1;32m    381\u001b[0m     \u001b[0;32mif\u001b[0m \u001b[0mself\u001b[0m\u001b[0;34m.\u001b[0m\u001b[0mmask_token\u001b[0m \u001b[0;32mis\u001b[0m \u001b[0;32mnot\u001b[0m \u001b[0;32mNone\u001b[0m \u001b[0;32mand\u001b[0m \u001b[0mself\u001b[0m\u001b[0;34m.\u001b[0m\u001b[0moutput_mode\u001b[0m \u001b[0;34m==\u001b[0m \u001b[0mINT\u001b[0m\u001b[0;34m:\u001b[0m\u001b[0;34m\u001b[0m\u001b[0;34m\u001b[0m\u001b[0m\n\u001b[0;32m--> 382\u001b[0;31m       \u001b[0mvocab\u001b[0m\u001b[0;34m[\u001b[0m\u001b[0;36m0\u001b[0m\u001b[0;34m]\u001b[0m \u001b[0;34m=\u001b[0m \u001b[0mself\u001b[0m\u001b[0;34m.\u001b[0m\u001b[0mmask_token\u001b[0m\u001b[0;34m\u001b[0m\u001b[0;34m\u001b[0m\u001b[0m\n\u001b[0m\u001b[1;32m    383\u001b[0m \u001b[0;34m\u001b[0m\u001b[0m\n\u001b[1;32m    384\u001b[0m     \u001b[0;32mreturn\u001b[0m \u001b[0mvocab\u001b[0m\u001b[0;34m\u001b[0m\u001b[0;34m\u001b[0m\u001b[0m\n",
            "\u001b[0;31mIndexError\u001b[0m: list assignment index out of range"
          ]
        }
      ]
    },
    {
      "cell_type": "code",
      "metadata": {
        "colab": {
          "base_uri": "https://localhost:8080/"
        },
        "id": "G5L2HgbPsw3C",
        "outputId": "4f77d1a9-4d41-460f-fc71-88a81908de82"
      },
      "source": [
        "vectorize_layer(tf.expand_dims(first_txt,axis=-1))"
      ],
      "execution_count": 164,
      "outputs": [
        {
          "output_type": "execute_result",
          "data": {
            "text/plain": [
              "<tf.Tensor: shape=(1, 250), dtype=int64, numpy=\n",
              "array([[1, 1, 1, 1, 1, 1, 1, 1, 1, 1, 1, 1, 1, 1, 1, 1, 1, 1, 1, 1, 1, 1,\n",
              "        1, 1, 1, 1, 1, 1, 1, 1, 1, 1, 1, 1, 1, 1, 1, 1, 1, 1, 1, 1, 1, 1,\n",
              "        1, 1, 1, 1, 1, 1, 1, 1, 1, 1, 1, 1, 1, 1, 1, 1, 1, 1, 1, 1, 1, 1,\n",
              "        1, 1, 1, 1, 1, 1, 1, 1, 1, 1, 1, 1, 1, 1, 1, 1, 1, 1, 1, 1, 1, 1,\n",
              "        1, 1, 1, 1, 1, 1, 1, 1, 1, 1, 1, 1, 1, 1, 1, 1, 1, 1, 1, 1, 1, 1,\n",
              "        1, 1, 1, 1, 1, 1, 1, 1, 1, 1, 1, 1, 1, 1, 1, 1, 1, 1, 1, 1, 1, 1,\n",
              "        1, 1, 1, 1, 1, 1, 1, 1, 1, 1, 1, 1, 1, 1, 1, 1, 1, 1, 1, 1, 1, 1,\n",
              "        1, 1, 1, 1, 1, 1, 1, 1, 1, 1, 1, 1, 1, 1, 1, 1, 1, 1, 1, 1, 1, 1,\n",
              "        1, 1, 1, 1, 1, 1, 1, 1, 1, 1, 1, 1, 1, 1, 1, 1, 1, 1, 1, 1, 1, 1,\n",
              "        1, 1, 1, 1, 1, 1, 1, 1, 0, 0, 0, 0, 0, 0, 0, 0, 0, 0, 0, 0, 0, 0,\n",
              "        0, 0, 0, 0, 0, 0, 0, 0, 0, 0, 0, 0, 0, 0, 0, 0, 0, 0, 0, 0, 0, 0,\n",
              "        0, 0, 0, 0, 0, 0, 0, 0]])>"
            ]
          },
          "metadata": {
            "tags": []
          },
          "execution_count": 164
        }
      ]
    },
    {
      "cell_type": "code",
      "metadata": {
        "id": "my-fa-Bks0ns"
      },
      "source": [
        "train_text=train_ds.map(lambda x ,y: x)"
      ],
      "execution_count": 165,
      "outputs": []
    },
    {
      "cell_type": "code",
      "metadata": {
        "id": "NfN-_VqdxJqa"
      },
      "source": [
        "vectorize_layer.adapt(train_text)"
      ],
      "execution_count": 166,
      "outputs": []
    },
    {
      "cell_type": "code",
      "metadata": {
        "colab": {
          "base_uri": "https://localhost:8080/"
        },
        "id": "ZUp_PYukxKQo",
        "outputId": "d0b90f77-f5cd-4eba-8e4c-08ec23210a69"
      },
      "source": [
        "vectorize_layer.get_vocabulary()[:10]"
      ],
      "execution_count": 167,
      "outputs": [
        {
          "output_type": "execute_result",
          "data": {
            "text/plain": [
              "['', '[UNK]', 'the', 'and', 'a', 'of', 'to', 'is', 'in', 'it']"
            ]
          },
          "metadata": {
            "tags": []
          },
          "execution_count": 167
        }
      ]
    },
    {
      "cell_type": "code",
      "metadata": {
        "colab": {
          "base_uri": "https://localhost:8080/"
        },
        "id": "7BZ4TknX0GFh",
        "outputId": "95b915de-bed1-4657-e836-27e972af1186"
      },
      "source": [
        "first_txt.numpy()"
      ],
      "execution_count": 169,
      "outputs": [
        {
          "output_type": "execute_result",
          "data": {
            "text/plain": [
              "b\"This Documentary (Now available free on Video.Google.Com) is a fantastic demonstration of the power of ordinary people to overcome injustice. Everyone must see this.<br /><br />Chavez was elected in a landslide vote in 1998. His platform was to divert the fantastic oil wealth from the 20% middle class to the 80% poor. He banned foreign drift net fishing in Venezuelan waters. He sent 10,000 Cuban doctors to the slums to treat the sick for free. He wiped out illiteracy and set up new free Universities. <br /><br />But it was his 30% tax on oil company profits that got him in trouble with the Bush administration. In 2002, while Irish film makers Kim Bartley and Donnacha O'Briain were interviewing Chavez inside the Presidential Palace about his social programs, a CIA backed coup was launched. With the cameras rolling, Chavez was captured and flown out of the country. It was announced on national TV that he had 'resigned'.<br /><br />But the poor of Venezuela didn't believe the media. They went to the Palace in their millions and demanded that Chavez be returned. In the face of such overwhelming numbers, the military turned on the coup leaders and the plotters fled to the US. Chavez was rescued by military helicopter and returned to jubilation.\""
            ]
          },
          "metadata": {
            "tags": []
          },
          "execution_count": 169
        }
      ]
    },
    {
      "cell_type": "code",
      "metadata": {
        "colab": {
          "base_uri": "https://localhost:8080/"
        },
        "id": "usW3PnH8xShg",
        "outputId": "37b27336-fc27-4cc1-d071-db8a9b6e231a"
      },
      "source": [
        "vectorize_layer(tf.expand_dims(first_txt,axis=-1))"
      ],
      "execution_count": 168,
      "outputs": [
        {
          "output_type": "execute_result",
          "data": {
            "text/plain": [
              "<tf.Tensor: shape=(1, 250), dtype=int64, numpy=\n",
              "array([[  10,  676,  158, 1412,  962,   20,    1,    7,    4,  768,    1,\n",
              "           5,    2,  664,    5, 1809,   77,    6, 3042, 8554,  302,  217,\n",
              "          65,    1,   13, 8402,    8,    4,    1, 2188,    8, 6825,   24,\n",
              "        7397,   13,    6,    1,    2,  768, 3340, 3672,   36,    2,  955,\n",
              "         759,  797,    6,    2, 3461,  339,   27, 3921, 2060, 8011, 5767,\n",
              "        5627,    8,    1, 3956,   27, 1345,    1, 6337, 3836,    6,    2,\n",
              "           1,    6, 1656,    2, 1187,   16,  962,   27, 6586,   44,    1,\n",
              "           3,  272,   54,  153,  962,    1,   18,    9,   13,   24, 1183,\n",
              "        6840,   20, 3340, 1145, 9978,   12,  183,   88,    8, 1137,   15,\n",
              "           2, 3458, 9612,    8, 3809,  136, 2524,   19, 1346, 2560,    1,\n",
              "           3,    1,    1,   66,    1, 6345,  979,    2, 8952, 5388,   42,\n",
              "          24, 1007, 5528,    4, 3600, 7342, 5801,   13,    1,   15,    2,\n",
              "        3948, 2698, 6345,   13, 1798,    3,    1,   44,    5,    2,  694,\n",
              "           9,   13, 8070,   20, 1987,  245,   12,   27,   67,    1,    2,\n",
              "         339,    5,    1,  150,  253,    2, 1802,   34,  412,    6,    2,\n",
              "        5388,    8,   64, 3022,    3,    1,   12, 6345,   26, 3616,    8,\n",
              "           2,  376,    5,  135, 4269, 1494,    2, 1239,  660,   20,    2,\n",
              "        5801, 5611,    3,    2,    1,    1,    6,    2,  170, 6345,   13,\n",
              "        6617,   32, 1239, 4055,    3, 3616,    6,    1,    0,    0,    0,\n",
              "           0,    0,    0,    0,    0,    0,    0,    0,    0,    0,    0,\n",
              "           0,    0,    0,    0,    0,    0,    0,    0,    0,    0,    0,\n",
              "           0,    0,    0,    0,    0,    0,    0,    0,    0,    0,    0,\n",
              "           0,    0,    0,    0,    0,    0,    0,    0]])>"
            ]
          },
          "metadata": {
            "tags": []
          },
          "execution_count": 168
        }
      ]
    },
    {
      "cell_type": "code",
      "metadata": {
        "id": "aS28ISkw0tK7"
      },
      "source": [
        "def vectorize_text(text,lbl):\n",
        "  text=tf.expand_dims(text,axis=-1)\n",
        "  return vectorize_layer(text),lbl\n"
      ],
      "execution_count": 182,
      "outputs": []
    },
    {
      "cell_type": "code",
      "metadata": {
        "id": "p00FxVY9xjGb"
      },
      "source": [
        "train_ds_r1=train_ds.map(vectorize_text)\n",
        "valid_ds_r1=valid_ds.map(vectorize_text)\n",
        "test_ds_r1=test_ds.map(vectorize_text)"
      ],
      "execution_count": 183,
      "outputs": []
    },
    {
      "cell_type": "code",
      "metadata": {
        "colab": {
          "base_uri": "https://localhost:8080/"
        },
        "id": "RRk5rtbb0lsp",
        "outputId": "e4e21287-b078-4cad-8736-97636183fa6e"
      },
      "source": [
        "next(iter(train_ds_r1))"
      ],
      "execution_count": 184,
      "outputs": [
        {
          "output_type": "execute_result",
          "data": {
            "text/plain": [
              "(<tf.Tensor: shape=(32, 250), dtype=int64, numpy=\n",
              " array([[  10,   17,    7, ...,    0,    0,    0],\n",
              "        [ 317,  742,    2, ...,    0,    0,    0],\n",
              "        [3372,    5,  195, ...,   61,    4,    1],\n",
              "        ...,\n",
              "        [ 764,    6,  129, ...,    0,    0,    0],\n",
              "        [5395,    1,    1, ...,   66,    1,    5],\n",
              "        [  40,  624,   20, ...,    0,    0,    0]])>,\n",
              " <tf.Tensor: shape=(32,), dtype=int32, numpy=\n",
              " array([0, 1, 0, 0, 1, 0, 0, 0, 0, 0, 1, 0, 0, 0, 1, 1, 0, 0, 0, 1, 0, 1,\n",
              "        1, 0, 0, 1, 0, 0, 0, 1, 1, 1], dtype=int32)>)"
            ]
          },
          "metadata": {
            "tags": []
          },
          "execution_count": 184
        }
      ]
    },
    {
      "cell_type": "markdown",
      "metadata": {
        "id": "VxBTApuc1Qwy"
      },
      "source": [
        "## Performance Tuning"
      ]
    },
    {
      "cell_type": "code",
      "metadata": {
        "id": "nmPNyEzv09yl"
      },
      "source": [
        "AUTOTUNE= tf.data.AUTOTUNE\n",
        "train_ds_r1=train_ds_r1.cache().prefetch(buffer_size=AUTOTUNE)\n",
        "valid_ds_r1=valid_ds_r1.cache().prefetch(buffer_size=AUTOTUNE)\n",
        "test_ds_r1=test_ds_r1.cache().prefetch(buffer_size=AUTOTUNE)"
      ],
      "execution_count": 185,
      "outputs": []
    },
    {
      "cell_type": "code",
      "metadata": {
        "colab": {
          "base_uri": "https://localhost:8080/"
        },
        "id": "-kvfZFqt1tba",
        "outputId": "852c0b1c-eea5-4b6d-aa0e-940b66029ec5"
      },
      "source": [
        "embedding_dim=16\n",
        "\n",
        "model=tf.keras.models.Sequential()\n",
        "model.add(tf.keras.layers.Embedding(max_features+1,embedding_dim))\n",
        "model.add(tf.keras.layers.Dropout(0.2))\n",
        "model.add(tf.keras.layers.GlobalAveragePooling1D())\n",
        "model.add(tf.keras.layers.Dropout(0.2))\n",
        "model.add(tf.keras.layers.Dense(1))\n",
        "model.summary()"
      ],
      "execution_count": 186,
      "outputs": [
        {
          "output_type": "stream",
          "text": [
            "Model: \"sequential_4\"\n",
            "_________________________________________________________________\n",
            "Layer (type)                 Output Shape              Param #   \n",
            "=================================================================\n",
            "embedding_3 (Embedding)      (None, None, 16)          160016    \n",
            "_________________________________________________________________\n",
            "dropout_5 (Dropout)          (None, None, 16)          0         \n",
            "_________________________________________________________________\n",
            "global_average_pooling1d_2 ( (None, 16)                0         \n",
            "_________________________________________________________________\n",
            "dropout_6 (Dropout)          (None, 16)                0         \n",
            "_________________________________________________________________\n",
            "dense_2 (Dense)              (None, 1)                 17        \n",
            "=================================================================\n",
            "Total params: 160,033\n",
            "Trainable params: 160,033\n",
            "Non-trainable params: 0\n",
            "_________________________________________________________________\n"
          ],
          "name": "stdout"
        }
      ]
    },
    {
      "cell_type": "code",
      "metadata": {
        "id": "9S3g0dBc2W9F"
      },
      "source": [
        "model.compile(optimizer='adam',loss=tf.keras.losses.BinaryCrossentropy(from_logits=True),metrics=['accuracy'])"
      ],
      "execution_count": 187,
      "outputs": []
    },
    {
      "cell_type": "code",
      "metadata": {
        "colab": {
          "base_uri": "https://localhost:8080/"
        },
        "id": "GlIz9uHu2yhA",
        "outputId": "8c648699-ba33-4172-c09e-30ca1636bc95"
      },
      "source": [
        "history=model.fit(train_ds_r1,epochs=10,validation_data=valid_ds_r1)"
      ],
      "execution_count": 188,
      "outputs": [
        {
          "output_type": "stream",
          "text": [
            "Epoch 1/10\n",
            "625/625 [==============================] - 12s 15ms/step - loss: 0.6658 - accuracy: 0.5044 - val_loss: 0.6179 - val_accuracy: 0.5078\n",
            "Epoch 2/10\n",
            "625/625 [==============================] - 4s 6ms/step - loss: 0.5529 - accuracy: 0.6567 - val_loss: 0.5026 - val_accuracy: 0.7114\n",
            "Epoch 3/10\n",
            "625/625 [==============================] - 4s 6ms/step - loss: 0.4496 - accuracy: 0.7865 - val_loss: 0.4264 - val_accuracy: 0.7920\n",
            "Epoch 4/10\n",
            "625/625 [==============================] - 4s 6ms/step - loss: 0.3827 - accuracy: 0.8360 - val_loss: 0.3817 - val_accuracy: 0.8182\n",
            "Epoch 5/10\n",
            "625/625 [==============================] - 4s 6ms/step - loss: 0.3400 - accuracy: 0.8585 - val_loss: 0.3543 - val_accuracy: 0.8346\n",
            "Epoch 6/10\n",
            "625/625 [==============================] - 4s 6ms/step - loss: 0.3090 - accuracy: 0.8745 - val_loss: 0.3357 - val_accuracy: 0.8450\n",
            "Epoch 7/10\n",
            "625/625 [==============================] - 4s 6ms/step - loss: 0.2851 - accuracy: 0.8831 - val_loss: 0.3226 - val_accuracy: 0.8526\n",
            "Epoch 8/10\n",
            "625/625 [==============================] - 4s 6ms/step - loss: 0.2662 - accuracy: 0.8936 - val_loss: 0.3133 - val_accuracy: 0.8574\n",
            "Epoch 9/10\n",
            "625/625 [==============================] - 4s 6ms/step - loss: 0.2502 - accuracy: 0.9011 - val_loss: 0.3066 - val_accuracy: 0.8610\n",
            "Epoch 10/10\n",
            "625/625 [==============================] - 4s 6ms/step - loss: 0.2346 - accuracy: 0.9074 - val_loss: 0.3024 - val_accuracy: 0.8638\n"
          ],
          "name": "stdout"
        }
      ]
    },
    {
      "cell_type": "code",
      "metadata": {
        "colab": {
          "base_uri": "https://localhost:8080/",
          "height": 370
        },
        "id": "yCLwVzOq38pg",
        "outputId": "7440a83a-3614-49f6-92dc-6db77f9d4b8d"
      },
      "source": [
        "import matplotlib.pyplot as plt\n",
        "\n",
        "fig,ax=plt.subplots(1,2,figsize=(12,5))\n",
        "epochs=range(len(history.history['accuracy']))\n",
        "\n",
        "ax[0].plot(epochs,history.history['accuracy'],label='train',lw=2,marker='o',color='tomato')\n",
        "ax[0].plot(epochs,history.history['val_accuracy'],label='val',lw=2,marker='*',color='teal')\n",
        "ax[0].set_title('Accuracy')\n",
        "ax[0].set_ylabel('Accuracy')\n",
        "ax[0].set_xlabel('Epochs')\n",
        "ax[0].legend()\n",
        "\n",
        "\n",
        "ax[1].plot(epochs,history.history['loss'],label='train',lw=2,marker='o',color='tomato')\n",
        "ax[1].plot(epochs,history.history['val_loss'],label='val',lw=2,marker='o',color='teal')\n",
        "ax[1].set_title('Loss')\n",
        "ax[1].legend()\n",
        "\n",
        "ax[1].set_ylabel('Loss')\n",
        "ax[1].set_xlabel('Epochs')\n",
        "plt.suptitle('Learning Curves')\n",
        "plt.show()"
      ],
      "execution_count": 196,
      "outputs": [
        {
          "output_type": "display_data",
          "data": {
            "image/png": "[encoded data removed]",
            "text/plain": [
              "<Figure size 864x360 with 2 Axes>"
            ]
          },
          "metadata": {
            "tags": [],
            "needs_background": "light"
          }
        }
      ]
    },
    {
      "cell_type": "code",
      "metadata": {
        "colab": {
          "base_uri": "https://localhost:8080/"
        },
        "id": "RfjMwkoV4o2a",
        "outputId": "ed838d58-7939-42a9-e239-84c7f37dbcfa"
      },
      "source": [
        "model.evaluate(test_ds_r1)"
      ],
      "execution_count": 197,
      "outputs": [
        {
          "output_type": "stream",
          "text": [
            "25000/25000 [==============================] - 56s 2ms/step - loss: 0.3195 - accuracy: 0.8512\n"
          ],
          "name": "stdout"
        },
        {
          "output_type": "execute_result",
          "data": {
            "text/plain": [
              "[0.31945502758026123, 0.8511999845504761]"
            ]
          },
          "metadata": {
            "tags": []
          },
          "execution_count": 197
        }
      ]
    },
    {
      "cell_type": "markdown",
      "metadata": {
        "id": "WUxpzE7C6mSd"
      },
      "source": [
        "## Adding vectorization step as part of the model"
      ]
    },
    {
      "cell_type": "code",
      "metadata": {
        "id": "_r3tF8_E55Mp"
      },
      "source": [
        "export_model=tf.keras.models.Sequential([\n",
        "    vectorize_layer,\n",
        "    model,\n",
        "    tf.keras.layers.Activation('sigmoid')]\n",
        ")"
      ],
      "execution_count": 199,
      "outputs": []
    },
    {
      "cell_type": "code",
      "metadata": {
        "colab": {
          "base_uri": "https://localhost:8080/"
        },
        "id": "XJT9QxYF61qJ",
        "outputId": "4a43de06-cc8a-422d-dfb6-5f5d16662245"
      },
      "source": [
        "export_model.compile(optimizer='adam',loss=tf.keras.losses.BinaryCrossentropy(),metrics=['accuracy'])\n",
        "export_model.evaluate(test_ds)"
      ],
      "execution_count": 200,
      "outputs": [
        {
          "output_type": "stream",
          "text": [
            "25000/25000 [==============================] - 66s 3ms/step - loss: 0.3195 - accuracy: 0.8674\n"
          ],
          "name": "stdout"
        },
        {
          "output_type": "execute_result",
          "data": {
            "text/plain": [
              "[0.31945502758026123, 0.8674399852752686]"
            ]
          },
          "metadata": {
            "tags": []
          },
          "execution_count": 200
        }
      ]
    },
    {
      "cell_type": "markdown",
      "metadata": {
        "id": "Ag25ffhB7SkI"
      },
      "source": [
        "## Raw Input"
      ]
    },
    {
      "cell_type": "code",
      "metadata": {
        "colab": {
          "base_uri": "https://localhost:8080/"
        },
        "id": "yZplYwZC7IG5",
        "outputId": "62fc0a07-ef72-4eeb-8871-d66e684c75a9"
      },
      "source": [
        "example=[\"The movie was great! and good , best, better , golden, amazing, happy \",\n",
        "         \"The movie was just ok\",\n",
        "         \"The movie was awful, bad, terrible, wrost, pathetic.\"]\n",
        "export_model.predict(example)"
      ],
      "execution_count": 210,
      "outputs": [
        {
          "output_type": "execute_result",
          "data": {
            "text/plain": [
              "array([[0.84408414],\n",
              "       [0.40890223],\n",
              "       [0.0810353 ]], dtype=float32)"
            ]
          },
          "metadata": {
            "tags": []
          },
          "execution_count": 210
        }
      ]
    },
    {
      "cell_type": "code",
      "metadata": {
        "id": "si-SW4mi7fCr"
      },
      "source": [
        ""
      ],
      "execution_count": null,
      "outputs": []
    }
  ]
}