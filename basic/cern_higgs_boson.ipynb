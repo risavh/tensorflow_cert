{
  "nbformat": 4,
  "nbformat_minor": 0,
  "metadata": {
    "colab": {
      "name": "cern_higgs_boson.ipynb",
      "provenance": [],
      "authorship_tag": "ABX9TyOuSX+J37gQfsmubGW7Lr8m",
      "include_colab_link": true
    },
    "kernelspec": {
      "name": "python3",
      "display_name": "Python 3"
    },
    "language_info": {
      "name": "python"
    },
    "accelerator": "GPU"
  },
  "cells": [
    {
      "cell_type": "markdown",
      "metadata": {
        "id": "view-in-github",
        "colab_type": "text"
      },
      "source": [
        "<a href=\"https://colab.research.google.com/github/riszwinger/tensorflow_cert/blob/main/basic/cern_higgs_boson.ipynb\" target=\"_parent\"><img src=\"https://colab.research.google.com/assets/colab-badge.svg\" alt=\"Open In Colab\"/></a>"
      ]
    },
    {
      "cell_type": "code",
      "metadata": {
        "colab": {
          "base_uri": "https://localhost:8080/"
        },
        "id": "8H7X0GmjMdQw",
        "outputId": "58c80085-5be5-4b77-fa12-895eb6e71ce1"
      },
      "source": [
        "import tensorflow as tf\n",
        "import numpy as np\n",
        "import pandas as pd\n",
        "import matplotlib.pyplot as plt\n",
        "import seaborn as sns\n",
        "\n",
        "!pip install git+https://github.com/tensorflow/docs\n",
        "\n",
        "import tensorflow_docs as tfdocs\n",
        "import tensorflow_docs.modeling\n",
        "import tensorflow_docs.plots  \n",
        "\n",
        "import pathlib\n",
        "import tempfile\n",
        "import shutil\n",
        "\n",
        "print('GPU is','avaliable' if tf.config.list_physical_devices('GPU') else 'not avaliable')\n",
        "print('TF Version: {}'.format(tf.__version__))"
      ],
      "execution_count": 47,
      "outputs": [
        {
          "output_type": "stream",
          "text": [
            "Collecting git+https://github.com/tensorflow/docs\n",
            "  Cloning https://github.com/tensorflow/docs to /tmp/pip-req-build-y35r6zoq\n",
            "  Running command git clone -q https://github.com/tensorflow/docs /tmp/pip-req-build-y35r6zoq\n",
            "Requirement already satisfied: astor in /usr/local/lib/python3.7/dist-packages (from tensorflow-docs===0.0.0b993e77054dcafbd8b0da0a9d6f9ad7c10975901-) (0.8.1)\n",
            "Requirement already satisfied: absl-py in /usr/local/lib/python3.7/dist-packages (from tensorflow-docs===0.0.0b993e77054dcafbd8b0da0a9d6f9ad7c10975901-) (0.12.0)\n",
            "Requirement already satisfied: protobuf>=3.14 in /usr/local/lib/python3.7/dist-packages (from tensorflow-docs===0.0.0b993e77054dcafbd8b0da0a9d6f9ad7c10975901-) (3.17.3)\n",
            "Requirement already satisfied: pyyaml in /usr/local/lib/python3.7/dist-packages (from tensorflow-docs===0.0.0b993e77054dcafbd8b0da0a9d6f9ad7c10975901-) (3.13)\n",
            "Requirement already satisfied: six>=1.9 in /usr/local/lib/python3.7/dist-packages (from protobuf>=3.14->tensorflow-docs===0.0.0b993e77054dcafbd8b0da0a9d6f9ad7c10975901-) (1.15.0)\n",
            "GPU is avaliable\n",
            "TF Version: 2.5.0\n"
          ],
          "name": "stdout"
        }
      ]
    },
    {
      "cell_type": "markdown",
      "metadata": {
        "id": "j6DlJISBNMAP"
      },
      "source": [
        "## Read Data"
      ]
    },
    {
      "cell_type": "code",
      "metadata": {
        "colab": {
          "base_uri": "https://localhost:8080/"
        },
        "id": "x9gh3afINLp7",
        "outputId": "b95d2f72-b08f-4324-c277-23377f8b1b0e"
      },
      "source": [
        "gz=tf.keras.utils.get_file('HIGGS.csv.gz', 'http://mlphysics.ics.uci.edu/data/higgs/HIGGS.csv.gz')\n",
        "print(gz)"
      ],
      "execution_count": 2,
      "outputs": [
        {
          "output_type": "stream",
          "text": [
            "Downloading data from http://mlphysics.ics.uci.edu/data/higgs/HIGGS.csv.gz\n",
            "2816409600/2816407858 [==============================] - 124s 0us/step\n",
            "/root/.keras/datasets/HIGGS.csv.gz\n"
          ],
          "name": "stdout"
        }
      ]
    },
    {
      "cell_type": "code",
      "metadata": {
        "colab": {
          "base_uri": "https://localhost:8080/"
        },
        "id": "lzbzDtxFMrKO",
        "outputId": "0b27fc05-e5ec-44d5-cac6-e48e992cd339"
      },
      "source": [
        "!ls /root/.keras/datasets/HIGGS.csv.gz\n"
      ],
      "execution_count": 3,
      "outputs": [
        {
          "output_type": "stream",
          "text": [
            "/root/.keras/datasets/HIGGS.csv.gz\n"
          ],
          "name": "stdout"
        }
      ]
    },
    {
      "cell_type": "code",
      "metadata": {
        "id": "C6T0cNcGOe_g"
      },
      "source": [
        "features=28"
      ],
      "execution_count": 4,
      "outputs": []
    },
    {
      "cell_type": "code",
      "metadata": {
        "id": "r5Twp90pNvYU"
      },
      "source": [
        "df=tf.data.experimental.CsvDataset(gz,record_defaults=[float(),]*(features+1),compression_type='GZIP')"
      ],
      "execution_count": 19,
      "outputs": []
    },
    {
      "cell_type": "code",
      "metadata": {
        "colab": {
          "base_uri": "https://localhost:8080/"
        },
        "id": "V9J8ULKbOKxm",
        "outputId": "15b4ac06-2877-4ea3-c1b8-c374ea3bcf10"
      },
      "source": [
        "type(df)"
      ],
      "execution_count": 20,
      "outputs": [
        {
          "output_type": "execute_result",
          "data": {
            "text/plain": [
              "tensorflow.python.data.experimental.ops.readers.CsvDatasetV2"
            ]
          },
          "metadata": {
            "tags": []
          },
          "execution_count": 20
        }
      ]
    },
    {
      "cell_type": "code",
      "metadata": {
        "colab": {
          "base_uri": "https://localhost:8080/"
        },
        "id": "ClQ16yrAOpnf",
        "outputId": "6f642d8a-7ca9-47e5-b3ac-2847ab511d51"
      },
      "source": [
        "df"
      ],
      "execution_count": 21,
      "outputs": [
        {
          "output_type": "execute_result",
          "data": {
            "text/plain": [
              "<CsvDatasetV2 shapes: ((), (), (), (), (), (), (), (), (), (), (), (), (), (), (), (), (), (), (), (), (), (), (), (), (), (), (), (), ()), types: (tf.float32, tf.float32, tf.float32, tf.float32, tf.float32, tf.float32, tf.float32, tf.float32, tf.float32, tf.float32, tf.float32, tf.float32, tf.float32, tf.float32, tf.float32, tf.float32, tf.float32, tf.float32, tf.float32, tf.float32, tf.float32, tf.float32, tf.float32, tf.float32, tf.float32, tf.float32, tf.float32, tf.float32, tf.float32)>"
            ]
          },
          "metadata": {
            "tags": []
          },
          "execution_count": 21
        }
      ]
    },
    {
      "cell_type": "code",
      "metadata": {
        "id": "Z3wZgyAeOq4H"
      },
      "source": [
        "def map_data(*row):\n",
        "  label=row[0]\n",
        "  features=tf.stack(row[1:],axis=1)\n",
        "  return features,label"
      ],
      "execution_count": 22,
      "outputs": []
    },
    {
      "cell_type": "code",
      "metadata": {
        "id": "IeWVqSzwOtGZ"
      },
      "source": [
        "packed_df=df.batch(10000).map(map_data).unbatch()"
      ],
      "execution_count": 23,
      "outputs": []
    },
    {
      "cell_type": "code",
      "metadata": {
        "colab": {
          "base_uri": "https://localhost:8080/"
        },
        "id": "XIChFTExZUuk",
        "outputId": "206d43bb-f29f-4d98-8c69-2574dbb21671"
      },
      "source": [
        "type(packed_df)"
      ],
      "execution_count": 24,
      "outputs": [
        {
          "output_type": "execute_result",
          "data": {
            "text/plain": [
              "tensorflow.python.data.ops.dataset_ops._UnbatchDataset"
            ]
          },
          "metadata": {
            "tags": []
          },
          "execution_count": 24
        }
      ]
    },
    {
      "cell_type": "code",
      "metadata": {
        "colab": {
          "base_uri": "https://localhost:8080/",
          "height": 352
        },
        "id": "5aOSYDXiZM48",
        "outputId": "3d3eb410-39b8-4182-d257-43b347785b4d"
      },
      "source": [
        "for features,lbl in packed_df.batch(1000).take(1):\n",
        "  print(features[0].numpy())\n",
        "  plt.hist(features.numpy().flatten(),bins=100)"
      ],
      "execution_count": 30,
      "outputs": [
        {
          "output_type": "stream",
          "text": [
            "[ 0.8692932  -0.6350818   0.22569026  0.32747006 -0.6899932   0.75420225\n",
            " -0.24857314 -1.0920639   0.          1.3749921  -0.6536742   0.9303491\n",
            "  1.1074361   1.1389043  -1.5781983  -1.0469854   0.          0.65792954\n",
            " -0.01045457 -0.04576717  3.1019614   1.35376     0.9795631   0.97807616\n",
            "  0.92000484  0.72165745  0.98875093  0.87667835]\n"
          ],
          "name": "stdout"
        },
        {
          "output_type": "display_data",
          "data": {
            "image/png": "[encoded data removed]",
            "text/plain": [
              "<Figure size 432x288 with 1 Axes>"
            ]
          },
          "metadata": {
            "tags": [],
            "needs_background": "light"
          }
        }
      ]
    },
    {
      "cell_type": "code",
      "metadata": {
        "colab": {
          "base_uri": "https://localhost:8080/"
        },
        "id": "xNs3hbwgZcmI",
        "outputId": "267b0edf-beab-4ebc-c340-7411fc029e53"
      },
      "source": [
        "n_validation= int(1e3)\n",
        "n_train=int(1e4)\n",
        "buffer_size=int(1e4)\n",
        "batch_size=500\n",
        "steps_per_epoch=n_train//batch_size\n",
        "print('Number of Training: {}\\nNumber of Validation: {}'.format(n_train,n_validation))\n",
        "print('Buffer Size: {}\\nBatch Size: {}\\nSteps Per Epcoch: {}'.format(n_train,n_validation,steps_per_epoch))"
      ],
      "execution_count": 37,
      "outputs": [
        {
          "output_type": "stream",
          "text": [
            "Number of Training: 10000\n",
            "Number of Validation: 1000\n",
            "Buffer Size: 10000\n",
            "Batch Size: 1000\n",
            "Steps Per Epcoch: 20\n"
          ],
          "name": "stdout"
        }
      ]
    },
    {
      "cell_type": "code",
      "metadata": {
        "id": "0M0CuXmndNOe"
      },
      "source": [
        "valid_ds = packed_df.take(n_validation).cache()\n",
        "train_ds=packed_df.skip(n_validation).take(n_train).cache()"
      ],
      "execution_count": 34,
      "outputs": []
    },
    {
      "cell_type": "code",
      "metadata": {
        "colab": {
          "base_uri": "https://localhost:8080/"
        },
        "id": "94mf1VRJdyDP",
        "outputId": "e0974a2f-a776-4879-d273-1fb830311782"
      },
      "source": [
        "train_ds"
      ],
      "execution_count": 35,
      "outputs": [
        {
          "output_type": "execute_result",
          "data": {
            "text/plain": [
              "<CacheDataset shapes: ((28,), ()), types: (tf.float32, tf.float32)>"
            ]
          },
          "metadata": {
            "tags": []
          },
          "execution_count": 35
        }
      ]
    },
    {
      "cell_type": "code",
      "metadata": {
        "id": "Fy3v-75bd2Ce"
      },
      "source": [
        "valid_ds=valid_ds.batch(batch_size)\n",
        "train_ds=train_ds.shuffle(buffer_size).repeat().batch(batch_size)"
      ],
      "execution_count": 38,
      "outputs": []
    },
    {
      "cell_type": "code",
      "metadata": {
        "id": "Icy8R0velOzG"
      },
      "source": [
        "logdir = pathlib.Path(tempfile.mkdtemp())/\"tensorboard_logs\"\n",
        "shutil.rmtree(logdir, ignore_errors=True)"
      ],
      "execution_count": 48,
      "outputs": []
    },
    {
      "cell_type": "markdown",
      "metadata": {
        "id": "Mju3tnpHhwYh"
      },
      "source": [
        "## Reduce learning rate while training "
      ]
    },
    {
      "cell_type": "code",
      "metadata": {
        "id": "ElnUd4wyhvvq"
      },
      "source": [
        "lr_rate = tf.keras.optimizers.schedules.InverseTimeDecay(0.001,decay_steps=steps_per_epoch*1000,decay_rate=1,staircase=False)\n",
        "\n",
        "def get_optimizer():\n",
        "  return tf.keras.optimizers.Adam(lr_rate)"
      ],
      "execution_count": 49,
      "outputs": []
    },
    {
      "cell_type": "code",
      "metadata": {
        "id": "lbm69btie-3I"
      },
      "source": [
        "def callbacks(name):\n",
        "  return [\n",
        "          tfdocs.modeling.EpochDots(),\n",
        "          tf.keras.callbacks.EarlyStopping(monitor='val_binary_crossentropy', patience=200),\n",
        "    tf.keras.callbacks.TensorBoard(logdir/name),\n",
        "  ]"
      ],
      "execution_count": 50,
      "outputs": []
    },
    {
      "cell_type": "code",
      "metadata": {
        "id": "tbtnryn_lF04"
      },
      "source": [
        "def compile_and_fit(model, name, optimizer=None, max_epochs=10000):\n",
        "  if optimizer is None:\n",
        "    optimizer = get_optimizer()\n",
        "  model.compile(optimizer=optimizer,\n",
        "                loss=tf.keras.losses.BinaryCrossentropy(from_logits=True),\n",
        "                metrics=[\n",
        "                  tf.keras.losses.BinaryCrossentropy(\n",
        "                      from_logits=True, name='binary_crossentropy'),\n",
        "                  'accuracy'])\n",
        "\n",
        "  model.summary()\n",
        "\n",
        "  history = model.fit(\n",
        "    train_ds,\n",
        "    steps_per_epoch = STEPS_PER_EPOCH,\n",
        "    epochs=max_epochs,\n",
        "    validation_data=validate_ds,\n",
        "    callbacks=get_callbacks(name),\n",
        "    verbose=0)\n",
        "  return history"
      ],
      "execution_count": 51,
      "outputs": []
    },
    {
      "cell_type": "code",
      "metadata": {
        "id": "Clm3_JqcltkX"
      },
      "source": [
        ""
      ],
      "execution_count": null,
      "outputs": []
    }
  ]
}