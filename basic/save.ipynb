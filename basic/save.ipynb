{
  "nbformat": 4,
  "nbformat_minor": 0,
  "metadata": {
    "colab": {
      "name": "save.ipynb",
      "provenance": [],
      "authorship_tag": "ABX9TyObd6QtMYZikKEoflRRaakw",
      "include_colab_link": true
    },
    "kernelspec": {
      "name": "python3",
      "display_name": "Python 3"
    },
    "language_info": {
      "name": "python"
    }
  },
  "cells": [
    {
      "cell_type": "markdown",
      "metadata": {
        "id": "view-in-github",
        "colab_type": "text"
      },
      "source": [
        "<a href=\"https://colab.research.google.com/github/riszwinger/tensorflow_cert/blob/main/basic/save.ipynb\" target=\"_parent\"><img src=\"https://colab.research.google.com/assets/colab-badge.svg\" alt=\"Open In Colab\"/></a>"
      ]
    },
    {
      "cell_type": "code",
      "metadata": {
        "colab": {
          "base_uri": "https://localhost:8080/"
        },
        "id": "_iEW786PoNht",
        "outputId": "359e7a6f-fab1-4a12-abb2-4c52c6f85c1f"
      },
      "source": [
        "pip install pyyaml h5py  # Required to save models in HDF5 format"
      ],
      "execution_count": 15,
      "outputs": [
        {
          "output_type": "stream",
          "text": [
            "Requirement already satisfied: pyyaml in /usr/local/lib/python3.7/dist-packages (3.13)\n",
            "Requirement already satisfied: h5py in /usr/local/lib/python3.7/dist-packages (3.1.0)\n",
            "Requirement already satisfied: numpy>=1.14.5 in /usr/local/lib/python3.7/dist-packages (from h5py) (1.19.5)\n",
            "Requirement already satisfied: cached-property in /usr/local/lib/python3.7/dist-packages (from h5py) (1.5.2)\n"
          ],
          "name": "stdout"
        }
      ]
    },
    {
      "cell_type": "code",
      "metadata": {
        "colab": {
          "base_uri": "https://localhost:8080/"
        },
        "id": "hKhg_phHmHz4",
        "outputId": "0ac47d80-37f3-43cb-8efd-676e5bebbe03"
      },
      "source": [
        "import tensorflow as tf\n",
        "import os\n",
        "\n",
        "print('TF Version: {}'.format(tf.version.VERSION))\n",
        "print('GPU is','avaiable' if tf.config.list_physical_devices('GPU') else 'not avaliable')"
      ],
      "execution_count": 21,
      "outputs": [
        {
          "output_type": "stream",
          "text": [
            "TF Version: 2.6.0\n",
            "GPU is not avaliable\n"
          ],
          "name": "stdout"
        }
      ]
    },
    {
      "cell_type": "code",
      "metadata": {
        "colab": {
          "base_uri": "https://localhost:8080/"
        },
        "id": "8h5U-jXBmZix",
        "outputId": "7a7b138d-99d3-446f-fd53-003f8d84a725"
      },
      "source": [
        "(X_train,y_train),(X_test,y_test)=tf.keras.datasets.mnist.load_data()"
      ],
      "execution_count": 3,
      "outputs": [
        {
          "output_type": "stream",
          "text": [
            "Downloading data from https://storage.googleapis.com/tensorflow/tf-keras-datasets/mnist.npz\n",
            "11493376/11490434 [==============================] - 0s 0us/step\n",
            "11501568/11490434 [==============================] - 0s 0us/step\n"
          ],
          "name": "stdout"
        }
      ]
    },
    {
      "cell_type": "code",
      "metadata": {
        "colab": {
          "base_uri": "https://localhost:8080/"
        },
        "id": "SwMVImL4mspN",
        "outputId": "6cfe1eff-c1f5-45ca-c6b9-61a06161eeff"
      },
      "source": [
        "print('X train Shape: {} y Train Shape: {}'.format(X_train.shape,y_train.shape))\n",
        "print('X Test Shape: {} y Test Shape: {}'.format(X_test.shape,y_test.shape))"
      ],
      "execution_count": 4,
      "outputs": [
        {
          "output_type": "stream",
          "text": [
            "X train Shape: (60000, 28, 28) y Train Shape: (60000,)\n",
            "X Test Shape: (10000, 28, 28) y Test Shape: (10000,)\n"
          ],
          "name": "stdout"
        }
      ]
    },
    {
      "cell_type": "code",
      "metadata": {
        "id": "Lb1r0spLm8MV"
      },
      "source": [
        "X_train=X_train[:1000].reshape(-1,28*28)/255.0\n",
        "X_test=X_test[:1000].reshape(-1,28*28)/255.0"
      ],
      "execution_count": 8,
      "outputs": []
    },
    {
      "cell_type": "code",
      "metadata": {
        "id": "exMJ9p7bnerE"
      },
      "source": [
        "y_train=y_train[:1000]\n",
        "y_test=y_test[:1000]"
      ],
      "execution_count": 10,
      "outputs": []
    },
    {
      "cell_type": "code",
      "metadata": {
        "colab": {
          "base_uri": "https://localhost:8080/"
        },
        "id": "ktTAIqo1nCx5",
        "outputId": "9a5fc54c-07db-4711-b46d-64f6467bf9fb"
      },
      "source": [
        "print('X train Shape: {} y Train Shape: {}'.format(X_train.shape,y_train.shape))\n",
        "print('X Test Shape: {} y Test Shape: {}'.format(X_test.shape,y_test.shape))"
      ],
      "execution_count": 11,
      "outputs": [
        {
          "output_type": "stream",
          "text": [
            "X train Shape: (1000, 784) y Train Shape: (1000,)\n",
            "X Test Shape: (1000, 784) y Test Shape: (1000,)\n"
          ],
          "name": "stdout"
        }
      ]
    },
    {
      "cell_type": "code",
      "metadata": {
        "id": "uUoDFQFSnI_K"
      },
      "source": [
        "def create_model():\n",
        "  model=tf.keras.models.Sequential()\n",
        "  model.add(tf.keras.layers.Dense(512,activation='relu',input_shape=(784,)))\n",
        "  model.add(tf.keras.layers.Dropout(0.2))\n",
        "  model.add(tf.keras.layers.Dense(10))\n",
        "\n",
        "  model.compile(optimizer='adam',loss=tf.keras.losses.SparseCategoricalCrossentropy(from_logits=True),metrics=['accuracy'])\n",
        "\n",
        "  return model"
      ],
      "execution_count": 16,
      "outputs": []
    },
    {
      "cell_type": "code",
      "metadata": {
        "colab": {
          "base_uri": "https://localhost:8080/"
        },
        "id": "guUCH7CMoDVu",
        "outputId": "9d89a9d0-0cdb-4095-c7a0-bd8eada3a4d4"
      },
      "source": [
        "model =create_model()\n",
        "model.summary()"
      ],
      "execution_count": 17,
      "outputs": [
        {
          "output_type": "stream",
          "text": [
            "Model: \"sequential\"\n",
            "_________________________________________________________________\n",
            "Layer (type)                 Output Shape              Param #   \n",
            "=================================================================\n",
            "dense (Dense)                (None, 512)               401920    \n",
            "_________________________________________________________________\n",
            "dropout (Dropout)            (None, 512)               0         \n",
            "_________________________________________________________________\n",
            "dense_1 (Dense)              (None, 10)                5130      \n",
            "=================================================================\n",
            "Total params: 407,050\n",
            "Trainable params: 407,050\n",
            "Non-trainable params: 0\n",
            "_________________________________________________________________\n"
          ],
          "name": "stdout"
        }
      ]
    },
    {
      "cell_type": "code",
      "metadata": {
        "colab": {
          "base_uri": "https://localhost:8080/"
        },
        "id": "ni8lYnzqojHt",
        "outputId": "685051c4-f945-449c-9f8a-b9637efc3bac"
      },
      "source": [
        "chkpoint_path='training_1/cp.ckpt'\n",
        "\n",
        "\n",
        "op_callback=tf.keras.callbacks.ModelCheckpoint(filepath=chkpoint_path,save_weights_only=True,verbose=1)\n",
        "\n",
        "model.fit(X_train,y_train,epochs=10,validation_data=(X_test,y_test),callbacks=[op_callback])"
      ],
      "execution_count": 19,
      "outputs": [
        {
          "output_type": "stream",
          "text": [
            "Epoch 1/10\n",
            "32/32 [==============================] - 1s 12ms/step - loss: 2.2931 - accuracy: 0.2550 - val_loss: 2.2806 - val_accuracy: 0.3520\n",
            "\n",
            "Epoch 00001: saving model to training_1/cp.ckpt\n",
            "Epoch 2/10\n",
            "32/32 [==============================] - 0s 7ms/step - loss: 2.2605 - accuracy: 0.3160 - val_loss: 2.2461 - val_accuracy: 0.3060\n",
            "\n",
            "Epoch 00002: saving model to training_1/cp.ckpt\n",
            "Epoch 3/10\n",
            "32/32 [==============================] - 0s 7ms/step - loss: 2.2087 - accuracy: 0.3380 - val_loss: 2.1924 - val_accuracy: 0.3490\n",
            "\n",
            "Epoch 00003: saving model to training_1/cp.ckpt\n",
            "Epoch 4/10\n",
            "32/32 [==============================] - 0s 7ms/step - loss: 2.1328 - accuracy: 0.4170 - val_loss: 2.1128 - val_accuracy: 0.4610\n",
            "\n",
            "Epoch 00004: saving model to training_1/cp.ckpt\n",
            "Epoch 5/10\n",
            "32/32 [==============================] - 0s 8ms/step - loss: 2.0312 - accuracy: 0.5140 - val_loss: 2.0158 - val_accuracy: 0.4550\n",
            "\n",
            "Epoch 00005: saving model to training_1/cp.ckpt\n",
            "Epoch 6/10\n",
            "32/32 [==============================] - 0s 7ms/step - loss: 1.9090 - accuracy: 0.5340 - val_loss: 1.9035 - val_accuracy: 0.5140\n",
            "\n",
            "Epoch 00006: saving model to training_1/cp.ckpt\n",
            "Epoch 7/10\n",
            "32/32 [==============================] - 0s 7ms/step - loss: 1.7766 - accuracy: 0.5900 - val_loss: 1.7909 - val_accuracy: 0.5120\n",
            "\n",
            "Epoch 00007: saving model to training_1/cp.ckpt\n",
            "Epoch 8/10\n",
            "32/32 [==============================] - 0s 7ms/step - loss: 1.6469 - accuracy: 0.6150 - val_loss: 1.6809 - val_accuracy: 0.5680\n",
            "\n",
            "Epoch 00008: saving model to training_1/cp.ckpt\n",
            "Epoch 9/10\n",
            "32/32 [==============================] - 0s 8ms/step - loss: 1.5271 - accuracy: 0.6400 - val_loss: 1.5732 - val_accuracy: 0.6070\n",
            "\n",
            "Epoch 00009: saving model to training_1/cp.ckpt\n",
            "Epoch 10/10\n",
            "32/32 [==============================] - 0s 7ms/step - loss: 1.4166 - accuracy: 0.6790 - val_loss: 1.4821 - val_accuracy: 0.6440\n",
            "\n",
            "Epoch 00010: saving model to training_1/cp.ckpt\n"
          ],
          "name": "stdout"
        },
        {
          "output_type": "execute_result",
          "data": {
            "text/plain": [
              "<keras.callbacks.History at 0x7f8c3cd40b50>"
            ]
          },
          "metadata": {},
          "execution_count": 19
        }
      ]
    },
    {
      "cell_type": "code",
      "metadata": {
        "colab": {
          "base_uri": "https://localhost:8080/",
          "height": 35
        },
        "id": "oKw4dLiNpZwj",
        "outputId": "806e776f-85ca-4d96-e8df-9028603cd0ab"
      },
      "source": [
        "os.path.dirname(chkpoint_path)"
      ],
      "execution_count": 23,
      "outputs": [
        {
          "output_type": "execute_result",
          "data": {
            "application/vnd.google.colaboratory.intrinsic+json": {
              "type": "string"
            },
            "text/plain": [
              "'training_1'"
            ]
          },
          "metadata": {},
          "execution_count": 23
        }
      ]
    },
    {
      "cell_type": "code",
      "metadata": {
        "colab": {
          "base_uri": "https://localhost:8080/"
        },
        "id": "fwhXcDklpiQ7",
        "outputId": "826055a0-3e2f-41a8-84b3-5c501c52d5e8"
      },
      "source": [
        "os.listdir(os.path.dirname(chkpoint_path))"
      ],
      "execution_count": 24,
      "outputs": [
        {
          "output_type": "execute_result",
          "data": {
            "text/plain": [
              "['cp.ckpt.data-00000-of-00001', 'cp.ckpt.index', 'checkpoint']"
            ]
          },
          "metadata": {},
          "execution_count": 24
        }
      ]
    },
    {
      "cell_type": "code",
      "metadata": {
        "colab": {
          "base_uri": "https://localhost:8080/"
        },
        "id": "yfbD8L4Spr4_",
        "outputId": "e8495e4d-2067-4f78-a520-e687c9d687b9"
      },
      "source": [
        "model1=create_model()\n",
        "\n",
        "loss,acc=model1.evaluate(X_test,y_test)\n",
        "print('Untrained Model Accuracy : {} %'.format(round(acc*100)))"
      ],
      "execution_count": 30,
      "outputs": [
        {
          "output_type": "stream",
          "text": [
            "32/32 [==============================] - 0s 2ms/step - loss: 2.3028 - accuracy: 0.0370\n",
            "Untrained Model Accuracy : 4 %\n"
          ],
          "name": "stdout"
        }
      ]
    },
    {
      "cell_type": "markdown",
      "metadata": {
        "id": "GevvFDWls0qZ"
      },
      "source": [
        "## As long as two models share the same architecture you can share weights between them"
      ]
    },
    {
      "cell_type": "code",
      "metadata": {
        "colab": {
          "base_uri": "https://localhost:8080/"
        },
        "id": "JBfCJRVvp-3O",
        "outputId": "578b2321-bbc8-4a1d-b275-bf644505e0b6"
      },
      "source": [
        "model1.load_weights(chkpoint_path)\n",
        "\n",
        "loss,acc=model1.evaluate(X_test,y_test)\n",
        "print('Trained Model Accuracy : {} %'.format(round(acc*100)))"
      ],
      "execution_count": 33,
      "outputs": [
        {
          "output_type": "stream",
          "text": [
            "32/32 [==============================] - 0s 2ms/step - loss: 1.4821 - accuracy: 0.6440\n",
            "Trained Model Accuracy : 64 %\n"
          ],
          "name": "stdout"
        }
      ]
    },
    {
      "cell_type": "markdown",
      "metadata": {
        "id": "-xkKwbYCtGnH"
      },
      "source": [
        "## Chkpoint with Freq"
      ]
    },
    {
      "cell_type": "code",
      "metadata": {
        "colab": {
          "base_uri": "https://localhost:8080/"
        },
        "id": "zMVYM8ocsrnq",
        "outputId": "9581843e-0ff3-4012-9de1-def4ee654fb8"
      },
      "source": [
        "chkpoint_dir='training_2/cp-{epoch:04d}.ckpt'\n",
        "chkpoint_path=os.path.dirname(chkpoint_dir)\n",
        "\n",
        "batch_size=32\n",
        "\n",
        "op_callback=tf.keras.callbacks.ModelCheckpoint(filepath=chkpoint_dir,save_weights_only=True,verbose=1,save_freq=5*batch_size)\n",
        "\n",
        "model3=create_model()\n",
        "\n",
        "model3.fit(X_train,y_train,epochs=50,validation_data=(X_test,y_test),callbacks=[op_callback],verbose=0)\n"
      ],
      "execution_count": 41,
      "outputs": [
        {
          "output_type": "stream",
          "text": [
            "\n",
            "Epoch 00005: saving model to training_2/cp-0005.ckpt\n",
            "\n",
            "Epoch 00010: saving model to training_2/cp-0010.ckpt\n",
            "\n",
            "Epoch 00015: saving model to training_2/cp-0015.ckpt\n",
            "\n",
            "Epoch 00020: saving model to training_2/cp-0020.ckpt\n",
            "\n",
            "Epoch 00025: saving model to training_2/cp-0025.ckpt\n",
            "\n",
            "Epoch 00030: saving model to training_2/cp-0030.ckpt\n",
            "\n",
            "Epoch 00035: saving model to training_2/cp-0035.ckpt\n",
            "\n",
            "Epoch 00040: saving model to training_2/cp-0040.ckpt\n",
            "\n",
            "Epoch 00045: saving model to training_2/cp-0045.ckpt\n",
            "\n",
            "Epoch 00050: saving model to training_2/cp-0050.ckpt\n"
          ],
          "name": "stdout"
        },
        {
          "output_type": "execute_result",
          "data": {
            "text/plain": [
              "<keras.callbacks.History at 0x7f8c3c85a150>"
            ]
          },
          "metadata": {},
          "execution_count": 41
        }
      ]
    },
    {
      "cell_type": "code",
      "metadata": {
        "colab": {
          "base_uri": "https://localhost:8080/"
        },
        "id": "eJVgqVpft3xF",
        "outputId": "ceaefc23-47bf-4951-b1b4-0d6442c93130"
      },
      "source": [
        "os.listdir(chkpoint_path)"
      ],
      "execution_count": 42,
      "outputs": [
        {
          "output_type": "execute_result",
          "data": {
            "text/plain": [
              "['cp-0040.ckpt.index',\n",
              " 'cp-0010.ckpt.data-00000-of-00001',\n",
              " 'cp-0040.ckpt.data-00000-of-00001',\n",
              " 'cp-0015.ckpt.data-00000-of-00001',\n",
              " 'cp-0050.ckpt.data-00000-of-00001',\n",
              " 'cp-0030.ckpt.data-00000-of-00001',\n",
              " 'cp-0045.ckpt.index',\n",
              " 'cp-0050.ckpt.index',\n",
              " 'cp-0035.ckpt.index',\n",
              " 'cp-0035.ckpt.data-00000-of-00001',\n",
              " 'cp-0010.ckpt.index',\n",
              " 'cp-0015.ckpt.index',\n",
              " 'cp-0005.ckpt.data-00000-of-00001',\n",
              " 'cp-0025.ckpt.index',\n",
              " 'cp-0020.ckpt.index',\n",
              " 'cp-0020.ckpt.data-00000-of-00001',\n",
              " 'cp-0005.ckpt.index',\n",
              " 'checkpoint',\n",
              " 'cp-0025.ckpt.data-00000-of-00001',\n",
              " 'cp-0030.ckpt.index',\n",
              " 'cp-0045.ckpt.data-00000-of-00001']"
            ]
          },
          "metadata": {},
          "execution_count": 42
        }
      ]
    },
    {
      "cell_type": "code",
      "metadata": {
        "colab": {
          "base_uri": "https://localhost:8080/"
        },
        "id": "CSooCSMEt9-3",
        "outputId": "81ee5981-68ce-4f35-c8f0-c8cdc6c95016"
      },
      "source": [
        "latest=tf.train.latest_checkpoint(chkpoint_path)\n",
        "print(latest)"
      ],
      "execution_count": 44,
      "outputs": [
        {
          "output_type": "stream",
          "text": [
            "training_2/cp-0050.ckpt\n"
          ],
          "name": "stdout"
        }
      ]
    },
    {
      "cell_type": "code",
      "metadata": {
        "colab": {
          "base_uri": "https://localhost:8080/"
        },
        "id": "G1c7o168uYpC",
        "outputId": "a98d9a6b-8161-4a7f-cdc9-f3566c71a173"
      },
      "source": [
        "model=create_model()\n",
        "\n",
        "loss,acc=model.evaluate(X_test,y_test)\n",
        "print('Untrained Model Accuracy : {} %'.format(round(acc*100)))\n",
        "\n",
        "model.load_weights(latest)\n",
        "\n",
        "loss,acc=model.evaluate(X_test,y_test)\n",
        "print('Trained Model Accuracy : {} %'.format(round(acc*100)))\n"
      ],
      "execution_count": 45,
      "outputs": [
        {
          "output_type": "stream",
          "text": [
            "32/32 [==============================] - 0s 3ms/step - loss: 2.3025 - accuracy: 0.0690\n",
            "Untrained Model Accuracy : 7 %\n",
            "32/32 [==============================] - 0s 2ms/step - loss: 0.5768 - accuracy: 0.8210\n",
            "Trained Model Accuracy : 82 %\n"
          ],
          "name": "stdout"
        }
      ]
    },
    {
      "cell_type": "markdown",
      "metadata": {
        "id": "RDcBwYoRwHVB"
      },
      "source": [
        "## Save Entire Model"
      ]
    },
    {
      "cell_type": "code",
      "metadata": {
        "colab": {
          "base_uri": "https://localhost:8080/"
        },
        "id": "nHc-2_nhvGo5",
        "outputId": "81f13272-2af0-48bf-9fc4-41659a94518c"
      },
      "source": [
        "model=create_model()\n",
        "\n",
        "model.fit(X_train,y_train,epochs=5,validation_data=(X_test,y_test))\n",
        "\n",
        "!mkdir -p saved_model\n",
        "model.save(\"saved_model/my_model\")"
      ],
      "execution_count": 46,
      "outputs": [
        {
          "output_type": "stream",
          "text": [
            "WARNING:tensorflow:Unresolved object in checkpoint: (root).optimizer.iter\n",
            "WARNING:tensorflow:Unresolved object in checkpoint: (root).optimizer.beta_1\n",
            "WARNING:tensorflow:Unresolved object in checkpoint: (root).optimizer.beta_2\n",
            "WARNING:tensorflow:Unresolved object in checkpoint: (root).optimizer.decay\n",
            "WARNING:tensorflow:Unresolved object in checkpoint: (root).optimizer.learning_rate\n",
            "WARNING:tensorflow:A checkpoint was restored (e.g. tf.train.Checkpoint.restore or tf.keras.Model.load_weights) but not all checkpointed values were used. See above for specific issues. Use expect_partial() on the load status object, e.g. tf.train.Checkpoint.restore(...).expect_partial(), to silence these warnings, or use assert_consumed() to make the check explicit. See https://www.tensorflow.org/guide/checkpoint#loading_mechanics for details.\n",
            "Epoch 1/5\n",
            "32/32 [==============================] - 1s 13ms/step - loss: 2.2927 - accuracy: 0.2480 - val_loss: 2.2797 - val_accuracy: 0.3300\n",
            "Epoch 2/5\n",
            "32/32 [==============================] - 0s 7ms/step - loss: 2.2574 - accuracy: 0.3900 - val_loss: 2.2419 - val_accuracy: 0.3200\n",
            "Epoch 3/5\n",
            "32/32 [==============================] - 0s 7ms/step - loss: 2.1991 - accuracy: 0.3940 - val_loss: 2.1790 - val_accuracy: 0.3610\n",
            "Epoch 4/5\n",
            "32/32 [==============================] - 0s 11ms/step - loss: 2.1139 - accuracy: 0.4780 - val_loss: 2.0926 - val_accuracy: 0.4730\n",
            "Epoch 5/5\n",
            "32/32 [==============================] - 0s 8ms/step - loss: 2.0018 - accuracy: 0.5080 - val_loss: 1.9841 - val_accuracy: 0.5020\n",
            "INFO:tensorflow:Assets written to: saved_model/my_model/assets\n"
          ],
          "name": "stdout"
        }
      ]
    },
    {
      "cell_type": "code",
      "metadata": {
        "colab": {
          "base_uri": "https://localhost:8080/"
        },
        "id": "wJoyIOAvwYx1",
        "outputId": "6a421d08-495c-4a7d-ee70-5b7d1967fb7d"
      },
      "source": [
        "!ls"
      ],
      "execution_count": 47,
      "outputs": [
        {
          "output_type": "stream",
          "text": [
            "sample_data  saved_model  training_1  training_2\n"
          ],
          "name": "stdout"
        }
      ]
    },
    {
      "cell_type": "code",
      "metadata": {
        "colab": {
          "base_uri": "https://localhost:8080/"
        },
        "id": "OhTwLZ5lwbPl",
        "outputId": "2f1a573b-dbe1-4bf5-8409-67b674258b45"
      },
      "source": [
        "!ls saved_model"
      ],
      "execution_count": 48,
      "outputs": [
        {
          "output_type": "stream",
          "text": [
            "my_model\n"
          ],
          "name": "stdout"
        }
      ]
    },
    {
      "cell_type": "code",
      "metadata": {
        "colab": {
          "base_uri": "https://localhost:8080/"
        },
        "id": "xmQRaCeUwdfm",
        "outputId": "e0e2d34f-1c2c-490f-a6d4-dacb16d1d429"
      },
      "source": [
        "!ls saved_model/my_model"
      ],
      "execution_count": 49,
      "outputs": [
        {
          "output_type": "stream",
          "text": [
            "assets\tkeras_metadata.pb  saved_model.pb  variables\n"
          ],
          "name": "stdout"
        }
      ]
    },
    {
      "cell_type": "code",
      "metadata": {
        "colab": {
          "base_uri": "https://localhost:8080/"
        },
        "id": "zSokj0ftwfjg",
        "outputId": "ff621ea5-1776-47c8-81f1-72240eb0d4f6"
      },
      "source": [
        "new_model=tf.keras.models.load_model(\"saved_model/my_model\")\n",
        "new_model.summary()\n",
        "loss,acc=new_model.evaluate(X_test,y_test)\n",
        "print('Trained Model Accuracy : {} %'.format(round(acc*100)))\n"
      ],
      "execution_count": 52,
      "outputs": [
        {
          "output_type": "stream",
          "text": [
            "Model: \"sequential_11\"\n",
            "_________________________________________________________________\n",
            "Layer (type)                 Output Shape              Param #   \n",
            "=================================================================\n",
            "dense_22 (Dense)             (None, 512)               401920    \n",
            "_________________________________________________________________\n",
            "dropout_11 (Dropout)         (None, 512)               0         \n",
            "_________________________________________________________________\n",
            "dense_23 (Dense)             (None, 10)                5130      \n",
            "=================================================================\n",
            "Total params: 407,050\n",
            "Trainable params: 407,050\n",
            "Non-trainable params: 0\n",
            "_________________________________________________________________\n",
            "32/32 [==============================] - 0s 2ms/step - loss: 1.9841 - accuracy: 0.5020\n",
            "Trained Model Accuracy : 50 %\n"
          ],
          "name": "stdout"
        }
      ]
    },
    {
      "cell_type": "markdown",
      "metadata": {
        "id": "TuRf6hVbxMmQ"
      },
      "source": [
        "## H5 file format"
      ]
    },
    {
      "cell_type": "code",
      "metadata": {
        "colab": {
          "base_uri": "https://localhost:8080/"
        },
        "id": "2-esOEKYwr0K",
        "outputId": "af7a0a84-3c0d-4b73-9d48-a681c666a5f5"
      },
      "source": [
        "model=create_model()\n",
        "\n",
        "model.fit(X_train,y_train,epochs=7)\n",
        "\n",
        "model.save('model.h5')"
      ],
      "execution_count": 56,
      "outputs": [
        {
          "output_type": "stream",
          "text": [
            "Epoch 1/7\n",
            "32/32 [==============================] - 1s 6ms/step - loss: 2.2918 - accuracy: 0.2830\n",
            "Epoch 2/7\n",
            "32/32 [==============================] - 0s 5ms/step - loss: 2.2559 - accuracy: 0.3550\n",
            "Epoch 3/7\n",
            "32/32 [==============================] - 0s 6ms/step - loss: 2.1977 - accuracy: 0.4040\n",
            "Epoch 4/7\n",
            "32/32 [==============================] - 0s 5ms/step - loss: 2.1106 - accuracy: 0.5040\n",
            "Epoch 5/7\n",
            "32/32 [==============================] - 0s 6ms/step - loss: 1.9962 - accuracy: 0.5240\n",
            "Epoch 6/7\n",
            "32/32 [==============================] - 0s 6ms/step - loss: 1.8660 - accuracy: 0.5510\n",
            "Epoch 7/7\n",
            "32/32 [==============================] - 0s 6ms/step - loss: 1.7265 - accuracy: 0.6140\n"
          ],
          "name": "stdout"
        }
      ]
    },
    {
      "cell_type": "code",
      "metadata": {
        "colab": {
          "base_uri": "https://localhost:8080/"
        },
        "id": "tUo00slaxXEf",
        "outputId": "8096f7f7-6519-45eb-eedf-26cac9c42eac"
      },
      "source": [
        "!ls"
      ],
      "execution_count": 57,
      "outputs": [
        {
          "output_type": "stream",
          "text": [
            "model.h5  sample_data  saved_model  training_1\ttraining_2\n"
          ],
          "name": "stdout"
        }
      ]
    },
    {
      "cell_type": "markdown",
      "metadata": {
        "id": "cexsNd16xgGj"
      },
      "source": [
        "## SavedModel Stores 4 things\n",
        "1. Model Architecture\n",
        "2. Model weights\n",
        "3. Config ( model.config values)\n",
        "4. Optimizr states to restart training , where we left.\n",
        "\n",
        "**HDF5 uses object configs to save the model architecture, while SavedModel saves the execution graph. Thus, SavedModels are able to save custom objects like subclassed models and custom layers without requiring the original code.**"
      ]
    },
    {
      "cell_type": "code",
      "metadata": {
        "id": "JaZ8YJ8jxeK9"
      },
      "source": [
        ""
      ],
      "execution_count": null,
      "outputs": []
    }
  ]
}